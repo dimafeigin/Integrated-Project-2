{
 "cells": [
  {
   "cell_type": "markdown",
   "metadata": {},
   "source": [
    "Hello Dima!\n",
    "\n",
    "My name is Olga. I'm happy to review your project today. \n",
    "\n",
    "When I will see mistake at the first time, I will just point it out. I let you find it and fix it by yourself. I'm trying to prepare you to work as an Data Analyst. SO, at a real job, your team lead will do the same. But if you can't handle this task yet, I will give you a more accurate hint at the next iteration.\n",
    "\n",
    "You will find my comments below - **please do not move, modify or delete them**.\n",
    "\n",
    "You can find my comments in green, yellow or red boxes like this:\n",
    "\n",
    "\n",
    "<div class=\"alert alert-block alert-success\">\n",
    "<b>Reviewer's comment</b> <a class=\"tocSkip\"></a>\n",
    "    \n",
    "Success. Everything is done succesfully.\n",
    "</div>\n",
    "\n",
    "\n",
    "<div class=\"alert alert-block alert-warning\">\n",
    "<b>Reviewer's comment</b> <a class=\"tocSkip\"></a>\n",
    "    \n",
    "Remarks. Some recommendations.\n",
    "</div>\n",
    "\n",
    "\n",
    "<div class=\"alert alert-block alert-danger\">\n",
    "    \n",
    "<b>Reviewer's comment</b> <a class=\"tocSkip\"></a>\n",
    "    \n",
    "    \n",
    "Needs fixing. The block requires some corrections. Work can't be accepted with the red comments.\n",
    "</div>\n",
    "\n",
    "\n",
    "You can answer me by using this: \n",
    "\n",
    "<div class=\"alert alert-block alert-info\">\n",
    "<b>Thank you for your review allbugs are fixed the solutions is under your remarks.</b> <a class=\"tocSkip\"></a>\n",
    "</div>"
   ]
  },
  {
   "cell_type": "markdown",
   "metadata": {},
   "source": [
    "<div class=\"alert alert-block alert-success\">\n",
    "<b>Overallv reviewer's comment</b> <a class=\"tocSkip\"></a>\n",
    "    \n",
    "Dima, thank you for sending your project. I'm glad to say that you've done a really good job.\n",
    "\n",
    "I like your comments and conclsuions. Very detailed and informative. And your code and graphs are clear, thank you for your work! It was a pleasure to review your project.\n",
    "\n",
    "<span class=\"text-danger\">There are few things that need to be corrected in your project. They're mostly minor issues that are easy to fix. Could you check my comments? Do not hesistate to ask an advice, if you have any problems!</span>\n",
    "    \n",
    "Every issue with our code is a chance for us to learn something new.\n",
    "\n",
    "Good luck! :)\n",
    "    \n",
    "\n",
    "</div>\n",
    "\n",
    "<div class=\"alert alert-block alert-success\">\n",
    "<b>Overallv reviewer's comment. V.2.</b> <a class=\"tocSkip\"></a>\n",
    "    \n",
    "Hi Dima! Your corrections look great, you've improved your work significantly!\n",
    "\n",
    "Now your project is a true \"A\". Congratulations!\n",
    "    \n",
    "I'm glad to say that your project has been accepted.\n",
    "    \n",
    "Keep at it. You're improving every day! :) </div>"
   ]
  },
  {
   "cell_type": "markdown",
   "metadata": {},
   "source": [
    "# Project Description / Business Problem\n",
    " **You work at a startup that sells food products. You need to investigate user behavior for the company's app. First study the sales funnel. Find out how users reach the purchase stage.**\n",
    " **Then look at the results of an A/A/B test. The designers would like to change the fonts for the entire app, but the managers are afraid the users might find the new design intimidating. They decide to make a decision based on the results of an A/A/B test. The users are split into three groups: two control groups get the old fonts and one test group gets the new ones. Find out which set of fonts produces better results. You'll be using the same dataset for general analytics and for A/A/B analysis. In real projects, experiments are constantly being conducted. Analysts study the quality of an app using general data, without paying attention to whether users are participating in experiments.**\n"
   ]
  },
  {
   "cell_type": "markdown",
   "metadata": {},
   "source": [
    "# Datasets Used\n",
    "Each log entry is a user action or an event.\n",
    "\n",
    "  - **EventName — event name** \n",
    "  - **DeviceIDHash — unique user identifier**\n",
    "  - **EventTimestamp — event time**\n",
    "  - **ExpId — experiment number: 246 and 247 are the control groups, 248 is the test group**\n"
   ]
  },
  {
   "cell_type": "markdown",
   "metadata": {},
   "source": [
    "<div class=\"alert alert-block alert-success\">\n",
    "<b>Reviewer's comment</b> <a class=\"tocSkip\"></a>\n",
    "    \n",
    "Great start with an introduction!</div>"
   ]
  },
  {
   "cell_type": "code",
   "execution_count": null,
   "metadata": {},
   "outputs": [
    {
     "name": "stdout",
     "output_type": "stream",
     "text": [
      "Collecting plotly==5.6.0\n",
      "  Downloading plotly-5.6.0-py2.py3-none-any.whl (27.7 MB)\n",
      "\u001b[K     |████████████████████████████████| 27.7 MB 1.2 MB/s eta 0:00:01\n",
      "\u001b[?25hRequirement already satisfied: tenacity>=6.2.0 in /opt/conda/lib/python3.9/site-packages (from plotly==5.6.0) (8.0.1)\n",
      "Requirement already satisfied: six in /opt/conda/lib/python3.9/site-packages (from plotly==5.6.0) (1.16.0)\n",
      "Installing collected packages: plotly\n",
      "  Attempting uninstall: plotly\n",
      "    Found existing installation: plotly 5.5.0\n",
      "    Uninstalling plotly-5.5.0:\n",
      "      Successfully uninstalled plotly-5.5.0\n"
     ]
    }
   ],
   "source": [
    " pip install plotly==5.6.0"
   ]
  },
  {
   "cell_type": "code",
   "execution_count": null,
   "metadata": {},
   "outputs": [],
   "source": [
    "import pandas as pd\n",
    "from matplotlib import pyplot as plt\n",
    "import seaborn as sns\n",
    "from scipy import stats as st\n",
    "import plotly.express as px\n",
    "import numpy as np\n",
    "from datetime import datetime\n",
    "import plotly.offline as py\n",
    "py.init_notebook_mode(connected=True)\n",
    "from plotly import graph_objects as go\n",
    "import plotly.express as px\n",
    "from statsmodels.stats.proportion import proportions_ztest\n",
    "from matplotlib import ticker\n",
    "from datetime import datetime, timedelta\n",
    "%matplotlib inline\n",
    "import math as mth"
   ]
  },
  {
   "cell_type": "markdown",
   "metadata": {},
   "source": [
    "<div class=\"alert alert-block alert-success\">\n",
    "<b>Reviewer's comment</b> <a class=\"tocSkip\"></a>\n",
    "    \n",
    "Thank you for the import libraries at the beginning. </div>"
   ]
  },
  {
   "cell_type": "markdown",
   "metadata": {},
   "source": [
    "### Open the data file and read the general information"
   ]
  },
  {
   "cell_type": "code",
   "execution_count": null,
   "metadata": {},
   "outputs": [],
   "source": [
    "logs_exp_us =pd.read_csv('/datasets/logs_exp_us.csv',sep='\\t')\n",
    "logs_exp_us.head()                          "
   ]
  },
  {
   "cell_type": "markdown",
   "metadata": {},
   "source": [
    "### Prepare the data for analysis"
   ]
  },
  {
   "cell_type": "code",
   "execution_count": null,
   "metadata": {},
   "outputs": [],
   "source": [
    "logs_exp_us.columns = ['event_name', 'user_id', 'timestamp', 'experiment_id']\n",
    "logs_exp_us.head()  "
   ]
  },
  {
   "cell_type": "code",
   "execution_count": null,
   "metadata": {},
   "outputs": [],
   "source": [
    "logs_exp_us['timestamp'] = logs_exp_us['timestamp'].apply(lambda x: datetime.fromtimestamp(x))\n"
   ]
  },
  {
   "cell_type": "code",
   "execution_count": null,
   "metadata": {},
   "outputs": [],
   "source": [
    "logs_exp_us.head()"
   ]
  },
  {
   "cell_type": "code",
   "execution_count": null,
   "metadata": {},
   "outputs": [],
   "source": [
    "logs_exp_us.event_name.unique()"
   ]
  },
  {
   "cell_type": "code",
   "execution_count": null,
   "metadata": {},
   "outputs": [],
   "source": [
    "logs_exp_us.info()"
   ]
  },
  {
   "cell_type": "code",
   "execution_count": null,
   "metadata": {},
   "outputs": [],
   "source": [
    "logs_exp_us.describe(include='all')"
   ]
  },
  {
   "cell_type": "markdown",
   "metadata": {},
   "source": [
    "#### Duplicates"
   ]
  },
  {
   "cell_type": "code",
   "execution_count": null,
   "metadata": {},
   "outputs": [],
   "source": [
    "logs_exp_us[logs_exp_us.duplicated(keep=False)]\n"
   ]
  },
  {
   "cell_type": "code",
   "execution_count": null,
   "metadata": {},
   "outputs": [],
   "source": [
    "len(logs_exp_us[logs_exp_us.duplicated(keep=False)]) - len(logs_exp_us[logs_exp_us.duplicated(\n",
    "    keep='first')]), (len(logs_exp_us[logs_exp_us.duplicated(keep=False)]) -\n",
    "                      len(logs_exp_us[logs_exp_us.duplicated(keep='first')])) / len(logs_exp_us) * 100"
   ]
  },
  {
   "cell_type": "markdown",
   "metadata": {},
   "source": [
    "We can observe that there are 355 (0.15%) rows that have been marked as duplicates. Based on the variables, it makes sense to drop them "
   ]
  },
  {
   "cell_type": "code",
   "execution_count": null,
   "metadata": {},
   "outputs": [],
   "source": [
    "logs_exp_us_1 = logs_exp_us[~logs_exp_us.duplicated()].reset_index(drop=True)\n"
   ]
  },
  {
   "cell_type": "code",
   "execution_count": null,
   "metadata": {},
   "outputs": [],
   "source": [
    "logs_exp_us_1"
   ]
  },
  {
   "cell_type": "markdown",
   "metadata": {},
   "source": [
    "#### Add a date and time column and a separate column for dates\n"
   ]
  },
  {
   "cell_type": "code",
   "execution_count": null,
   "metadata": {},
   "outputs": [],
   "source": [
    "logs_exp_us['day'] = logs_exp_us['timestamp'].dt.date\n",
    "logs_exp_us['hour'] = logs_exp_us['timestamp'].dt.hour\n",
    "logs_exp_us['day_hour'] = pd.to_datetime(logs_exp_us['day']) + pd.to_timedelta(logs_exp_us.hour,\n",
    "                                                                 unit='h')"
   ]
  },
  {
   "cell_type": "code",
   "execution_count": null,
   "metadata": {},
   "outputs": [],
   "source": [
    "logs_exp_us"
   ]
  },
  {
   "cell_type": "markdown",
   "metadata": {},
   "source": [
    "<div class=\"alert alert-block alert-success\">\n",
    "<b>Reviewer's comment</b> <a class=\"tocSkip\"></a>\n",
    "    \n",
    "We have done all and ready. :)  </div>"
   ]
  },
  {
   "cell_type": "markdown",
   "metadata": {},
   "source": [
    "### Study and check the data"
   ]
  },
  {
   "cell_type": "markdown",
   "metadata": {},
   "source": [
    "#### How many events are in the logs?\n"
   ]
  },
  {
   "cell_type": "code",
   "execution_count": null,
   "metadata": {},
   "outputs": [],
   "source": [
    "fig, ax = plt.subplots(figsize=(12, 5))\n",
    "logs_exp_us_1.groupby(['user_id'])['event_name'].nunique().reset_index()['event_name'].value_counts(normalize=True).plot(kind='barh',\n",
    "                                                   rot=0,\n",
    "                                                   alpha=.8)\n",
    "ax.xaxis.set_major_formatter(ticker.PercentFormatter(1, decimals=0))\n",
    "plt.grid(axis='x', alpha=.7)\n",
    "ax.tick_params(labelsize=15)\n",
    "\n",
    "plt.xlabel(\"Average Percentage of Seats\", labelpad=15, fontsize=20)\n",
    "plt.ylabel(\"\", labelpad=10, fontsize=20)\n",
    "plt.title(\n",
    "    \"Proportion of Events in Log\",\n",
    "    \n",
    "    pad=23,\n",
    "    size=20,\n",
    "    ha='center',\n",
    "    fontweight='semibold')\n",
    "plt.show()\n"
   ]
  },
  {
   "cell_type": "markdown",
   "metadata": {},
   "source": [
    "There are a total of 5 events.\n",
    "\n"
   ]
  },
  {
   "cell_type": "markdown",
   "metadata": {},
   "source": [
    "#### How many users are in the logs?\n"
   ]
  },
  {
   "cell_type": "code",
   "execution_count": null,
   "metadata": {},
   "outputs": [],
   "source": [
    "print(\n",
    "    'Unique Users:', logs_exp_us_1['user_id'].nunique())"
   ]
  },
  {
   "cell_type": "markdown",
   "metadata": {},
   "source": [
    "#### average number of events per user"
   ]
  },
  {
   "cell_type": "code",
   "execution_count": null,
   "metadata": {
    "scrolled": true
   },
   "outputs": [],
   "source": [
    "logs_exp_us_1.groupby(['user_id'])['event_name'].count().mean()"
   ]
  },
  {
   "cell_type": "markdown",
   "metadata": {},
   "source": [
    "On average, a user would go through 32 events.\n",
    "\n"
   ]
  },
  {
   "cell_type": "markdown",
   "metadata": {},
   "source": [
    "<div class=\"alert alert-block alert-success\">\n",
    "<b>Reviewer's comment</b> <a class=\"tocSkip\"></a>\n",
    "    \n",
    "Good numbers!  </div>\n",
    "\n",
    "<div class=\"alert alert-block alert-warning\">\n",
    "<b>Reviewer's comment</b> <a class=\"tocSkip\"></a>\n",
    "    \n",
    "Also we can plot a graph and see that median would be better. :)   </div>"
   ]
  },
  {
   "cell_type": "markdown",
   "metadata": {},
   "source": [
    "<li>What period of time does the data cover? Find the maximum and the minimum date. Plot a histogram by date and time. Can you be sure that you have equally complete data for the entire period? \n",
    "    \n",
    "    \n",
    "<li>Older events could end up in some users' logs for technical reasons, and this could skew the overall picture. Find the moment at which the data starts to be complete and ignore the earlier section. What period does the data actually represent?\n",
    "\n",
    "<li>Did you lose many events and users when excluding the older data?\n",
    "Make sure you have users from all three experimental groups."
   ]
  },
  {
   "cell_type": "code",
   "execution_count": null,
   "metadata": {},
   "outputs": [],
   "source": [
    "#group by users and obtain their total event count (here event_name is a dummy variable)\n",
    "eventUser_count = logs_exp_us_1.groupby('user_id').agg({'event_name':\n",
    "                                             'count'})['event_name']\n",
    "eventUser_count\n"
   ]
  },
  {
   "cell_type": "code",
   "execution_count": null,
   "metadata": {},
   "outputs": [],
   "source": [
    "#general statistical description of events per user\n",
    "print(eventUser_count.describe())\n"
   ]
  },
  {
   "cell_type": "code",
   "execution_count": null,
   "metadata": {},
   "outputs": [],
   "source": [
    "#min max date\n",
    "logs_exp_us_1['timestamp'].min (), logs_exp_us_1['timestamp'].max()\n"
   ]
  },
  {
   "cell_type": "code",
   "execution_count": null,
   "metadata": {},
   "outputs": [],
   "source": [
    "logs_exp_us_1['timestamp'].max() -logs_exp_us_1['timestamp'].min()"
   ]
  },
  {
   "cell_type": "markdown",
   "metadata": {},
   "source": [
    " 2,300 event logs were recorded for just one user within a time span of roughly 14 days"
   ]
  },
  {
   "cell_type": "code",
   "execution_count": null,
   "metadata": {},
   "outputs": [],
   "source": [
    "days, hour, max_Usersession = 14,24,eventUser_count.max()\n",
    "(max_Usersession/days)/hour"
   ]
  },
  {
   "cell_type": "markdown",
   "metadata": {},
   "source": [
    "around 6 events per hour. Clearly we have outliers to take care of. We'll need to check out on the date before doing so to get a better picture of this.\n",
    "\n",
    "Let's plot a histogram to look at the distribution of date and time."
   ]
  },
  {
   "cell_type": "code",
   "execution_count": null,
   "metadata": {},
   "outputs": [],
   "source": [
    "ax = logs_exp_us_1['timestamp'].hist(figsize=(13, 5), bins=100)\n",
    "plt.grid(axis='x')\n",
    "ax.tick_params('x', labelrotation=25)\n",
    "plt.grid(axis='x', alpha=.7)\n",
    "ax.tick_params(labelsize=15)\n",
    "\n",
    "plt.xlabel(\"Date\", labelpad=15, fontsize=20)\n",
    "plt.ylabel(\"Count\", labelpad=10, fontsize=20)\n",
    "plt.title(\n",
    "    \"Time Distribution of Log Events\")\n",
    "plt.show()\n"
   ]
  },
  {
   "cell_type": "markdown",
   "metadata": {},
   "source": [
    "The data seems to be unequally distributed for the period. Older events could have ended up in some user's log due to technical reasons."
   ]
  },
  {
   "cell_type": "markdown",
   "metadata": {},
   "source": [
    "Given the share of where the count seems to be roughly located at (between June 31st to July 7th), we'll use a timespan of exactly 7 days. So in this case, the start of the week will be 7 days from the max recorded time."
   ]
  },
  {
   "cell_type": "code",
   "execution_count": null,
   "metadata": {},
   "outputs": [],
   "source": [
    "start_of_week = str(logs_exp_us_1['timestamp'].max() - timedelta(days=7))\n",
    "start_of_week"
   ]
  },
  {
   "cell_type": "markdown",
   "metadata": {},
   "source": [
    "<div class=\"alert alert-block alert-success\">\n",
    "<b>Reviewer's comment</b> <a class=\"tocSkip\"></a>\n",
    "    \n",
    "The best variant!  </div>"
   ]
  },
  {
   "cell_type": "code",
   "execution_count": null,
   "metadata": {},
   "outputs": [],
   "source": [
    "ax = logs_exp_us_1[logs_exp_us_1['timestamp'] > start_of_week]['timestamp'].hist(figsize=(15, 5),\n",
    "                                                           bins=100)\n",
    "plt.grid(False)\n",
    "plt.grid(axis='x')\n",
    "ax.tick_params('x', labelrotation=25)\n",
    "plt.grid(axis='x', alpha=.7)\n",
    "ax.tick_params(labelsize=15)\n",
    "\n",
    "plt.xlabel(\"Date\", labelpad=15, fontsize=20)\n",
    "plt.ylabel(\"Count\", labelpad=10, fontsize=20)\n",
    "plt.title(\n",
    "    \"Time Distribution of Log Events\", fontsize=20)\n",
    "plt.show()\n"
   ]
  },
  {
   "cell_type": "markdown",
   "metadata": {},
   "source": [
    "The distribution of time now looks good.\n",
    "\n"
   ]
  },
  {
   "cell_type": "code",
   "execution_count": null,
   "metadata": {},
   "outputs": [],
   "source": [
    "new_logs_exp_us_1 = logs_exp_us_1[(logs_exp_us_1['timestamp'] > start_of_week)]\n",
    "\n",
    "(len(logs_exp_us_1) - len(new_logs_exp_us_1) )/ len(logs_exp_us_1) * 100, len(\n",
    "    logs_exp_us_1[(logs_exp_us_1['timestamp'] < start_of_week)])"
   ]
  },
  {
   "cell_type": "markdown",
   "metadata": {},
   "source": [
    "Only 2,056 or 0.84% of event instances will be dropped not a lot of data. We'll save the dataframe into a new variable: .\n",
    "\n"
   ]
  },
  {
   "cell_type": "code",
   "execution_count": null,
   "metadata": {},
   "outputs": [],
   "source": [
    "logs_exp_us_1_filtered = new_logs_exp_us_1.reset_index(drop=True).copy()\n",
    "logs_exp_us_1_filtered.head()"
   ]
  },
  {
   "cell_type": "code",
   "execution_count": null,
   "metadata": {},
   "outputs": [],
   "source": [
    "logs_exp_us_1_filtered['day'] = logs_exp_us_1_filtered['timestamp'].dt.date\n",
    "logs_exp_us_1_filtered['hour'] = logs_exp_us_1_filtered['timestamp'].dt.hour\n",
    "logs_exp_us_1_filtered['day_hour'] = pd.to_datetime(logs_exp_us_1_filtered['day']) + pd.to_timedelta(logs_exp_us_1_filtered.hour,\n",
    "                                                                 unit='h')"
   ]
  },
  {
   "cell_type": "code",
   "execution_count": null,
   "metadata": {},
   "outputs": [],
   "source": [
    "#check\n",
    "print(logs_exp_us_1_filtered.isnull().sum().sum())\n",
    "len(logs_exp_us_1_filtered), len(logs_exp_us_1), round(len(logs_exp_us_1_filtered) / len(logs_exp_us_1) * 100, 2)"
   ]
  },
  {
   "cell_type": "markdown",
   "metadata": {},
   "source": [
    "<div class=\"alert alert-block alert-success\">\n",
    "<b>Reviewer's comment</b> <a class=\"tocSkip\"></a>\n",
    "    \n",
    "Yes, it is possible numbers. Good choice! :) </div>\n",
    "\n",
    "<div class=\"alert alert-block alert-danger\">\n",
    "<s><b>Reviewer's comment</b> <a class=\"tocSkip\"></a>\n",
    "    \n",
    "Could you add a number of lose users? And we need to check users from all three experimental groups. Could do it?</div>"
   ]
  },
  {
   "cell_type": "code",
   "execution_count": null,
   "metadata": {},
   "outputs": [],
   "source": [
    "#drop_list\n",
    "new_logs_exp_us_2 = logs_exp_us_1[(logs_exp_us_1['timestamp'] < start_of_week)]\n",
    "new_logs_exp_us_2"
   ]
  },
  {
   "cell_type": "code",
   "execution_count": null,
   "metadata": {
    "scrolled": true
   },
   "outputs": [],
   "source": [
    "new_logs_exp_us_2.groupby(['experiment_id'])['user_id'].count().sort_values(ascending=False)"
   ]
  },
  {
   "cell_type": "markdown",
   "metadata": {},
   "source": [
    "**as we can see we lost only 2056 users**\n",
    "- 248 experimental groups  => 735 \n",
    "- 247 experimental groups => 673\n",
    "- 246 experimental groups = >648"
   ]
  },
  {
   "cell_type": "markdown",
   "metadata": {},
   "source": [
    "<div class=\"alert alert-block alert-success\">\n",
    "<b>Reviewer's comment. V.2.</b> <a class=\"tocSkip\"></a>\n",
    "    \n",
    "Great!  </div>"
   ]
  },
  {
   "cell_type": "markdown",
   "metadata": {},
   "source": [
    " ### Study the event funnel"
   ]
  },
  {
   "cell_type": "markdown",
   "metadata": {},
   "source": [
    "#### See what events are in the logs and their frequency of occurrence. Sort them by frequency.\n"
   ]
  },
  {
   "cell_type": "code",
   "execution_count": null,
   "metadata": {},
   "outputs": [],
   "source": [
    "logs_exp_us_1_filtered.groupby(['event_name'])['user_id'].count().sort_values(ascending=False)"
   ]
  },
  {
   "cell_type": "markdown",
   "metadata": {},
   "source": [
    "#### Find the number of users who performed each of these actions. Sort the events by the number of users. Calculate the proportion of users who performed the action at least once."
   ]
  },
  {
   "cell_type": "code",
   "execution_count": null,
   "metadata": {},
   "outputs": [],
   "source": [
    "logs_exp_us_1_filtered.groupby(['event_name'])['user_id'].nunique().sort_values(ascending=False)"
   ]
  },
  {
   "cell_type": "code",
   "execution_count": null,
   "metadata": {},
   "outputs": [],
   "source": [
    "logs_exp_us_1_filtered.groupby(['event_name'])['user_id'].nunique().sort_values(ascending=False)/logs_exp_us_1_filtered.user_id.nunique()"
   ]
  },
  {
   "cell_type": "markdown",
   "metadata": {},
   "source": [
    "#### In what order do you think the actions took place. Are all of them part of a single sequence? You don't need to take them into account when calculating the funnel."
   ]
  },
  {
   "cell_type": "code",
   "execution_count": null,
   "metadata": {},
   "outputs": [],
   "source": [
    "ax = (logs_exp_us_1_filtered['event_name'].value_counts(normalize=True).sort_values().plot.barh(\n",
    "    legend=False, stacked=True, width=.9, figsize=(15, 6), alpha=.8))\n",
    "\n",
    "ax.xaxis.set_major_formatter(ticker.PercentFormatter(1))\n",
    "plt.grid(axis='x', alpha=.7)\n",
    "ax.tick_params(labelsize=20)\n",
    "\n",
    "plt.xlabel(\"Percent\", labelpad=15, fontsize=20)\n",
    "plt.ylabel(\"\", labelpad=10, fontsize=20)\n",
    "plt.title(\n",
    "    \"Event Proportion\",\n",
    "    \n",
    "    pad=23,\n",
    "    size=20,\n",
    "    ha='center',\n",
    "    fontweight='semibold')\n",
    "plt.show()\n",
    "\n"
   ]
  },
  {
   "cell_type": "markdown",
   "metadata": {},
   "source": [
    "Starting of with the share of event types, we can see that in descending order, they follow a logical path (from main scree to payment screen). However, the tutorial event here seems out of place as it's not as trumped by the payment success screen--indicating an out of place event."
   ]
  },
  {
   "cell_type": "markdown",
   "metadata": {},
   "source": [
    "<div class=\"alert alert-block alert-success\">\n",
    "<b>Reviewer's comment</b> <a class=\"tocSkip\"></a>\n",
    "    \n",
    "Well done! Percents on a graph is a really good idea!</div>"
   ]
  },
  {
   "cell_type": "code",
   "execution_count": null,
   "metadata": {
    "scrolled": true
   },
   "outputs": [],
   "source": [
    "ax = logs_exp_us_1_filtered.groupby(['event_name']).agg({\n",
    "    'user_id': 'nunique'\n",
    "}).sort_values('user_id', ascending=False).div(\n",
    "    logs_exp_us_1_filtered['user_id'].nunique()).plot.bar(rot=0, figsize=(15, 10), legend=False,alpha=.7)\n",
    "ax.yaxis.set_major_formatter(ticker.PercentFormatter(1))\n",
    "\n",
    "plt.grid(axis='y', alpha=.3)\n",
    "\n",
    "plt.xlabel(\"Event Name\", labelpad=15, fontsize=20)\n",
    "plt.ylabel(\"Percent\", labelpad=10, fontsize=20)\n",
    "plt.title(\n",
    "    \"Unique User Proportion Per Event\",\n",
    "    \n",
    "    pad=23,\n",
    "    size=20,\n",
    "    ha='center',\n",
    "    fontweight='semibold')\n",
    "plt.show()"
   ]
  },
  {
   "cell_type": "markdown",
   "metadata": {},
   "source": [
    "Around 98% of unique users began the first event while roughly 11% went through the tutorial event. In reflecting about the goal of this project, we'll drop tutorial events as it doesn't seem to be related to the current sales funnel;"
   ]
  },
  {
   "cell_type": "markdown",
   "metadata": {},
   "source": [
    "<div class=\"alert alert-block alert-success\">\n",
    "<b>Reviewer's comment</b> <a class=\"tocSkip\"></a>\n",
    "    \n",
    "Right decision! </div>"
   ]
  },
  {
   "cell_type": "code",
   "execution_count": null,
   "metadata": {
    "scrolled": true
   },
   "outputs": [],
   "source": [
    "sorted_data = len(logs_exp_us_1_filtered)\n",
    "\n",
    "data_filtered = logs_exp_us_1_filtered.query(\"event_name != 'Tutorial'\").reset_index(drop=True)\n",
    "\n",
    "print('Dropped:', sorted_data - len(data_filtered), '\\n', '% Kept:',\n",
    "      len(data_filtered) / sorted_data*100)\n",
    "logs_exp_us_1_filtered['event_name'].value_counts()"
   ]
  },
  {
   "cell_type": "markdown",
   "metadata": {},
   "source": [
    "The sales funnel will be the following: (1) Main screen appears (2) offer screen appears (3)cart screen appears (4) payment screen success.\n",
    "\n"
   ]
  },
  {
   "cell_type": "code",
   "execution_count": null,
   "metadata": {},
   "outputs": [],
   "source": [
    "user_Withfirst_event = list(\n",
    "    logs_exp_us_1_filtered.query(\"event_name == 'MainScreenAppear'\")['user_id'].unique())\n",
    "\n",
    "print('\\t\\t\\tShare of rows to be dropped:')\n",
    "print('Unclean DF')\n",
    "print(\n",
    "    len(logs_exp_us_1_filtered.query(\"user_id not in @user_Withfirst_event\")['experiment_id']) /\n",
    "    len(logs_exp_us_1_filtered) * 100)"
   ]
  },
  {
   "cell_type": "code",
   "execution_count": null,
   "metadata": {},
   "outputs": [],
   "source": [
    "data1 = logs_exp_us_1_filtered.query(\"user_id in @user_Withfirst_event\")"
   ]
  },
  {
   "cell_type": "code",
   "execution_count": null,
   "metadata": {},
   "outputs": [],
   "source": [
    "def sequence(user):\n",
    "    sorted_user=data_filtered[data_filtered['user_id']== user].sort_values(by=['user_id','timestamp'])\n",
    "    return sorted_user['event_name'].drop_duplicates().to_list()"
   ]
  },
  {
   "cell_type": "code",
   "execution_count": null,
   "metadata": {},
   "outputs": [],
   "source": [
    "sequence(8619840625096464102)"
   ]
  },
  {
   "cell_type": "code",
   "execution_count": null,
   "metadata": {},
   "outputs": [],
   "source": [
    "sequence_empty=[]\n",
    "for i in data_filtered.user_id.unique():\n",
    "    sequence_empty.append([i,sequence(i)])"
   ]
  },
  {
   "cell_type": "code",
   "execution_count": null,
   "metadata": {},
   "outputs": [],
   "source": [
    "path_data=pd.DataFrame(sequence_empty,columns=['user','path'])\n",
    "path_data"
   ]
  },
  {
   "cell_type": "code",
   "execution_count": null,
   "metadata": {},
   "outputs": [],
   "source": [
    "path_data['path'].value_counts()"
   ]
  },
  {
   "cell_type": "markdown",
   "metadata": {},
   "source": [
    "* as we can see its not a single sequence"
   ]
  },
  {
   "cell_type": "markdown",
   "metadata": {},
   "source": [
    "<div class=\"alert alert-block alert-success\">\n",
    "<b>Reviewer's comment</b> <a class=\"tocSkip\"></a>\n",
    "    \n",
    "Well done! </div>"
   ]
  },
  {
   "cell_type": "markdown",
   "metadata": {},
   "source": [
    "#### Use the event funnel to find the share of users that proceed from each stage to the next. (For instance, for the sequence of events A → B → C, calculate the ratio of users at stage B to the number of users at stage A and the ratio of users at stage C to the number at stage B.)"
   ]
  },
  {
   "cell_type": "code",
   "execution_count": null,
   "metadata": {},
   "outputs": [],
   "source": [
    "funnel_shift= data_filtered.groupby(['event_name'])['user_id'].nunique().sort_values(ascending=False).reset_index()\n",
    "funnel_shift\n"
   ]
  },
  {
   "cell_type": "code",
   "execution_count": null,
   "metadata": {},
   "outputs": [],
   "source": [
    "#change betwen the funnels\n",
    "funnel_shift['perc_ch']=funnel_shift['user_id'].pct_change()\n",
    "funnel_shift"
   ]
  },
  {
   "cell_type": "markdown",
   "metadata": {},
   "source": [
    "as we can see the most of the lost(38%) is between MainScreenAppear=>OffersScreenAppear"
   ]
  },
  {
   "cell_type": "code",
   "execution_count": null,
   "metadata": {},
   "outputs": [],
   "source": [
    "\n",
    "funnel_by_groups=[]\n",
    "for i in data_filtered.experiment_id.unique():\n",
    "    group=data_filtered[data_filtered.experiment_id==i].groupby(['event_name','experiment_id'])['user_id'].nunique().reset_index().sort_values(by='user_id',ascending=False)\n",
    "    display(group)\n",
    "    funnel_by_groups.append(group)"
   ]
  },
  {
   "cell_type": "markdown",
   "metadata": {},
   "source": [
    "as we can see the funnel order is the same between all the expirements"
   ]
  },
  {
   "cell_type": "code",
   "execution_count": null,
   "metadata": {},
   "outputs": [],
   "source": [
    "funnel_by_groups=pd.concat(funnel_by_groups)\n",
    "funnel_by_groups"
   ]
  },
  {
   "cell_type": "code",
   "execution_count": null,
   "metadata": {
    "scrolled": false
   },
   "outputs": [],
   "source": [
    "\n",
    "fig= px.funnel(funnel_by_groups,x='user_id',y='event_name',color='experiment_id')\n",
    "fig.show()"
   ]
  },
  {
   "cell_type": "markdown",
   "metadata": {},
   "source": [
    "<div class=\"alert alert-block alert-success\">\n",
    "<b>Reviewer's comment</b> <a class=\"tocSkip\"></a>\n",
    "    \n",
    "Perfect graph! We can see full numbers and percents of users per events. Well done!</div>"
   ]
  },
  {
   "cell_type": "markdown",
   "metadata": {},
   "source": [
    "How long did it take from mainScreen to purchase?"
   ]
  },
  {
   "cell_type": "code",
   "execution_count": null,
   "metadata": {},
   "outputs": [],
   "source": [
    "min_time=pd.pivot_table(logs_exp_us_1_filtered[logs_exp_us_1_filtered['event_name']!='Tutorial'],index=['user_id'],columns=['event_name'],values=['timestamp'],aggfunc=min)['timestamp']\n",
    "min_time"
   ]
  },
  {
   "cell_type": "code",
   "execution_count": null,
   "metadata": {},
   "outputs": [],
   "source": [
    "new=min_time.reset_index()\n",
    "new.head()"
   ]
  },
  {
   "cell_type": "code",
   "execution_count": null,
   "metadata": {},
   "outputs": [],
   "source": [
    "new['time_diff']=new['PaymentScreenSuccessful']-new['MainScreenAppear']\n",
    "new.head()"
   ]
  },
  {
   "cell_type": "code",
   "execution_count": null,
   "metadata": {},
   "outputs": [],
   "source": [
    "new['time_diff'].value_counts()"
   ]
  },
  {
   "cell_type": "code",
   "execution_count": null,
   "metadata": {},
   "outputs": [],
   "source": [
    "new['time_diff'].dt.days.value_counts()"
   ]
  },
  {
   "cell_type": "markdown",
   "metadata": {},
   "source": [
    "as we can see we have negative differance and it dosent make sensce,there are potentially many reasons for this. Possibility of users to start in different sites (maybe an ad took user directly to offerscreen)."
   ]
  },
  {
   "cell_type": "markdown",
   "metadata": {},
   "source": [
    "<div class=\"alert alert-block alert-danger\">\n",
    "<s><b>Reviewer's comment</b> <a class=\"tocSkip\"></a>\n",
    "    \n",
    "Could you add:\n",
    "\n",
    "- At what stage do you lose the most users?\n",
    "    \n",
    "- What share of users make the entire journey from their first event to payment?</div>"
   ]
  },
  {
   "cell_type": "code",
   "execution_count": null,
   "metadata": {},
   "outputs": [],
   "source": [
    "#change betwen the funnels\n",
    "funnel_shift['perc_ch']=funnel_shift['user_id'].pct_change()\n",
    "funnel_shift"
   ]
  },
  {
   "cell_type": "markdown",
   "metadata": {},
   "source": [
    "as we can only 47% make the entire journey from their first event to payment"
   ]
  },
  {
   "cell_type": "markdown",
   "metadata": {},
   "source": [
    "as we can see the most of the lost(38%) is between MainScreenAppear=>OffersScreenAppear\n"
   ]
  },
  {
   "cell_type": "markdown",
   "metadata": {},
   "source": [
    "<div class=\"alert alert-block alert-success\">\n",
    "<b>Reviewer's comment. V.2.</b> <a class=\"tocSkip\"></a>\n",
    "    \n",
    "Yes, you are right! </div>"
   ]
  },
  {
   "cell_type": "markdown",
   "metadata": {},
   "source": [
    "### Study the results of the experiment"
   ]
  },
  {
   "cell_type": "markdown",
   "metadata": {},
   "source": [
    "#### How many users are there in each group?\n"
   ]
  },
  {
   "cell_type": "code",
   "execution_count": null,
   "metadata": {},
   "outputs": [],
   "source": [
    "logs_exp_us_1.groupby(['experiment_id'])['user_id'].nunique()"
   ]
  },
  {
   "cell_type": "code",
   "execution_count": null,
   "metadata": {},
   "outputs": [],
   "source": [
    "logs_exp_us_1.groupby(['user_id'])['experiment_id'].nunique().reset_index().query('experiment_id>1')"
   ]
  },
  {
   "cell_type": "markdown",
   "metadata": {},
   "source": [
    "as we can see there are no users in more than one experiment "
   ]
  },
  {
   "cell_type": "markdown",
   "metadata": {},
   "source": [
    "**requirements for proprotion test:**\n",
    "\n",
    "* The sampling method is simple random sampling.\n",
    "* Each sample point can result in just two possible outcomes. We call one of these outcomes a success and the other, a failure.\n",
    "* The sample includes at least 10 successes and 10 failures.\n",
    "* The population size is at least 20 times as big as the sample size."
   ]
  },
  {
   "cell_type": "markdown",
   "metadata": {},
   "source": [
    "<div class=\"alert alert-block alert-success\">\n",
    "<b>Reviewer's comment</b> <a class=\"tocSkip\"></a>\n",
    "    \n",
    "Very good!</div>"
   ]
  },
  {
   "cell_type": "markdown",
   "metadata": {},
   "source": [
    "#### We have two control groups in the A/A test, where we check our mechanisms and calculations. See if there is a statistically significant difference between samples 246 and 247"
   ]
  },
  {
   "cell_type": "markdown",
   "metadata": {},
   "source": [
    "- H0-there is no reason to consider the proportions different\n",
    "- H1-there is a significant difference between the proportions\n"
   ]
  },
  {
   "cell_type": "code",
   "execution_count": null,
   "metadata": {},
   "outputs": [],
   "source": [
    "alpha = .05 # significance level\n",
    "\n",
    "successes = np.array([78, 120])\n",
    "trials = np.array([830, 909])\n",
    "\n",
    "# success proportion in the first group:\n",
    "p1 = successes[0]/trials[0]\n",
    "\n",
    "# success proportion in the second group:\n",
    "p2 = successes[1]/trials[1]\n",
    "\n",
    "# success proportion in the combined dataset:\n",
    "p_combined = (successes[0] + successes[1]) / (trials[0] + trials[1])\n",
    "\n",
    "# the difference between the datasets' proportions\n",
    "difference = p1 - p2\n",
    "# calculating the statistic in standard deviations of the standard normal distribution\n",
    "#z_value = difference / mth.sqrt(p_combined * (1 - p_combined) * (1/trials[0] + 1/trials[1]))\n",
    "\n",
    "# setting up the standard normal distribution (mean 0, standard deviation 1)\n",
    "distr = st.norm(0, 1)\n",
    "# calculating the statistic in standard deviations of the standard normal distribution\n",
    "z_value = difference / mth.sqrt(p_combined * (1 - p_combined) * (1/trials[0] + 1/trials[1]))\n",
    "\n",
    "# setting up the standard normal distribution (mean 0, standard deviation 1)\n",
    "distr = st.norm(0, 1) \n",
    "\n",
    "p_value = (1 - distr.cdf(abs(z_value))) * 2\n",
    "\n",
    "print('p-value: ', p_value)\n",
    "\n",
    "if (p_value < alpha):\n",
    "    print(\"Rejecting the null hypothesis: there is a significant difference between the proportions\")\n",
    "else:\n",
    "    print(\"Failed to reject the null hypothesis: there is no reason to consider the proportions different\")"
   ]
  },
  {
   "cell_type": "markdown",
   "metadata": {},
   "source": [
    "<div class=\"alert alert-block alert-success\">\n",
    "<b>Reviewer's comment</b> <a class=\"tocSkip\"></a>\n",
    "    \n",
    "Great!</div>"
   ]
  },
  {
   "cell_type": "markdown",
   "metadata": {},
   "source": [
    "#### Select the most popular event. In each of the control groups, find the number of users who performed this action. Find their share. Check whether the difference between the groups is statistically significant. Repeat the procedure for all other events (it will save time if you create a special function for this test). Can you confirm that the groups were split properly?"
   ]
  },
  {
   "cell_type": "code",
   "execution_count": null,
   "metadata": {},
   "outputs": [],
   "source": [
    "test_1=logs_exp_us_1[logs_exp_us_1.experiment_id==246]['user_id'].unique()\n",
    "test_2=logs_exp_us_1[logs_exp_us_1.experiment_id==247]['user_id'].unique()\n",
    "control=logs_exp_us_1[logs_exp_us_1.experiment_id==248]['user_id'].unique()"
   ]
  },
  {
   "cell_type": "code",
   "execution_count": null,
   "metadata": {},
   "outputs": [],
   "source": [
    "pivot=logs_exp_us_1.pivot_table(index='event_name', columns='experiment_id',values='user_id',aggfunc='nunique').reset_index()"
   ]
  },
  {
   "cell_type": "code",
   "execution_count": null,
   "metadata": {},
   "outputs": [],
   "source": [
    "pivot[pivot.event_name=='MainScreenAppear'][246].iloc[0]"
   ]
  },
  {
   "cell_type": "markdown",
   "metadata": {},
   "source": [
    "Now we have lists with our users from each group and we can use it in calculation of our proportions) "
   ]
  },
  {
   "cell_type": "code",
   "execution_count": null,
   "metadata": {},
   "outputs": [],
   "source": [
    "def check_hypothesis(group1,group2,event,alpha=0.05):\n",
    "    success1=pivot[pivot.event_name==event][group1].iloc[0]\n",
    "    success2=pivot[pivot.event_name==event][group2].iloc[0]\n",
    "    \n",
    "    trials1=logs_exp_us_1[logs_exp_us_1.experiment_id==group1]['user_id'].nunique()\n",
    "    trials2=logs_exp_us_1[logs_exp_us_1.experiment_id==group2]['user_id'].nunique()\n",
    "    \n",
    "    \n",
    "    # success proportion in the first group:\n",
    "    p1 = success1/trials1\n",
    "\n",
    "    # success proportion in the second group:\n",
    "    p2 = success2/trials2\n",
    "\n",
    "    # success proportion in the combined dataset:\n",
    "    p_combined = (success1 + success2) / (trials1 + trials2)\n",
    "\n",
    "    # the difference between the datasets' proportions\n",
    "    difference = p1 - p2\n",
    "    # calculating the statistic in standard deviations of the standard normal distribution\n",
    "    z_value = difference / mth.sqrt(p_combined * (1 - p_combined) * (1/trials1 + 1/trials2))\n",
    "\n",
    "    # setting up the standard normal distribution (mean 0, standard deviation 1)\n",
    "    distr = st.norm(0, 1)\n",
    "    # calculating the statistic in standard deviations of the standard normal distribution\n",
    "\n",
    "\n",
    "    p_value = (1 - distr.cdf(abs(z_value))) * 2\n",
    "\n",
    "    print('p-value: ', p_value)\n",
    "\n",
    "    if (p_value < alpha):\n",
    "        print(\"Rejecting the null hypothesis for\", event,\"and groups\", group1,group2)\n",
    "    else:\n",
    "        print(\"Failed to reject the null hypothesis for\",event,\"and groups\", group1,group2 )\n",
    "    "
   ]
  },
  {
   "cell_type": "markdown",
   "metadata": {},
   "source": [
    "<div class=\"alert alert-block alert-success\">\n",
    "<b>Reviewer's comment</b> <a class=\"tocSkip\"></a>\n",
    "    \n",
    "Function is a very good idea!</div>"
   ]
  },
  {
   "cell_type": "code",
   "execution_count": null,
   "metadata": {},
   "outputs": [],
   "source": [
    "check_hypothesis(246,247,'CartScreenAppear',alpha=0.05)"
   ]
  },
  {
   "cell_type": "markdown",
   "metadata": {},
   "source": [
    "What are we actually checking? Whether there is a statistical difference in conversion aka proportion - \"Is the share of users (from all users in the test) that had \"CartScreenAppear of one test group is statistically different from another?\""
   ]
  },
  {
   "cell_type": "code",
   "execution_count": null,
   "metadata": {},
   "outputs": [],
   "source": [
    "for i in pivot.event_name.unique():\n",
    "    check_hypothesis(246,247,i,alpha=0.05)"
   ]
  },
  {
   "cell_type": "markdown",
   "metadata": {},
   "source": [
    "<div class=\"alert alert-block alert-success\">\n",
    "<b>Reviewer's comment</b> <a class=\"tocSkip\"></a>\n",
    "    \n",
    "It is very good! We haven't problems! :)  </div>"
   ]
  },
  {
   "cell_type": "markdown",
   "metadata": {},
   "source": [
    "# AA Test"
   ]
  },
  {
   "cell_type": "code",
   "execution_count": null,
   "metadata": {
    "scrolled": true
   },
   "outputs": [],
   "source": [
    "data1.groupby(['experiment_id']).agg({'user_id':'nunique'}).divide(logs_exp_us_1['user_id'].nunique()).iloc[:-1]\n",
    "#1st criteria met"
   ]
  },
  {
   "cell_type": "markdown",
   "metadata": {},
   "source": [
    "<div class=\"alert alert-block alert-danger\">\n",
    "<s><b>Reviewer's comment</b> <a class=\"tocSkip\"></a>\n",
    "    \n",
    "Could you check next cells? We havea lot of errors. :( </div>\n",
    "    \n",
    "<div class=\"alert alert-block alert-success\">\n",
    "<b>Reviewer's comment. V.2.</b> <a class=\"tocSkip\"></a>\n",
    "    \n",
    "All is working. Thank you! </div>"
   ]
  },
  {
   "cell_type": "markdown",
   "metadata": {},
   "source": [
    "\n",
    "**Fining outliers**"
   ]
  },
  {
   "cell_type": "code",
   "execution_count": null,
   "metadata": {},
   "outputs": [],
   "source": [
    "#group by users and obtain their total event count (here event_name is a dummy variable)\n",
    "eventUser_count_ = data1.groupby('user_id').agg({'event_name':\n",
    "                                             'count'})['event_name']"
   ]
  },
  {
   "cell_type": "code",
   "execution_count": null,
   "metadata": {},
   "outputs": [],
   "source": [
    "eventUser_count_.quantile(.998) / (7 * 24), eventUser_count_.quantile(.998)\n"
   ]
  },
  {
   "cell_type": "code",
   "execution_count": null,
   "metadata": {},
   "outputs": [],
   "source": [
    "user_Over580_sessions = list(\n",
    "    eventUser_count_[eventUser_count_ > eventUser_count_.quantile(.998)].index)\n"
   ]
  },
  {
   "cell_type": "code",
   "execution_count": null,
   "metadata": {},
   "outputs": [],
   "source": [
    "Users_Over580_sessions = data1.query(\"user_id in @user_Over580_sessions\")\n",
    "Useroutlier_index = list(Users_Over580_sessions['user_id'].unique())\n",
    "\n",
    "(len(Users_Over580_sessions) /\n",
    " len(logs_exp_us_1)) * 100, Users_Over580_sessions['user_id'].nunique(), len(logs_exp_us_1)"
   ]
  },
  {
   "cell_type": "markdown",
   "metadata": {},
   "source": [
    "16 users were responsible for 7% of the 241k recorded log events. This may impact the results and therefore will be useful in the hypothesis test. This information will also be shared with a \"hypothetical\" collegaue in a later email.\n",
    "\n",
    "Withholding outliers and using the median, a typical user will have a total of 16 recorded log events in a given week."
   ]
  },
  {
   "cell_type": "markdown",
   "metadata": {},
   "source": [
    "**Let's check if there is a statistically significant difference in conversion rates between samples 246 and 247.**"
   ]
  },
  {
   "cell_type": "code",
   "execution_count": null,
   "metadata": {},
   "outputs": [],
   "source": [
    "len(Users_Over580_sessions), len(data1)\n"
   ]
  },
  {
   "cell_type": "markdown",
   "metadata": {},
   "source": [
    "**Data with no outliers**"
   ]
  },
  {
   "cell_type": "code",
   "execution_count": null,
   "metadata": {},
   "outputs": [],
   "source": [
    "non_outliers = logs_exp_us_1_filtered.query(\"user_id not in @Useroutlier_index\")\n"
   ]
  },
  {
   "cell_type": "code",
   "execution_count": null,
   "metadata": {},
   "outputs": [],
   "source": [
    "# building an array with unique paired date-group values\n",
    "datesGroups = logs_exp_us_1_filtered[['experiment_id', 'day_hour']].drop_duplicates()\n",
    "\n",
    "#unique users with total outlier session count (< 538 events)\n",
    "datesGroups_ = non_outliers[['experiment_id', 'day_hour']].drop_duplicates()"
   ]
  },
  {
   "cell_type": "markdown",
   "metadata": {},
   "source": [
    "To obtain our cumulative metrics, we'll use the following logic and apply it to the grouped datafame:\n",
    "\n",
    "Use np.logical_and() method to apply boolean operation to Series objects; helpful in this case given multiple conditions\n",
    "1. we get the rows of the orders table where the date is less than or equal to the date of the datesGroups element ( because we are working with cumulative data) and the test group is the same as in datesGroup\n",
    "- 2. Filter for either payment screen (or mainscreen)\n",
    "- 3. Get the maximum date and maximum experiment id--buffer values-- for the group so that we have the 'date' and 'group' column in the final output \n",
    "- 4.We find the number of unique order and user IDs\n",
    "- 5 calculate the total users per event stage"
   ]
  },
  {
   "cell_type": "code",
   "execution_count": null,
   "metadata": {},
   "outputs": [],
   "source": [
    "#dataframe with outliers\n",
    "\n",
    "#cumulative unique user purchases by date and hour\n",
    "paymentscreen_Cumulativecount = datesGroups.apply(\n",
    "    lambda x: data1[np.logical_and(data1['day_hour'] <= x['day_hour'], data1[\n",
    "        'experiment_id'] == x['experiment_id'])].query(\n",
    "            \"event_name =='PaymentScreenSuccessful'\").agg({\n",
    "                'day_hour': 'max',\n",
    "                'experiment_id': 'max',\n",
    "                'user_id': 'nunique'\n",
    "            }), axis=1)\n",
    "\n",
    "#cumulative unique users by date and hour\n",
    "totalCount_Cumulativecount = datesGroups.apply(\n",
    "    lambda x: data1[np.logical_and(data1['day_hour'] <= x['day_hour'], data1[\n",
    "        'experiment_id'] == x['experiment_id'])].agg({\n",
    "                'day_hour': 'max',\n",
    "                'experiment_id': 'max',\n",
    "                'user_id': 'nunique'\n",
    "            }), axis=1)"
   ]
  },
  {
   "cell_type": "code",
   "execution_count": null,
   "metadata": {},
   "outputs": [],
   "source": [
    "# check \n",
    "totalCount_Cumulativecount.isnull().sum(), paymentscreen_Cumulativecount.isnull().sum()\n"
   ]
  },
  {
   "cell_type": "code",
   "execution_count": null,
   "metadata": {},
   "outputs": [],
   "source": [
    "# damframe without outliers\n",
    "\n",
    "#cumulative unique user purchases by date and hour\n",
    "paymentscreen_Cumulativecount1 =datesGroups_.apply(lambda x: non_outliers[\n",
    "    np.logical_and(non_outliers['day_hour'] <= x['day_hour'], non_outliers[\n",
    "        'experiment_id'] == x['experiment_id'])].query(\n",
    "            \"event_name =='MainScreenAppear'\").agg({\n",
    "                'day_hour': 'max',\n",
    "                'experiment_id': 'max',\n",
    "                'user_id': 'nunique'\n",
    "            }), axis=1)\n",
    "#cumulative count of events by date and hour\n",
    "totalCount_Cumulativecount1 = datesGroups_.apply(lambda x: non_outliers[\n",
    "    np.logical_and(non_outliers['day_hour'] <= x['day_hour'], non_outliers[\n",
    "        'experiment_id'] == x['experiment_id'])].agg({\n",
    "                'day_hour': 'max',\n",
    "                'experiment_id': 'max',\n",
    "                'user_id': 'nunique'\n",
    "            }),axis=1)"
   ]
  },
  {
   "cell_type": "code",
   "execution_count": null,
   "metadata": {},
   "outputs": [],
   "source": [
    "#sanity check \n",
    "totalCount_Cumulativecount1.isnull().sum(), paymentscreen_Cumulativecount1.isnull().sum()\n"
   ]
  },
  {
   "cell_type": "code",
   "execution_count": null,
   "metadata": {},
   "outputs": [],
   "source": [
    "# merging the two tables into one and giving its columns descriptive names - outliers\n",
    "conversions = pd.merge(paymentscreen_Cumulativecount,\n",
    "                       totalCount_Cumulativecount,\n",
    "                       left_on=['day_hour', 'experiment_id'],\n",
    "                       right_on=['day_hour', 'experiment_id'])\n",
    "conversions.columns = ['date', 'experiment', 'unique_customers', 'unique_visitors']\n",
    "\n",
    "# merging the two tables into one and giving its columns descriptive names -non-outliers\n",
    "conversions1 = pd.merge(paymentscreen_Cumulativecount1,\n",
    "                        totalCount_Cumulativecount1,\n",
    "                        left_on=['day_hour', 'experiment_id'],\n",
    "                        right_on=['day_hour', 'experiment_id'])\n",
    "conversions1.columns = ['date', 'experiment', 'unique_customers', 'unique_visitors']"
   ]
  },
  {
   "cell_type": "code",
   "execution_count": null,
   "metadata": {},
   "outputs": [],
   "source": [
    "paymentscreen_Cumulativecount1,totalCount_Cumulativecount1\n"
   ]
  },
  {
   "cell_type": "code",
   "execution_count": null,
   "metadata": {},
   "outputs": [],
   "source": [
    "print(conversions.head())\n",
    "print()\n",
    "print(conversions1.head())"
   ]
  },
  {
   "cell_type": "markdown",
   "metadata": {},
   "source": [
    "Conversion rate (x= purchases, y= visits)\n",
    "\n"
   ]
  },
  {
   "cell_type": "code",
   "execution_count": null,
   "metadata": {},
   "outputs": [],
   "source": [
    "#containing outliers\n",
    "conversions['conversion_rate']=conversions['unique_customers']/conversions['unique_visitors']\n",
    "\n",
    "#non-outliers\n",
    "conversions1['conversion_rate']=conversions1['unique_customers']/conversions1['unique_visitors']"
   ]
  },
  {
   "cell_type": "code",
   "execution_count": null,
   "metadata": {},
   "outputs": [],
   "source": [
    "conversions['conversion_rate']*100"
   ]
  },
  {
   "cell_type": "code",
   "execution_count": null,
   "metadata": {},
   "outputs": [],
   "source": [
    "DF_names = ['w/ outliers', 'no outliers']\n",
    "for df, i in zip([conversions, conversions1], [0, 1]):\n",
    "    fig, ax = plt.subplots(figsize=(13, 5))\n",
    "\n",
    "    sns.lineplot(df['date'], df['conversion_rate'], style=df['experiment'])\n",
    "    ax.yaxis.set_major_formatter(ticker.PercentFormatter(decimals=1))\n",
    "    ax.get_children()[3].set_color('red')\n",
    "    if i==0:\n",
    "        ax.set_ylim(0, ax.get_yticks()[-1])\n",
    "        plt.text(ax.get_children()[3]._x[-1]+.1, ax.get_children()[3]._y[-1],'246')\n",
    "    plt.xlabel(\"Date\", labelpad=15, fontsize=20)\n",
    "    plt.ylabel(\"Conversion Rate\", labelpad=10, fontsize=20)\n",
    "    plt.title(\n",
    "    'Cumulative User Conversion by Group -' + DF_names[i])  \n",
    "    fig.show()\n",
    "    \n",
    "   \n",
    "    \n"
   ]
  },
  {
   "cell_type": "markdown",
   "metadata": {},
   "source": [
    "Without outliers, there seems to be a problem: Control group A (246) has a higher conversion rate in comparison to the other control group (247). However, when taking the outliers into account, the difference is no longer apparent.\n",
    "\n",
    "Let's take a look at the relative conversion rates amongst the control group."
   ]
  },
  {
   "cell_type": "code",
   "execution_count": null,
   "metadata": {},
   "outputs": [],
   "source": [
    "dates = conversions.query(\n",
    "    \"experiment in [246,247]\")['date'].drop_duplicates().append(\n",
    "        pd.to_datetime(\n",
    "            pd.Series([str(df['date'].max()), str(df['date'].max())])))"
   ]
  },
  {
   "cell_type": "code",
   "execution_count": null,
   "metadata": {},
   "outputs": [],
   "source": [
    "DF_names = ['w/ outliers', 'no outliers']\n",
    "for df, i in zip([conversions, conversions1], [0, 1]):\n",
    "    fig, ax = plt.subplots(figsize=(15, 5))\n",
    "    plt.plot(dates,\n",
    "             (df.query(\"experiment == 247\")['conversion_rate'].reset_index(\n",
    "                 drop=True) /\n",
    "              df.query(\"experiment == 246\")['conversion_rate'].reset_index(\n",
    "                  drop=True)) - 1)\n",
    "    plt.axhline(y=0, color='black', linestyle='--')\n",
    "    ax.yaxis.set_major_formatter(ticker.PercentFormatter())\n",
    "    plt.xlabel(\"Day\", labelpad=15, fontsize=20)\n",
    "    plt.ylabel(\"Conversion Rate\", labelpad=10, fontsize=20)\n",
    "    plt.title(\n",
    "    'Relative user conversion in control group 246 as opposed to control group 247 -'\n",
    "        + DF_names[i],fontsize=20)  \n",
    "    fig.show()\n",
    "\n",
    "    \n"
   ]
  },
  {
   "cell_type": "markdown",
   "metadata": {},
   "source": [
    "onversion rate for A group 246 seem to be stabilizing at a rate higher relative to group 247's conversion rate. When accounting for outliers, the difference absent of which is the expected reuslts given that they stem from the same population. In the following tests, the non-outlier dataframe will be more trustworthy."
   ]
  },
  {
   "cell_type": "code",
   "execution_count": null,
   "metadata": {},
   "outputs": [],
   "source": [
    "DF_names = ['w/ outliers', 'no outliers']\n",
    "for df, i in zip([conversions, conversions1], [0, 1]):\n",
    "    fig, ax = plt.subplots(figsize=(15, 5))\n",
    "    plt.plot(dates,\n",
    "             (df.query(\"experiment == 246\")['conversion_rate'].reset_index(\n",
    "                 drop=True) /\n",
    "              df.query(\"experiment == 248\")['conversion_rate'].reset_index(\n",
    "                  drop=True)) - 1)\n",
    "    plt.axhline(y=0, color='black', linestyle='--')\n",
    "    ax.yaxis.set_major_formatter(ticker.PercentFormatter())\n",
    "    \n",
    "    plt.xlabel(\"Day\", labelpad=15, fontsize=20)\n",
    "    plt.ylabel(\"Conversion Rate\", labelpad=10, fontsize=20)\n",
    "    plt.title(\n",
    "    'Relative user conversion in control group 246 as opposed to control group 248 -'\n",
    "        + DF_names[i],fontsize=20)\n",
    "    fig.show()\n"
   ]
  },
  {
   "cell_type": "markdown",
   "metadata": {},
   "source": [
    "Again, a conversion gain is seen in favor of the control group but this may have stemed from the outliers as the non-outliers show no difference. Conversion metrics seem to have stabilized.\n",
    "\n"
   ]
  },
  {
   "cell_type": "code",
   "execution_count": null,
   "metadata": {},
   "outputs": [],
   "source": [
    "DF_names = ['w/ outliers', 'no outliers']\n",
    "for df, i in zip([conversions, conversions1], [0, 1]):\n",
    "    fig, ax = plt.subplots(figsize=(15, 5))\n",
    "    plt.plot(dates,\n",
    "             (df.query(\"experiment == 248\")['conversion_rate'].reset_index(\n",
    "                 drop=True) /\n",
    "              df.query(\"experiment == 247\")['conversion_rate'].reset_index(\n",
    "                  drop=True)) - 1)\n",
    "    ax.yaxis.set_major_formatter(ticker.PercentFormatter())\n",
    "    plt.axhline(y=0, color='black', linestyle='--')\n",
    "    \n",
    "    plt.xlabel(\"Day\", labelpad=15, fontsize=20)\n",
    "    plt.ylabel(\"Conversion Rate\", labelpad=10, fontsize=20)\n",
    "    plt.title(\n",
    "    'Relative user conversion in control group 247 as opposed to control group 248 -'\n",
    "        + DF_names[i],fontsize=20)\n",
    "    fig.show()\n",
    "\n",
    "    \n",
    "    "
   ]
  },
  {
   "cell_type": "markdown",
   "metadata": {},
   "source": [
    "No difference is seen between control group 247 and 248 regardless of the outliers being present in the data.\n",
    "\n"
   ]
  },
  {
   "cell_type": "markdown",
   "metadata": {},
   "source": [
    "<div class=\"alert alert-block alert-success\">\n",
    "<b>Reviewer's comment. V.2.</b> <a class=\"tocSkip\"></a>\n",
    "    \n",
    "It is very good! We haven't problems! :)  </div>"
   ]
  },
  {
   "cell_type": "markdown",
   "metadata": {},
   "source": [
    "**Hypothesis Tests**\n",
    "- The following will be the hypotheses based on the analysis earlier (pinpoint potential errors in event segmentation, confirm differences amongst the control groups, and get a very rough idea of A/B test results) :\n",
    "\n",
    "X = font groups (246,247,248)\n",
    "\n",
    "Y = event (main, offer, cart, and payment)"
   ]
  },
  {
   "cell_type": "markdown",
   "metadata": {},
   "source": [
    "# CONVERSION RATE: Unique customers / Unique visitors\n",
    "- HO: X user conversion rates (μ) = X user conversion rate (μ) --w/outliers and no outliers\n",
    "- H1: X user conversion rates (μ) != X user conversion rate (μ) -- w.outliers and no outliers\n",
    " Expect AA to not give any significant results.\n",
    "OR ### EVENT PROPORTIONS: EVENT (total Y count) / TOTAL EVENTS (total event count)\n",
    "- HO: XY event proportion (μ) = XY event proportion (μ) --w/outliers and no outliers\n",
    "- H1: XY event proportion (μ) != XY event proportion (μ) -- w.outliers and no outliers"
   ]
  },
  {
   "cell_type": "code",
   "execution_count": null,
   "metadata": {},
   "outputs": [],
   "source": [
    "# If not provided value = 0 and the null is prop[0] = prop[1]\n",
    "def proportion_ztest(alpha, successes, visits, event_name, test_group_label,\n",
    "                     first, second, measure = \"Conversion Rates\"):\n",
    "    \"\"\"\n",
    "    Function that takes in a dataframe, iterates over each of its columns and checks for\n",
    "    common indicators of missing values (ie. negative values).   \n",
    "\n",
    "    Args:\n",
    "         data (pandas.DataFrame): Dataframe to be checked\n",
    "\n",
    "    Returns:\n",
    "        list (dict): a list containing (if any) a dictionar[y/ies] of key:value pair in the \n",
    "        following format - {column's missing value: % of column's missing value} - sorted in descending order\n",
    "    \"\"\"\n",
    "    \n",
    "    print(test_group_label, 'Alpha:', alpha)\n",
    "\n",
    "    stat, pval = proportions_ztest(count=successes,\n",
    "                                   nobs=visits,\n",
    "                                   alternative='two-sided')\n",
    "\n",
    "    if (pval < alpha): \n",
    "        print(\n",
    "            '\\t\\t\\t', event_name, '\\n',\n",
    "            'Rejecting the null hypothesis: there is a significant difference between the proportions.'\n",
    "        )\n",
    "    else:\n",
    "        print(\n",
    "            '\\t\\t\\t', event_name, '\\n',\n",
    "            \"Failed to reject the null hypothesis: there is no reason to consider the proportions different\"\n",
    "        )\n",
    "\n",
    "    print('P-value:{:.3f}\\nZ-value:{:.3f}'.format(pval, stat))\n",
    "    print('')\n",
    "    print(first, measure+\":\", round((successes[0] / visits[0]) * 100,2))\n",
    "    print(second, measure+\":\",\n",
    "          round((successes[1] / visits[1]) * 100, 2))\n",
    "    \n",
    "    print( '------------------------------------------------------------------------------')"
   ]
  },
  {
   "cell_type": "markdown",
   "metadata": {},
   "source": [
    "<div class=\"alert alert-block alert-success\">\n",
    "<b>Reviewer's comment. V.2.</b> <a class=\"tocSkip\"></a>\n",
    "    \n",
    "Great! :)  </div>"
   ]
  },
  {
   "cell_type": "markdown",
   "metadata": {},
   "source": [
    "# AA test\n"
   ]
  },
  {
   "cell_type": "code",
   "execution_count": null,
   "metadata": {},
   "outputs": [],
   "source": [
    "#will be using control group often\n",
    "ControlGroup = logs_exp_us_1_filtered.query(\"experiment_id in [246,247]\")\n",
    "ControlGroup_NoOutliers = non_outliers.query(\"experiment_id in [246,247]\")"
   ]
  },
  {
   "cell_type": "code",
   "execution_count": null,
   "metadata": {},
   "outputs": [],
   "source": [
    "AA_test= pd.merge(ControlGroup.query(\"event_name in ['PaymentScreenSuccessful']\"\n",
    "             ).groupby('experiment_id').agg({\"user_id\":\"nunique\"}),\n",
    "         (ControlGroup.groupby('experiment_id').agg({\"user_id\":\"nunique\"})),left_index =True, right_index=True)\n",
    "\n",
    "AA_NoOutliers_test =pd.merge(ControlGroup_NoOutliers.query(\"event_name in ['PaymentScreenSuccessful']\"\n",
    "             ).groupby('experiment_id').agg({\"user_id\":\"nunique\"}),\n",
    "         (ControlGroup_NoOutliers.groupby('experiment_id').agg({\"user_id\":\"nunique\"})),left_index =True, right_index=True)"
   ]
  },
  {
   "cell_type": "code",
   "execution_count": null,
   "metadata": {},
   "outputs": [],
   "source": [
    "AA_test.columns = ['unique_customers','unique_visitors']\n",
    "AA_NoOutliers_test.columns = ['unique_customers','unique_visitors']"
   ]
  },
  {
   "cell_type": "code",
   "execution_count": null,
   "metadata": {},
   "outputs": [],
   "source": [
    "AA_test.head, AA_NoOutliers_test"
   ]
  },
  {
   "cell_type": "code",
   "execution_count": null,
   "metadata": {},
   "outputs": [],
   "source": [
    "alpha = .1\n",
    "for version in [AA_test, AA_NoOutliers_test]:\n",
    "    #columns[1] -> unique paying users & columns[0] -> unique visitors\n",
    "    proportion_ztest(alpha, list(version[version.columns[0]].values),\n",
    "                 list(version[version.columns[1]].values), '', 'AA ',\n",
    "                 version.index[0], version.index[1])"
   ]
  },
  {
   "cell_type": "markdown",
   "metadata": {},
   "source": [
    "Both showed no statisically significant result and as such our tests will be considered reliable"
   ]
  },
  {
   "cell_type": "markdown",
   "metadata": {},
   "source": [
    "# Hypothesis Tests Per Event\n",
    "\n",
    "Let's test out each event to asses how the control groups were separated. Since we'll be testing the 4 events per group, it's natural that the false positive rate will increase. To correct for this, we'll use the Bonferroni correction: alpha / m (number of comparisons/ hypothesis tests).\n"
   ]
  },
  {
   "cell_type": "markdown",
   "metadata": {},
   "source": [
    "**For outliers.**\n",
    "* We didn't consider the outlier + raw data experiments together into the Bonferroni correction, because they are 2 different tests, one for the raw data and one for the filtered data-- each requiring a series of experiments (outlined in hypothesis tests)."
   ]
  },
  {
   "cell_type": "code",
   "execution_count": null,
   "metadata": {},
   "outputs": [],
   "source": [
    "alpha = .1\n",
    "comparisons = 4\n",
    "bonferroni_alpha = alpha/comparisons"
   ]
  },
  {
   "cell_type": "code",
   "execution_count": null,
   "metadata": {},
   "outputs": [],
   "source": [
    "#w/ outliers\n",
    "event246 = ControlGroup.query(\"experiment_id == 246\")['event_name'].value_counts()\n",
    "event247 = ControlGroup.query(\"experiment_id == 247\")['event_name'].value_counts()\n",
    "event248 = logs_exp_us_1_filtered.query(\"experiment_id == 248\")['event_name'].value_counts()\n",
    "\n",
    "#total number of events\n",
    "total246 = len(ControlGroup.query(\"experiment_id == 246\"))\n",
    "total247 = len(ControlGroup.query(\"experiment_id == 247\"))\n",
    "total248 = len(logs_exp_us_1_filtered.query(\"experiment_id == 248\"))"
   ]
  },
  {
   "cell_type": "code",
   "execution_count": null,
   "metadata": {},
   "outputs": [],
   "source": [
    "# w/o outliers\n",
    "event246_ = ControlGroup_NoOutliers.query(\"experiment_id == 246\")['event_name'].value_counts()\n",
    "event247_ = ControlGroup_NoOutliers.query(\"experiment_id == 247\")['event_name'].value_counts()\n",
    "event248_ = non_outliers.query(\"experiment_id == 248\")['event_name'].value_counts()\n",
    "\n",
    "#total number of events\n",
    "total246_ = len(ControlGroup_NoOutliers.query(\"experiment_id == 246\"))\n",
    "total247_ = len(ControlGroup_NoOutliers.query(\"experiment_id == 247\"))\n",
    "total248_ = len(non_outliers.query(\"experiment_id == 248\"))"
   ]
  },
  {
   "cell_type": "code",
   "execution_count": null,
   "metadata": {},
   "outputs": [],
   "source": [
    "events =['MainScreenAppear','OffersScreenAppear','CartScreenAppear','PaymentScreenSuccessful']\n"
   ]
  },
  {
   "cell_type": "markdown",
   "metadata": {},
   "source": [
    "**For each event:**\n",
    "- HO: Group 246 event proportion (μ) == Group 247 event proportion (μ) --w/outliers and no outliers\n",
    "- H1: Group 246 event proportion (μ) != Group 247 event proportion (μ) -- w.outliers and no outliers"
   ]
  },
  {
   "cell_type": "code",
   "execution_count": null,
   "metadata": {},
   "outputs": [],
   "source": [
    "for event in events:\n",
    "    proportion_ztest(\n",
    "        bonferroni_alpha,  # bonferroni_alpha,\n",
    "        [event246[event], event247[event]],\n",
    "        [total246,total247],\n",
    "        event,\n",
    "        'AA_Events ',\n",
    "        '246',\n",
    "        '247',\"Event Proportion\")"
   ]
  },
  {
   "cell_type": "markdown",
   "metadata": {},
   "source": [
    "All event proportions relative comparisons we're found to be statistically significant (p <.001). (1) Control group 246 had the larger shares in the payment and cart screens (2) Control group 247 had the larger relative share in the mainscreen and offerscreen. This reflects what we saw earlier in the cumulative metrics. Unique users who make a lot of purchases seem to have been placed in 246 at a larger share than in 247\n",
    "\n",
    "Statistically speaking, visitors to the site from control group 246 and experimental group 248, start of at the same proportions, but after that they differ: a higher proportion from the experimental group get past the first stage (to offers screen) (p < .001) but then after proceed less to the cart (p <.001) and purchase stage (p <.001).\n",
    "\n",
    "On the other hand, statistically speaking, those in control group 247 will tend to visit the site more often (p<.001) but then have equal proportions in the next even (offerscreen) indicating a larger dropout in the first stage relative to the experimental group. Thereafter, individuals in the experimental group will more often than not, have a higher event proportion in the cart screen (p<.001) and payment screen (p<.001)."
   ]
  },
  {
   "cell_type": "markdown",
   "metadata": {},
   "source": [
    "<div class=\"alert alert-block alert-success\">\n",
    "<b>Reviewer's comment. V.2.</b> <a class=\"tocSkip\"></a>\n",
    "    \n",
    "Yep! :)  </div>"
   ]
  },
  {
   "cell_type": "code",
   "execution_count": null,
   "metadata": {},
   "outputs": [],
   "source": [
    "for event in events:\n",
    "    proportion_ztest(\n",
    "        bonferroni_alpha,  # bonferroni_alpha,\n",
    "        [event246_[event], event247_[event]],\n",
    "        [total246_,total247_],\n",
    "        event,\n",
    "        'AA_Events ',\n",
    "        '246',\n",
    "        '247',\"Event Proportion\")"
   ]
  },
  {
   "cell_type": "markdown",
   "metadata": {},
   "source": [
    "When accounting for outliers, the statistically significant results still stand however, as indicated by their z-values, the differences in proportion (dataframe containing outliers) decrease throughout the events.\n",
    "\n",
    "This may be of interest to study further as it seems like users were not seperated in each event equally."
   ]
  },
  {
   "cell_type": "markdown",
   "metadata": {},
   "source": [
    "<div class=\"alert alert-block alert-success\">\n",
    "<b>Reviewer's comment. V.2.</b> <a class=\"tocSkip\"></a>\n",
    "    \n",
    "Well done! :)  </div>"
   ]
  },
  {
   "cell_type": "markdown",
   "metadata": {},
   "source": [
    "# EVENT PROPORTIONS: EVENT COUNT {Group X} / TOTAL EVENTS {Group X}\n",
    "**For each event:**\n",
    "- HO: Group 248 event proportion (μ) == Group 246 event proportion (μ) --w/outliers and no outliers\n",
    "- H1: Group 248 event proportion (μ) != Group 246 event proportion (μ) -- w.outliers and no outliers\n",
    "- HO: Group 248 event proportion (μ) == Group 247 event proportion (μ) --w/outliers and no outliers\n",
    "- H1: Group 248 event proportion (μ) != Group 247 event proportion (μ) -- w.outliers and no outliers"
   ]
  },
  {
   "cell_type": "code",
   "execution_count": null,
   "metadata": {},
   "outputs": [],
   "source": [
    "alpha = .1\n",
    "event, groups = 4,2\n",
    "comparisons = event * groups \n",
    "bonferroni_alpha = alpha/(event* comparisons)"
   ]
  },
  {
   "cell_type": "code",
   "execution_count": null,
   "metadata": {},
   "outputs": [],
   "source": [
    "for event in events:\n",
    "    for AA_group, totalAA,label  in zip([event246, event247], [total246, total247],['246','247']):\n",
    "        proportion_ztest(bonferroni_alpha,\n",
    "                         [event248[event], AA_group[event]], [total248,totalAA],\n",
    "                          event, 'AB - Events', 'B: 248',\n",
    "                         'A:'+label,\"Event Proportion\")"
   ]
  },
  {
   "cell_type": "markdown",
   "metadata": {},
   "source": [
    "Event proportions from control group 247 have a higher mainscreen proportion rate than the experimental group (p<.001), but less in the cart screen (p <.001) and purchase screen (p <.001).\n",
    "\n",
    "An inverse result appears between control group 246 and the experimental group. Statistically speaking, visitors to the site from experimental group 248 have a higher mainscreen proportion rate than control group 246 (p<.001), but less in the cart screen (p <.001) and purchase screen (p <.001).\n",
    "\n",
    "Let's run this again for the non-outlier data."
   ]
  },
  {
   "cell_type": "markdown",
   "metadata": {},
   "source": [
    "<div class=\"alert alert-block alert-success\">\n",
    "<b>Reviewer's comment. V.2.</b> <a class=\"tocSkip\"></a>\n",
    "    \n",
    ":)  </div>"
   ]
  },
  {
   "cell_type": "code",
   "execution_count": null,
   "metadata": {},
   "outputs": [],
   "source": [
    "for event in events:\n",
    "    for AA_group, totalAA,label in zip([event246_, event247_], [total246_, total247_],['246','247']):\n",
    "        proportion_ztest(bonferroni_alpha,\n",
    "                         [event248_[event], AA_group[event]], [total248_,totalAA],\n",
    "                          event, 'AB - Events', 'B: 248',\n",
    "                         'A: '+label,\"Event Proportion\")"
   ]
  },
  {
   "cell_type": "markdown",
   "metadata": {},
   "source": [
    "When comparing these results against the results seen in the dataframe with outliers, similar results appear as the last one. In particular, we can observe that the event poroportions for the cart and offer screen statistically differ between the two control group and experimental group. Interestingly enough, results favor 248 in relation to control group 247. On the other hand, results favor the control group 246 in relation to the experimental group."
   ]
  },
  {
   "cell_type": "markdown",
   "metadata": {},
   "source": [
    "<div class=\"alert alert-block alert-success\">\n",
    "<b>Reviewer's comment</b> <a class=\"tocSkip\"></a>\n",
    "    \n",
    "Perfect! :)  </div>"
   ]
  },
  {
   "cell_type": "markdown",
   "metadata": {},
   "source": [
    "**CONVERSION RATE: Unique customers / Unique visitors**\n",
    "- **Per AA group:**\n",
    "- HO: Group 248 user conversion rates (μ) = AA group user conversion rate (μ) --w/outliers and no outliers\n",
    "- H1: Group 248 user conversion rates (μ) != AA group user conversion rate (μ) -- w.outliers and no outliers\n",
    "Checking if font size for experimental group 248 converts more unique users."
   ]
  },
  {
   "cell_type": "code",
   "execution_count": null,
   "metadata": {},
   "outputs": [],
   "source": [
    "bonferroni_alpha = alpha / 2\n"
   ]
  },
  {
   "cell_type": "code",
   "execution_count": null,
   "metadata": {},
   "outputs": [],
   "source": [
    "B_test = pd.merge(logs_exp_us_1_filtered.query(\"experiment_id == 248 and event_name in ['PaymentScreenSuccessful']\"\n",
    "             ).groupby('experiment_id').agg({\"user_id\":\"nunique\"}),\n",
    "        logs_exp_us_1_filtered.query(\"experiment_id == 248\"\n",
    "             ).groupby('experiment_id').agg({\"user_id\":\"nunique\"}),left_index=True, right_index=True)"
   ]
  },
  {
   "cell_type": "code",
   "execution_count": null,
   "metadata": {},
   "outputs": [],
   "source": [
    "B_test_NoOutliers= pd.merge(non_outliers.query(\"experiment_id == 248 and event_name in ['PaymentScreenSuccessful']\"\n",
    "             ).groupby('experiment_id').agg({\"user_id\":\"nunique\"}),\n",
    "                  non_outliers.query(\"experiment_id == 248\"\n",
    "             ).groupby('experiment_id').agg({\"user_id\":\"nunique\"}),left_index=True, right_index=True)"
   ]
  },
  {
   "cell_type": "code",
   "execution_count": null,
   "metadata": {},
   "outputs": [],
   "source": [
    "B_test.columns = ['unique_customers','unique_visitors']\n",
    "B_test_NoOutliers.columns = ['unique_customers','unique_visitors']"
   ]
  },
  {
   "cell_type": "code",
   "execution_count": null,
   "metadata": {},
   "outputs": [],
   "source": [
    "AA_test.iloc[0]\n"
   ]
  },
  {
   "cell_type": "code",
   "execution_count": null,
   "metadata": {},
   "outputs": [],
   "source": [
    "proportion_ztest\n"
   ]
  },
  {
   "cell_type": "code",
   "execution_count": null,
   "metadata": {
    "scrolled": true
   },
   "outputs": [],
   "source": [
    "for AA_group in range(2):\n",
    "    A = AA_test.iloc[AA_group]\n",
    "    proportion_ztest(bonferroni_alpha,\n",
    "                    [int(B_test['unique_customers']), A.loc['unique_customers']],\n",
    "                    [int(B_test['unique_visitors']), A.loc['unique_visitors']],   \n",
    "                     '', 'AB','248',AA_test.index[AA_group])"
   ]
  },
  {
   "cell_type": "markdown",
   "metadata": {},
   "source": [
    "<div class=\"alert alert-block alert-success\">\n",
    "<b>Reviewer's comment</b> <a class=\"tocSkip\"></a>\n",
    "    \n",
    "It is very good! We haven't problems! :)  </div>"
   ]
  },
  {
   "cell_type": "markdown",
   "metadata": {},
   "source": [
    "User conversion rates amongst the two groups is not statistically significant. Let's filter out the outliers and check again.\n",
    "\n"
   ]
  },
  {
   "cell_type": "code",
   "execution_count": null,
   "metadata": {},
   "outputs": [],
   "source": [
    "for AA_group in range(2):\n",
    "    A = AA_NoOutliers_test.iloc[AA_group]\n",
    "    proportion_ztest(bonferroni_alpha,\n",
    "                    [int(B_test_NoOutliers['unique_customers']), A.loc['unique_customers']],\n",
    "                    [int(B_test_NoOutliers['unique_visitors']), A.loc['unique_visitors']],   \n",
    "                     '', 'AB','248',AA_NoOutliers_test.index[AA_group])"
   ]
  },
  {
   "cell_type": "markdown",
   "metadata": {},
   "source": [
    "When accounting for outliers (and more reliable data for that ammter),the same relations remain.\n",
    "\n"
   ]
  },
  {
   "cell_type": "markdown",
   "metadata": {},
   "source": [
    "<div class=\"alert alert-block alert-success\">\n",
    "<b>Reviewer's comment. V.2.</b> <a class=\"tocSkip\"></a>\n",
    "    \n",
    "Yep! Now our results are full. :) </div>"
   ]
  },
  {
   "cell_type": "markdown",
   "metadata": {},
   "source": [
    "# conclusion"
   ]
  },
  {
   "cell_type": "markdown",
   "metadata": {},
   "source": [
    "* On the aggregate level, roughly 40% of unique users who enter the main screen don't proceed to the next stage, offer screen. However, around 81% of users in the offer screen continue to the next stage screen and 94% of them go on to successfully make their purchase.\n",
    "* Around half of all visits land on the main screen page with < 14% landing on the paymentscreen page. With a 14% conversion rate.\n",
    "* Users where within .5% of each other - evenly divided across all experimental groups\n",
    "* Without outliers, there seems to be a problem: Control group A (246) has a higher user conversion rate in comparison to the other control group (247). However, when taking the outliers into account, the difference is no longer apparent across all groups. The cumulative metric graph has shown that user conversion rates have stabilized.\n",
    "* Most event proportions we're found to be statistically significant (p <.001) amongst all groups indicating some potential bias in the splitting of users in each event.\n",
    "* Relative to the experimental group:\n",
    "  - (1) Control group 246 had the larger shares in the payment and cart screens (2) Control group 247 had the larger relative share in the mainscreen and offerscreen.\n",
    "* A/B tests showed no statistically significant results (p > .05) amongst the groups regardless of outliers being present or not."
   ]
  },
  {
   "cell_type": "markdown",
   "metadata": {},
   "source": [
    "# Recommendation\n"
   ]
  },
  {
   "cell_type": "markdown",
   "metadata": {},
   "source": [
    "- 1 A further analysis should be done looking at potential errors occurring during the mainscreen and offerscreen stages based on the differing proportions amongst the control groups.\n",
    "- 2 Need for improvements in retention at the offer screen as well as potential for improvement in getting customer's from purchasing the items that they have in their cart.\n",
    "- 3 Based on the non-significant the A/B test results, stabilizing cumulative charts, the company should: Stop the experiment as the results don't show any improvement in user conversion rates between the control groups and the experimental group\n",
    "all relevant t-tests regardless of outlier presence: p > .05\n"
   ]
  },
  {
   "cell_type": "markdown",
   "metadata": {},
   "source": [
    "<div class=\"alert alert-block alert-success\">\n",
    "<b>Reviewer's comment. V.2.</b> <a class=\"tocSkip\"></a>\n",
    "    \n",
    "So, you are right. New fonts are not important. We made a lot of tests and choose good alpha and confirm it by code. Thank you for sum up all here. Very good conclusion! :) </div>"
   ]
  }
 ],
 "metadata": {
  "ExecuteTimeLog": [
   {
    "duration": 1866,
    "start_time": "2022-03-01T11:26:47.069Z"
   },
   {
    "duration": 69,
    "start_time": "2022-03-01T13:04:02.996Z"
   },
   {
    "duration": 337,
    "start_time": "2022-03-01T13:04:35.004Z"
   },
   {
    "duration": 126,
    "start_time": "2022-03-01T13:05:03.531Z"
   },
   {
    "duration": 897,
    "start_time": "2022-03-01T13:06:14.547Z"
   },
   {
    "duration": 303,
    "start_time": "2022-03-01T13:07:21.899Z"
   },
   {
    "duration": 10,
    "start_time": "2022-03-01T13:07:35.132Z"
   },
   {
    "duration": 309,
    "start_time": "2022-03-01T13:07:43.962Z"
   },
   {
    "duration": 968,
    "start_time": "2022-03-01T13:08:00.628Z"
   },
   {
    "duration": 154,
    "start_time": "2022-03-01T13:10:32.896Z"
   },
   {
    "duration": 11,
    "start_time": "2022-03-01T13:11:58.651Z"
   },
   {
    "duration": 243,
    "start_time": "2022-03-01T13:21:45.278Z"
   },
   {
    "duration": 11,
    "start_time": "2022-03-01T13:22:12.796Z"
   },
   {
    "duration": 2524,
    "start_time": "2022-03-01T13:22:37.703Z"
   },
   {
    "duration": 2327,
    "start_time": "2022-03-01T13:23:03.881Z"
   },
   {
    "duration": 2307,
    "start_time": "2022-03-01T13:24:31.620Z"
   },
   {
    "duration": 12,
    "start_time": "2022-03-01T13:24:37.529Z"
   },
   {
    "duration": 159,
    "start_time": "2022-03-01T13:24:40.739Z"
   },
   {
    "duration": 12,
    "start_time": "2022-03-01T13:24:42.500Z"
   },
   {
    "duration": 252,
    "start_time": "2022-03-01T13:24:46.348Z"
   },
   {
    "duration": 2237,
    "start_time": "2022-03-01T13:24:56.071Z"
   },
   {
    "duration": 2389,
    "start_time": "2022-03-01T13:25:03.651Z"
   },
   {
    "duration": 13,
    "start_time": "2022-03-01T13:25:10.509Z"
   },
   {
    "duration": 2237,
    "start_time": "2022-03-01T13:25:12.344Z"
   },
   {
    "duration": 2544,
    "start_time": "2022-03-01T13:25:21.248Z"
   },
   {
    "duration": 13,
    "start_time": "2022-03-01T13:25:43.882Z"
   },
   {
    "duration": 156,
    "start_time": "2022-03-01T13:25:44.695Z"
   },
   {
    "duration": 10,
    "start_time": "2022-03-01T13:25:45.443Z"
   },
   {
    "duration": 261,
    "start_time": "2022-03-01T13:25:51.537Z"
   },
   {
    "duration": 2404,
    "start_time": "2022-03-01T13:26:04.003Z"
   },
   {
    "duration": 2248,
    "start_time": "2022-03-01T13:26:15.558Z"
   },
   {
    "duration": 17,
    "start_time": "2022-03-01T13:26:22.880Z"
   },
   {
    "duration": 2304,
    "start_time": "2022-03-01T13:26:32.915Z"
   },
   {
    "duration": 16,
    "start_time": "2022-03-01T13:26:38.180Z"
   },
   {
    "duration": 171,
    "start_time": "2022-03-01T13:26:38.894Z"
   },
   {
    "duration": 11,
    "start_time": "2022-03-01T13:26:39.844Z"
   },
   {
    "duration": 237,
    "start_time": "2022-03-01T13:26:42.817Z"
   },
   {
    "duration": 12,
    "start_time": "2022-03-01T13:26:47.968Z"
   },
   {
    "duration": 20,
    "start_time": "2022-03-01T13:28:01.254Z"
   },
   {
    "duration": 20,
    "start_time": "2022-03-01T13:28:20.207Z"
   },
   {
    "duration": 94,
    "start_time": "2022-03-01T13:28:45.351Z"
   },
   {
    "duration": 63,
    "start_time": "2022-03-01T13:32:47.708Z"
   },
   {
    "duration": 346,
    "start_time": "2022-03-01T13:34:22.218Z"
   },
   {
    "duration": 76,
    "start_time": "2022-03-01T13:34:46.820Z"
   },
   {
    "duration": 151,
    "start_time": "2022-03-01T13:35:19.978Z"
   },
   {
    "duration": 84,
    "start_time": "2022-03-01T13:36:10.175Z"
   },
   {
    "duration": 77,
    "start_time": "2022-03-01T13:39:19.801Z"
   },
   {
    "duration": 280,
    "start_time": "2022-03-01T13:40:23.655Z"
   },
   {
    "duration": 294,
    "start_time": "2022-03-01T13:40:45.776Z"
   },
   {
    "duration": 282,
    "start_time": "2022-03-01T13:41:42.495Z"
   },
   {
    "duration": 94,
    "start_time": "2022-03-01T13:42:26.114Z"
   },
   {
    "duration": 108,
    "start_time": "2022-03-01T13:43:31.677Z"
   },
   {
    "duration": 14,
    "start_time": "2022-03-01T13:43:57.488Z"
   },
   {
    "duration": 173,
    "start_time": "2022-03-01T13:43:57.505Z"
   },
   {
    "duration": 17,
    "start_time": "2022-03-01T13:43:57.680Z"
   },
   {
    "duration": 270,
    "start_time": "2022-03-01T13:43:57.701Z"
   },
   {
    "duration": 22,
    "start_time": "2022-03-01T13:43:57.973Z"
   },
   {
    "duration": 25,
    "start_time": "2022-03-01T13:43:57.998Z"
   },
   {
    "duration": 19,
    "start_time": "2022-03-01T13:43:58.025Z"
   },
   {
    "duration": 144,
    "start_time": "2022-03-01T13:43:58.047Z"
   },
   {
    "duration": 68,
    "start_time": "2022-03-01T13:43:58.198Z"
   },
   {
    "duration": 84,
    "start_time": "2022-03-01T13:43:58.269Z"
   },
   {
    "duration": 328,
    "start_time": "2022-03-01T13:43:58.356Z"
   },
   {
    "duration": 69,
    "start_time": "2022-03-01T13:43:58.689Z"
   },
   {
    "duration": 75,
    "start_time": "2022-03-01T13:53:05.413Z"
   },
   {
    "duration": 451,
    "start_time": "2022-03-01T13:53:14.505Z"
   },
   {
    "duration": 246,
    "start_time": "2022-03-01T13:53:24.713Z"
   },
   {
    "duration": 73,
    "start_time": "2022-03-01T13:55:15.851Z"
   },
   {
    "duration": 72,
    "start_time": "2022-03-01T13:55:34.482Z"
   },
   {
    "duration": 265,
    "start_time": "2022-03-01T13:57:05.578Z"
   },
   {
    "duration": 10,
    "start_time": "2022-03-01T13:57:36.803Z"
   },
   {
    "duration": 162,
    "start_time": "2022-03-01T13:57:36.816Z"
   },
   {
    "duration": 11,
    "start_time": "2022-03-01T13:57:36.983Z"
   },
   {
    "duration": 248,
    "start_time": "2022-03-01T13:57:36.997Z"
   },
   {
    "duration": 12,
    "start_time": "2022-03-01T13:57:37.247Z"
   },
   {
    "duration": 34,
    "start_time": "2022-03-01T13:57:37.261Z"
   },
   {
    "duration": 34,
    "start_time": "2022-03-01T13:57:37.298Z"
   },
   {
    "duration": 105,
    "start_time": "2022-03-01T13:57:37.334Z"
   },
   {
    "duration": 97,
    "start_time": "2022-03-01T13:57:37.443Z"
   },
   {
    "duration": 263,
    "start_time": "2022-03-01T13:57:37.544Z"
   },
   {
    "duration": 5,
    "start_time": "2022-03-01T13:57:37.810Z"
   },
   {
    "duration": 77,
    "start_time": "2022-03-01T13:58:56.910Z"
   },
   {
    "duration": 7,
    "start_time": "2022-03-01T14:02:00.790Z"
   },
   {
    "duration": 458,
    "start_time": "2022-03-01T14:03:42.890Z"
   },
   {
    "duration": 35,
    "start_time": "2022-03-01T14:04:18.434Z"
   },
   {
    "duration": 441,
    "start_time": "2022-03-01T14:05:44.790Z"
   },
   {
    "duration": 395,
    "start_time": "2022-03-01T14:08:42.155Z"
   },
   {
    "duration": 380,
    "start_time": "2022-03-01T14:11:04.515Z"
   },
   {
    "duration": 338,
    "start_time": "2022-03-01T14:11:27.235Z"
   },
   {
    "duration": 358,
    "start_time": "2022-03-01T14:11:43.073Z"
   },
   {
    "duration": 217,
    "start_time": "2022-03-01T14:18:44.173Z"
   },
   {
    "duration": 20,
    "start_time": "2022-03-01T14:18:57.964Z"
   },
   {
    "duration": 69,
    "start_time": "2022-03-01T14:21:44.741Z"
   },
   {
    "duration": 8,
    "start_time": "2022-03-01T14:22:22.114Z"
   },
   {
    "duration": 17,
    "start_time": "2022-03-01T14:25:22.333Z"
   },
   {
    "duration": 14,
    "start_time": "2022-03-01T14:29:46.227Z"
   },
   {
    "duration": 78,
    "start_time": "2022-03-01T14:30:43.139Z"
   },
   {
    "duration": 80,
    "start_time": "2022-03-01T14:31:08.023Z"
   },
   {
    "duration": 16,
    "start_time": "2022-03-01T14:31:49.515Z"
   },
   {
    "duration": 13,
    "start_time": "2022-03-01T14:33:19.067Z"
   },
   {
    "duration": 14,
    "start_time": "2022-03-01T14:33:38.200Z"
   },
   {
    "duration": 73,
    "start_time": "2022-03-01T14:33:51.481Z"
   },
   {
    "duration": 76,
    "start_time": "2022-03-01T14:34:07.994Z"
   },
   {
    "duration": 17,
    "start_time": "2022-03-01T14:34:26.161Z"
   },
   {
    "duration": 13,
    "start_time": "2022-03-01T14:34:40.140Z"
   },
   {
    "duration": 7,
    "start_time": "2022-03-01T14:54:28.453Z"
   },
   {
    "duration": 25,
    "start_time": "2022-03-01T14:56:12.206Z"
   },
   {
    "duration": 258,
    "start_time": "2022-03-01T15:03:50.308Z"
   },
   {
    "duration": 2400,
    "start_time": "2022-03-01T15:04:01.848Z"
   },
   {
    "duration": 377,
    "start_time": "2022-03-01T15:04:41.356Z"
   },
   {
    "duration": 372,
    "start_time": "2022-03-01T15:04:51.720Z"
   },
   {
    "duration": 219,
    "start_time": "2022-03-01T15:05:55.778Z"
   },
   {
    "duration": 29,
    "start_time": "2022-03-01T15:09:38.500Z"
   },
   {
    "duration": 30,
    "start_time": "2022-03-01T15:09:51.135Z"
   },
   {
    "duration": 245,
    "start_time": "2022-03-01T15:10:22.499Z"
   },
   {
    "duration": 225,
    "start_time": "2022-03-01T15:10:55.836Z"
   },
   {
    "duration": 510,
    "start_time": "2022-03-01T15:12:37.607Z"
   },
   {
    "duration": 214,
    "start_time": "2022-03-01T15:14:00.038Z"
   },
   {
    "duration": 9,
    "start_time": "2022-03-01T15:17:57.997Z"
   },
   {
    "duration": 156,
    "start_time": "2022-03-01T15:20:18.133Z"
   },
   {
    "duration": 11,
    "start_time": "2022-03-01T15:20:21.681Z"
   },
   {
    "duration": 218,
    "start_time": "2022-03-01T15:20:21.899Z"
   },
   {
    "duration": 12,
    "start_time": "2022-03-01T15:20:22.119Z"
   },
   {
    "duration": 20,
    "start_time": "2022-03-01T15:20:22.315Z"
   },
   {
    "duration": 20,
    "start_time": "2022-03-01T15:20:22.510Z"
   },
   {
    "duration": 96,
    "start_time": "2022-03-01T15:20:22.725Z"
   },
   {
    "duration": 82,
    "start_time": "2022-03-01T15:20:23.136Z"
   },
   {
    "duration": 244,
    "start_time": "2022-03-01T15:20:23.359Z"
   },
   {
    "duration": 73,
    "start_time": "2022-03-01T15:20:23.771Z"
   },
   {
    "duration": 511,
    "start_time": "2022-03-01T15:20:24.399Z"
   },
   {
    "duration": 9,
    "start_time": "2022-03-01T15:20:26.627Z"
   },
   {
    "duration": 26,
    "start_time": "2022-03-01T15:20:30.169Z"
   },
   {
    "duration": 211,
    "start_time": "2022-03-01T15:20:34.673Z"
   },
   {
    "duration": 209278,
    "start_time": "2022-03-01T15:20:46.072Z"
   },
   {
    "duration": 211,
    "start_time": "2022-03-01T15:25:07.097Z"
   },
   {
    "duration": 6575,
    "start_time": "2022-03-01T15:25:57.018Z"
   },
   {
    "duration": 266,
    "start_time": "2022-03-01T15:26:40.220Z"
   },
   {
    "duration": 218,
    "start_time": "2022-03-01T15:27:18.156Z"
   },
   {
    "duration": 21,
    "start_time": "2022-03-01T15:27:28.565Z"
   },
   {
    "duration": 225,
    "start_time": "2022-03-01T15:27:54.262Z"
   },
   {
    "duration": 229,
    "start_time": "2022-03-01T15:28:38.587Z"
   },
   {
    "duration": 29,
    "start_time": "2022-03-01T15:29:03.830Z"
   },
   {
    "duration": 30,
    "start_time": "2022-03-01T15:30:37.634Z"
   },
   {
    "duration": 30,
    "start_time": "2022-03-01T15:30:46.090Z"
   },
   {
    "duration": 219,
    "start_time": "2022-03-01T15:30:59.301Z"
   },
   {
    "duration": 19,
    "start_time": "2022-03-01T15:31:11.930Z"
   },
   {
    "duration": 18,
    "start_time": "2022-03-01T15:31:30.488Z"
   },
   {
    "duration": 21,
    "start_time": "2022-03-01T15:32:03.346Z"
   },
   {
    "duration": 21,
    "start_time": "2022-03-01T15:32:11.008Z"
   },
   {
    "duration": 239,
    "start_time": "2022-03-01T15:32:24.243Z"
   },
   {
    "duration": 269,
    "start_time": "2022-03-01T15:32:46.704Z"
   },
   {
    "duration": 21,
    "start_time": "2022-03-01T15:33:01.823Z"
   },
   {
    "duration": 109,
    "start_time": "2022-03-01T15:36:19.871Z"
   },
   {
    "duration": 75,
    "start_time": "2022-03-01T15:36:33.716Z"
   },
   {
    "duration": 209,
    "start_time": "2022-03-01T15:36:49.888Z"
   },
   {
    "duration": 98,
    "start_time": "2022-03-01T15:51:37.405Z"
   },
   {
    "duration": 10875,
    "start_time": "2022-03-01T15:52:41.979Z"
   },
   {
    "duration": 9,
    "start_time": "2022-03-01T15:55:48.870Z"
   },
   {
    "duration": 8,
    "start_time": "2022-03-01T15:56:58.799Z"
   },
   {
    "duration": 9,
    "start_time": "2022-03-01T16:03:08.211Z"
   },
   {
    "duration": 285,
    "start_time": "2022-03-01T16:06:50.650Z"
   },
   {
    "duration": 24,
    "start_time": "2022-03-01T16:07:17.163Z"
   },
   {
    "duration": 28,
    "start_time": "2022-03-01T16:07:34.843Z"
   },
   {
    "duration": 14,
    "start_time": "2022-03-01T16:08:20.826Z"
   },
   {
    "duration": 9,
    "start_time": "2022-03-01T16:09:09.707Z"
   },
   {
    "duration": 6,
    "start_time": "2022-03-01T16:12:58.811Z"
   },
   {
    "duration": 11862,
    "start_time": "2022-03-01T16:17:02.507Z"
   },
   {
    "duration": 6,
    "start_time": "2022-03-01T16:17:14.384Z"
   },
   {
    "duration": 790,
    "start_time": "2022-03-01T16:17:25.777Z"
   },
   {
    "duration": 638,
    "start_time": "2022-03-01T16:20:18.289Z"
   },
   {
    "duration": 662,
    "start_time": "2022-03-01T16:22:13.863Z"
   },
   {
    "duration": 609,
    "start_time": "2022-03-01T16:22:23.750Z"
   },
   {
    "duration": 77,
    "start_time": "2022-03-01T16:22:56.066Z"
   },
   {
    "duration": 669,
    "start_time": "2022-03-01T16:23:10.630Z"
   },
   {
    "duration": 7,
    "start_time": "2022-03-01T16:23:34.873Z"
   },
   {
    "duration": 7,
    "start_time": "2022-03-01T16:23:48.548Z"
   },
   {
    "duration": 33,
    "start_time": "2022-03-01T16:24:07.612Z"
   },
   {
    "duration": 50,
    "start_time": "2022-03-01T16:24:55.353Z"
   },
   {
    "duration": 8,
    "start_time": "2022-03-01T16:26:26.029Z"
   },
   {
    "duration": 29,
    "start_time": "2022-03-01T16:26:51.024Z"
   },
   {
    "duration": 21,
    "start_time": "2022-03-01T16:28:44.818Z"
   },
   {
    "duration": 252,
    "start_time": "2022-03-01T16:29:03.561Z"
   },
   {
    "duration": 17,
    "start_time": "2022-03-01T16:29:23.622Z"
   },
   {
    "duration": 11864,
    "start_time": "2022-03-01T16:30:43.683Z"
   },
   {
    "duration": 22,
    "start_time": "2022-03-01T16:32:29.799Z"
   },
   {
    "duration": 240,
    "start_time": "2022-03-01T16:40:03.344Z"
   },
   {
    "duration": 282,
    "start_time": "2022-03-01T16:40:14.829Z"
   },
   {
    "duration": 97,
    "start_time": "2022-03-01T16:42:50.127Z"
   },
   {
    "duration": 39,
    "start_time": "2022-03-01T16:44:27.060Z"
   },
   {
    "duration": 23,
    "start_time": "2022-03-01T16:44:35.274Z"
   },
   {
    "duration": 109,
    "start_time": "2022-03-01T16:44:53.964Z"
   },
   {
    "duration": 22,
    "start_time": "2022-03-01T16:44:57.333Z"
   },
   {
    "duration": 29,
    "start_time": "2022-03-01T16:46:20.008Z"
   },
   {
    "duration": 34,
    "start_time": "2022-03-01T16:46:57.834Z"
   },
   {
    "duration": 49,
    "start_time": "2022-03-01T16:47:32.681Z"
   },
   {
    "duration": 37,
    "start_time": "2022-03-01T16:48:08.911Z"
   },
   {
    "duration": 68,
    "start_time": "2022-03-01T16:52:49.003Z"
   },
   {
    "duration": 34,
    "start_time": "2022-03-01T16:52:59.868Z"
   },
   {
    "duration": 24,
    "start_time": "2022-03-01T16:53:37.545Z"
   },
   {
    "duration": 45,
    "start_time": "2022-03-01T16:54:19.236Z"
   },
   {
    "duration": 14,
    "start_time": "2022-03-01T16:54:51.248Z"
   },
   {
    "duration": 27,
    "start_time": "2022-03-01T16:55:24.128Z"
   },
   {
    "duration": 20,
    "start_time": "2022-03-01T16:59:09.017Z"
   },
   {
    "duration": 313,
    "start_time": "2022-03-01T16:59:18.303Z"
   },
   {
    "duration": 66,
    "start_time": "2022-03-01T16:59:34.875Z"
   },
   {
    "duration": 49,
    "start_time": "2022-03-01T17:00:13.631Z"
   },
   {
    "duration": 47,
    "start_time": "2022-03-01T17:00:57.107Z"
   },
   {
    "duration": 70,
    "start_time": "2022-03-01T17:02:58.857Z"
   },
   {
    "duration": 14,
    "start_time": "2022-03-01T17:03:40.366Z"
   },
   {
    "duration": 13,
    "start_time": "2022-03-01T17:04:04.547Z"
   },
   {
    "duration": 11,
    "start_time": "2022-03-01T17:05:02.940Z"
   },
   {
    "duration": 25,
    "start_time": "2022-03-01T17:05:17.176Z"
   },
   {
    "duration": 23,
    "start_time": "2022-03-01T17:05:41.870Z"
   },
   {
    "duration": 333,
    "start_time": "2022-03-01T17:39:41.347Z"
   },
   {
    "duration": 7,
    "start_time": "2022-03-01T17:40:00.808Z"
   },
   {
    "duration": 762,
    "start_time": "2022-03-01T17:41:07.130Z"
   },
   {
    "duration": 665,
    "start_time": "2022-03-01T17:43:35.047Z"
   },
   {
    "duration": 665,
    "start_time": "2022-03-01T17:44:01.091Z"
   },
   {
    "duration": 21,
    "start_time": "2022-03-01T17:46:34.947Z"
   },
   {
    "duration": 17,
    "start_time": "2022-03-01T17:46:45.369Z"
   },
   {
    "duration": 5,
    "start_time": "2022-03-01T17:49:06.188Z"
   },
   {
    "duration": 25,
    "start_time": "2022-03-01T17:49:29.090Z"
   },
   {
    "duration": 6,
    "start_time": "2022-03-01T17:49:35.750Z"
   },
   {
    "duration": 6,
    "start_time": "2022-03-01T17:50:39.480Z"
   },
   {
    "duration": 28,
    "start_time": "2022-03-01T17:54:55.936Z"
   },
   {
    "duration": 20,
    "start_time": "2022-03-01T17:56:41.745Z"
   },
   {
    "duration": 33,
    "start_time": "2022-03-01T17:57:13.290Z"
   },
   {
    "duration": 21,
    "start_time": "2022-03-01T17:57:20.173Z"
   },
   {
    "duration": 21,
    "start_time": "2022-03-01T17:57:28.336Z"
   },
   {
    "duration": 22,
    "start_time": "2022-03-01T17:57:47.894Z"
   },
   {
    "duration": 37,
    "start_time": "2022-03-01T18:05:43.227Z"
   },
   {
    "duration": 42,
    "start_time": "2022-03-01T18:06:01.663Z"
   },
   {
    "duration": 481,
    "start_time": "2022-03-01T18:06:57.366Z"
   },
   {
    "duration": 473,
    "start_time": "2022-03-01T18:07:27.518Z"
   },
   {
    "duration": 469,
    "start_time": "2022-03-01T18:07:38.983Z"
   },
   {
    "duration": 3699,
    "start_time": "2022-03-01T18:08:11.353Z"
   },
   {
    "duration": 3607,
    "start_time": "2022-03-01T18:08:24.030Z"
   },
   {
    "duration": 3647,
    "start_time": "2022-03-01T18:08:41.601Z"
   },
   {
    "duration": 287,
    "start_time": "2022-03-01T18:09:00.612Z"
   },
   {
    "duration": 3856,
    "start_time": "2022-03-01T18:09:28.334Z"
   },
   {
    "duration": 456,
    "start_time": "2022-03-01T18:09:38.710Z"
   },
   {
    "duration": 79,
    "start_time": "2022-03-01T18:11:47.561Z"
   },
   {
    "duration": 70,
    "start_time": "2022-03-01T18:12:06.127Z"
   },
   {
    "duration": 84,
    "start_time": "2022-03-01T18:12:17.076Z"
   },
   {
    "duration": 72,
    "start_time": "2022-03-01T18:12:25.887Z"
   },
   {
    "duration": 509,
    "start_time": "2022-03-01T18:13:12.815Z"
   },
   {
    "duration": 77,
    "start_time": "2022-03-01T18:13:52.567Z"
   },
   {
    "duration": 307,
    "start_time": "2022-03-01T18:14:19.078Z"
   },
   {
    "duration": 339,
    "start_time": "2022-03-01T18:14:44.997Z"
   },
   {
    "duration": 34,
    "start_time": "2022-03-01T18:20:32.899Z"
   },
   {
    "duration": 27,
    "start_time": "2022-03-01T18:21:47.660Z"
   },
   {
    "duration": 27,
    "start_time": "2022-03-01T18:22:58.609Z"
   },
   {
    "duration": 4,
    "start_time": "2022-03-01T18:23:32.107Z"
   },
   {
    "duration": 58,
    "start_time": "2022-03-01T18:26:34.876Z"
   },
   {
    "duration": 272,
    "start_time": "2022-03-01T18:27:06.067Z"
   },
   {
    "duration": 63,
    "start_time": "2022-03-01T18:27:17.274Z"
   },
   {
    "duration": 283,
    "start_time": "2022-03-01T18:28:14.774Z"
   },
   {
    "duration": 259,
    "start_time": "2022-03-01T18:28:30.168Z"
   },
   {
    "duration": 27,
    "start_time": "2022-03-01T18:28:44.329Z"
   },
   {
    "duration": 218,
    "start_time": "2022-03-01T18:42:58.752Z"
   },
   {
    "duration": 609,
    "start_time": "2022-03-01T18:47:07.446Z"
   },
   {
    "duration": 452,
    "start_time": "2022-03-01T18:48:50.325Z"
   },
   {
    "duration": 571,
    "start_time": "2022-03-01T18:50:24.973Z"
   },
   {
    "duration": 423,
    "start_time": "2022-03-01T18:50:48.304Z"
   },
   {
    "duration": 413,
    "start_time": "2022-03-01T18:51:06.529Z"
   },
   {
    "duration": 633,
    "start_time": "2022-03-01T18:51:16.938Z"
   },
   {
    "duration": 402,
    "start_time": "2022-03-01T18:51:31.762Z"
   },
   {
    "duration": 412,
    "start_time": "2022-03-01T18:51:41.454Z"
   },
   {
    "duration": 433,
    "start_time": "2022-03-01T18:51:50.699Z"
   },
   {
    "duration": 447,
    "start_time": "2022-03-01T18:52:06.013Z"
   },
   {
    "duration": 471,
    "start_time": "2022-03-01T18:52:35.956Z"
   },
   {
    "duration": 6,
    "start_time": "2022-03-01T18:55:54.828Z"
   },
   {
    "duration": 266,
    "start_time": "2022-03-01T18:56:00.251Z"
   },
   {
    "duration": 424,
    "start_time": "2022-03-01T18:59:04.295Z"
   },
   {
    "duration": 650,
    "start_time": "2022-03-01T18:59:29.981Z"
   },
   {
    "duration": 594,
    "start_time": "2022-03-01T18:59:42.358Z"
   },
   {
    "duration": 555,
    "start_time": "2022-03-01T19:01:30.931Z"
   },
   {
    "duration": 255,
    "start_time": "2022-03-01T19:13:15.185Z"
   },
   {
    "duration": 243,
    "start_time": "2022-03-01T19:13:37.121Z"
   },
   {
    "duration": 28,
    "start_time": "2022-03-01T19:13:47.284Z"
   },
   {
    "duration": 65,
    "start_time": "2022-03-01T19:14:37.794Z"
   },
   {
    "duration": 237,
    "start_time": "2022-03-01T19:16:04.616Z"
   },
   {
    "duration": 259,
    "start_time": "2022-03-01T19:16:21.301Z"
   },
   {
    "duration": 62,
    "start_time": "2022-03-01T19:16:35.752Z"
   },
   {
    "duration": 26,
    "start_time": "2022-03-01T19:26:37.491Z"
   },
   {
    "duration": 5,
    "start_time": "2022-03-01T19:27:01.021Z"
   },
   {
    "duration": 160,
    "start_time": "2022-03-01T19:28:29.519Z"
   },
   {
    "duration": 17,
    "start_time": "2022-03-01T19:28:38.948Z"
   },
   {
    "duration": 4,
    "start_time": "2022-03-01T19:31:18.674Z"
   },
   {
    "duration": 14,
    "start_time": "2022-03-01T19:31:43.384Z"
   },
   {
    "duration": 35821,
    "start_time": "2022-03-01T19:33:19.420Z"
   },
   {
    "duration": 21,
    "start_time": "2022-03-01T19:33:55.244Z"
   },
   {
    "duration": 24,
    "start_time": "2022-03-01T19:34:24.075Z"
   },
   {
    "duration": 65,
    "start_time": "2022-03-01T19:44:44.399Z"
   },
   {
    "duration": 12,
    "start_time": "2022-03-01T19:47:24.546Z"
   },
   {
    "duration": 11,
    "start_time": "2022-03-01T19:49:02.630Z"
   },
   {
    "duration": 230,
    "start_time": "2022-03-01T19:50:30.158Z"
   },
   {
    "duration": 104,
    "start_time": "2022-03-01T19:50:43.342Z"
   },
   {
    "duration": 13,
    "start_time": "2022-03-01T19:53:22.987Z"
   },
   {
    "duration": 238,
    "start_time": "2022-03-01T19:54:14.423Z"
   },
   {
    "duration": 10,
    "start_time": "2022-03-01T19:54:52.619Z"
   },
   {
    "duration": 220,
    "start_time": "2022-03-01T19:55:02.524Z"
   },
   {
    "duration": 245,
    "start_time": "2022-03-01T19:56:17.208Z"
   },
   {
    "duration": 4782,
    "start_time": "2022-03-01T19:59:53.499Z"
   },
   {
    "duration": 14,
    "start_time": "2022-03-01T20:00:06.421Z"
   },
   {
    "duration": 2936,
    "start_time": "2022-03-01T20:00:15.061Z"
   },
   {
    "duration": 15,
    "start_time": "2022-03-01T20:00:18.002Z"
   },
   {
    "duration": 183,
    "start_time": "2022-03-01T20:00:18.022Z"
   },
   {
    "duration": 13,
    "start_time": "2022-03-01T20:00:18.209Z"
   },
   {
    "duration": 282,
    "start_time": "2022-03-01T20:00:18.225Z"
   },
   {
    "duration": 12,
    "start_time": "2022-03-01T20:00:18.509Z"
   },
   {
    "duration": 28,
    "start_time": "2022-03-01T20:00:18.524Z"
   },
   {
    "duration": 21,
    "start_time": "2022-03-01T20:00:18.584Z"
   },
   {
    "duration": 126,
    "start_time": "2022-03-01T20:00:18.608Z"
   },
   {
    "duration": 102,
    "start_time": "2022-03-01T20:00:18.737Z"
   },
   {
    "duration": 268,
    "start_time": "2022-03-01T20:00:18.842Z"
   },
   {
    "duration": 94,
    "start_time": "2022-03-01T20:00:19.113Z"
   },
   {
    "duration": 541,
    "start_time": "2022-03-01T20:00:19.209Z"
   },
   {
    "duration": 7,
    "start_time": "2022-03-01T20:00:19.753Z"
   },
   {
    "duration": 49,
    "start_time": "2022-03-01T20:00:19.762Z"
   },
   {
    "duration": 25,
    "start_time": "2022-03-01T20:00:19.813Z"
   },
   {
    "duration": 42,
    "start_time": "2022-03-01T20:00:19.841Z"
   },
   {
    "duration": 12,
    "start_time": "2022-03-01T20:00:19.886Z"
   },
   {
    "duration": 8,
    "start_time": "2022-03-01T20:00:19.900Z"
   },
   {
    "duration": 5,
    "start_time": "2022-03-01T20:00:19.911Z"
   },
   {
    "duration": 742,
    "start_time": "2022-03-01T20:00:19.919Z"
   },
   {
    "duration": 7,
    "start_time": "2022-03-01T20:00:20.663Z"
   },
   {
    "duration": 896,
    "start_time": "2022-03-01T20:00:20.686Z"
   },
   {
    "duration": 86,
    "start_time": "2022-03-01T20:00:21.585Z"
   },
   {
    "duration": 668,
    "start_time": "2022-03-01T20:00:21.005Z"
   },
   {
    "duration": 601,
    "start_time": "2022-03-01T20:00:21.074Z"
   },
   {
    "duration": 593,
    "start_time": "2022-03-01T20:00:21.083Z"
   },
   {
    "duration": 577,
    "start_time": "2022-03-01T20:00:21.101Z"
   },
   {
    "duration": 573,
    "start_time": "2022-03-01T20:00:21.106Z"
   },
   {
    "duration": 571,
    "start_time": "2022-03-01T20:00:21.110Z"
   },
   {
    "duration": 568,
    "start_time": "2022-03-01T20:00:21.114Z"
   },
   {
    "duration": 565,
    "start_time": "2022-03-01T20:00:21.118Z"
   },
   {
    "duration": 564,
    "start_time": "2022-03-01T20:00:21.121Z"
   },
   {
    "duration": 562,
    "start_time": "2022-03-01T20:00:21.124Z"
   },
   {
    "duration": 561,
    "start_time": "2022-03-01T20:00:21.127Z"
   },
   {
    "duration": 559,
    "start_time": "2022-03-01T20:00:21.130Z"
   },
   {
    "duration": 558,
    "start_time": "2022-03-01T20:00:21.132Z"
   },
   {
    "duration": 529,
    "start_time": "2022-03-01T20:00:21.162Z"
   },
   {
    "duration": 523,
    "start_time": "2022-03-01T20:00:21.170Z"
   },
   {
    "duration": 520,
    "start_time": "2022-03-01T20:00:21.174Z"
   },
   {
    "duration": 518,
    "start_time": "2022-03-01T20:00:21.178Z"
   },
   {
    "duration": 517,
    "start_time": "2022-03-01T20:00:21.180Z"
   },
   {
    "duration": 515,
    "start_time": "2022-03-01T20:00:21.183Z"
   },
   {
    "duration": 226,
    "start_time": "2022-03-01T20:00:38.538Z"
   },
   {
    "duration": 225,
    "start_time": "2022-03-01T20:00:49.777Z"
   },
   {
    "duration": 75,
    "start_time": "2022-03-01T20:01:36.782Z"
   },
   {
    "duration": 19701,
    "start_time": "2022-03-01T20:01:42.986Z"
   },
   {
    "duration": 3052,
    "start_time": "2022-03-01T20:02:28.648Z"
   },
   {
    "duration": 1918,
    "start_time": "2022-03-01T20:02:31.703Z"
   },
   {
    "duration": 166,
    "start_time": "2022-03-01T20:02:33.624Z"
   },
   {
    "duration": 10,
    "start_time": "2022-03-01T20:02:33.793Z"
   },
   {
    "duration": 261,
    "start_time": "2022-03-01T20:02:33.806Z"
   },
   {
    "duration": 17,
    "start_time": "2022-03-01T20:02:34.070Z"
   },
   {
    "duration": 23,
    "start_time": "2022-03-01T20:02:34.090Z"
   },
   {
    "duration": 65,
    "start_time": "2022-03-01T20:02:34.117Z"
   },
   {
    "duration": 121,
    "start_time": "2022-03-01T20:02:34.185Z"
   },
   {
    "duration": 111,
    "start_time": "2022-03-01T20:02:34.308Z"
   },
   {
    "duration": 322,
    "start_time": "2022-03-01T20:02:34.421Z"
   },
   {
    "duration": 116,
    "start_time": "2022-03-01T20:02:34.746Z"
   },
   {
    "duration": 553,
    "start_time": "2022-03-01T20:02:34.864Z"
   },
   {
    "duration": 10,
    "start_time": "2022-03-01T20:02:35.420Z"
   },
   {
    "duration": 64,
    "start_time": "2022-03-01T20:02:35.434Z"
   },
   {
    "duration": 30,
    "start_time": "2022-03-01T20:02:35.502Z"
   },
   {
    "duration": 58,
    "start_time": "2022-03-01T20:02:35.535Z"
   },
   {
    "duration": 11,
    "start_time": "2022-03-01T20:02:35.596Z"
   },
   {
    "duration": 10,
    "start_time": "2022-03-01T20:02:35.610Z"
   },
   {
    "duration": 65,
    "start_time": "2022-03-01T20:02:35.623Z"
   },
   {
    "duration": 684,
    "start_time": "2022-03-01T20:02:35.691Z"
   },
   {
    "duration": 7,
    "start_time": "2022-03-01T20:02:36.382Z"
   },
   {
    "duration": 777,
    "start_time": "2022-03-01T20:02:36.395Z"
   },
   {
    "duration": 73,
    "start_time": "2022-03-01T20:02:37.175Z"
   },
   {
    "duration": 644,
    "start_time": "2022-03-01T20:02:36.607Z"
   },
   {
    "duration": 624,
    "start_time": "2022-03-01T20:02:36.628Z"
   },
   {
    "duration": 611,
    "start_time": "2022-03-01T20:02:36.642Z"
   },
   {
    "duration": 598,
    "start_time": "2022-03-01T20:02:36.657Z"
   },
   {
    "duration": 565,
    "start_time": "2022-03-01T20:02:36.691Z"
   },
   {
    "duration": 564,
    "start_time": "2022-03-01T20:02:36.694Z"
   },
   {
    "duration": 556,
    "start_time": "2022-03-01T20:02:36.703Z"
   },
   {
    "duration": 555,
    "start_time": "2022-03-01T20:02:36.706Z"
   },
   {
    "duration": 554,
    "start_time": "2022-03-01T20:02:36.708Z"
   },
   {
    "duration": 554,
    "start_time": "2022-03-01T20:02:36.710Z"
   },
   {
    "duration": 542,
    "start_time": "2022-03-01T20:02:36.723Z"
   },
   {
    "duration": 541,
    "start_time": "2022-03-01T20:02:36.726Z"
   },
   {
    "duration": 538,
    "start_time": "2022-03-01T20:02:36.730Z"
   },
   {
    "duration": 537,
    "start_time": "2022-03-01T20:02:36.732Z"
   },
   {
    "duration": 536,
    "start_time": "2022-03-01T20:02:36.735Z"
   },
   {
    "duration": 534,
    "start_time": "2022-03-01T20:02:36.738Z"
   },
   {
    "duration": 533,
    "start_time": "2022-03-01T20:02:36.740Z"
   },
   {
    "duration": 532,
    "start_time": "2022-03-01T20:02:36.743Z"
   },
   {
    "duration": 529,
    "start_time": "2022-03-01T20:02:36.747Z"
   },
   {
    "duration": 366,
    "start_time": "2022-03-01T20:02:47.100Z"
   },
   {
    "duration": 237,
    "start_time": "2022-03-01T20:02:58.052Z"
   },
   {
    "duration": 4,
    "start_time": "2022-03-01T20:03:03.626Z"
   },
   {
    "duration": 437,
    "start_time": "2022-03-01T20:03:04.848Z"
   },
   {
    "duration": 209,
    "start_time": "2022-03-01T20:03:05.680Z"
   },
   {
    "duration": 238,
    "start_time": "2022-03-01T20:03:12.088Z"
   },
   {
    "duration": 672,
    "start_time": "2022-03-01T20:03:29.358Z"
   },
   {
    "duration": 27,
    "start_time": "2022-03-01T20:03:35.696Z"
   },
   {
    "duration": 29,
    "start_time": "2022-03-01T20:03:37.564Z"
   },
   {
    "duration": 20,
    "start_time": "2022-03-01T20:03:38.689Z"
   },
   {
    "duration": 30,
    "start_time": "2022-03-01T20:03:39.664Z"
   },
   {
    "duration": 64,
    "start_time": "2022-03-01T20:03:40.118Z"
   },
   {
    "duration": 61,
    "start_time": "2022-03-01T20:03:40.358Z"
   },
   {
    "duration": 407,
    "start_time": "2022-03-01T20:03:40.810Z"
   },
   {
    "duration": 514,
    "start_time": "2022-03-01T20:03:41.984Z"
   },
   {
    "duration": 83,
    "start_time": "2022-03-01T20:03:42.502Z"
   },
   {
    "duration": 5,
    "start_time": "2022-03-01T20:03:42.783Z"
   },
   {
    "duration": 12,
    "start_time": "2022-03-01T20:03:42.985Z"
   },
   {
    "duration": 31607,
    "start_time": "2022-03-01T20:03:47.104Z"
   },
   {
    "duration": 21,
    "start_time": "2022-03-01T20:06:15.440Z"
   },
   {
    "duration": 19,
    "start_time": "2022-03-01T20:06:17.309Z"
   },
   {
    "duration": 65,
    "start_time": "2022-03-01T20:06:18.003Z"
   },
   {
    "duration": 13,
    "start_time": "2022-03-01T20:06:18.223Z"
   },
   {
    "duration": 134,
    "start_time": "2022-03-01T20:06:22.682Z"
   },
   {
    "duration": 12,
    "start_time": "2022-03-01T20:06:25.914Z"
   },
   {
    "duration": 451,
    "start_time": "2022-03-01T20:06:26.150Z"
   },
   {
    "duration": 61,
    "start_time": "2022-03-01T20:14:29.398Z"
   },
   {
    "duration": 13,
    "start_time": "2022-03-01T20:15:14.284Z"
   },
   {
    "duration": 65,
    "start_time": "2022-03-01T20:15:51.901Z"
   },
   {
    "duration": 13,
    "start_time": "2022-03-01T20:15:56.504Z"
   },
   {
    "duration": 95,
    "start_time": "2022-03-01T20:16:28.138Z"
   },
   {
    "duration": 92,
    "start_time": "2022-03-01T20:17:42.004Z"
   },
   {
    "duration": 12,
    "start_time": "2022-03-01T20:17:55.958Z"
   },
   {
    "duration": 112,
    "start_time": "2022-03-01T20:17:57.738Z"
   },
   {
    "duration": 14,
    "start_time": "2022-03-01T20:17:58.131Z"
   },
   {
    "duration": 144,
    "start_time": "2022-03-01T20:17:58.352Z"
   },
   {
    "duration": 147,
    "start_time": "2022-03-01T20:18:05.686Z"
   },
   {
    "duration": 186,
    "start_time": "2022-03-01T20:18:18.076Z"
   },
   {
    "duration": 105,
    "start_time": "2022-03-01T20:18:56.805Z"
   },
   {
    "duration": 19,
    "start_time": "2022-03-01T20:19:03.730Z"
   },
   {
    "duration": 85,
    "start_time": "2022-03-01T20:19:12.916Z"
   },
   {
    "duration": 110,
    "start_time": "2022-03-01T20:23:36.716Z"
   },
   {
    "duration": 139,
    "start_time": "2022-03-01T20:24:25.188Z"
   },
   {
    "duration": 16,
    "start_time": "2022-03-01T20:25:20.256Z"
   },
   {
    "duration": 19,
    "start_time": "2022-03-01T20:26:02.608Z"
   },
   {
    "duration": 12,
    "start_time": "2022-03-01T20:26:30.447Z"
   },
   {
    "duration": 10,
    "start_time": "2022-03-01T20:27:02.440Z"
   },
   {
    "duration": 23,
    "start_time": "2022-03-01T20:29:05.813Z"
   },
   {
    "duration": 99,
    "start_time": "2022-03-01T20:33:54.428Z"
   },
   {
    "duration": 12,
    "start_time": "2022-03-01T20:34:01.359Z"
   },
   {
    "duration": 76,
    "start_time": "2022-03-01T20:34:33.884Z"
   },
   {
    "duration": 12,
    "start_time": "2022-03-01T20:34:55.339Z"
   },
   {
    "duration": 13,
    "start_time": "2022-03-01T20:35:13.386Z"
   },
   {
    "duration": 15,
    "start_time": "2022-03-01T20:35:36.992Z"
   },
   {
    "duration": 23,
    "start_time": "2022-03-01T20:36:20.748Z"
   },
   {
    "duration": 22,
    "start_time": "2022-03-01T20:36:27.090Z"
   },
   {
    "duration": 20,
    "start_time": "2022-03-01T20:36:57.905Z"
   },
   {
    "duration": 17,
    "start_time": "2022-03-01T20:43:09.070Z"
   },
   {
    "duration": 12,
    "start_time": "2022-03-01T20:43:36.422Z"
   },
   {
    "duration": 16,
    "start_time": "2022-03-01T20:43:50.993Z"
   },
   {
    "duration": 316,
    "start_time": "2022-03-01T20:44:12.715Z"
   },
   {
    "duration": 10,
    "start_time": "2022-03-01T20:44:27.434Z"
   },
   {
    "duration": 36,
    "start_time": "2022-03-01T20:56:52.482Z"
   },
   {
    "duration": 37,
    "start_time": "2022-03-01T20:57:19.714Z"
   },
   {
    "duration": 53,
    "start_time": "2022-03-01T20:57:55.473Z"
   },
   {
    "duration": 50,
    "start_time": "2022-03-01T21:05:01.628Z"
   },
   {
    "duration": 82,
    "start_time": "2022-03-01T21:05:25.770Z"
   },
   {
    "duration": 51,
    "start_time": "2022-03-01T21:05:35.343Z"
   },
   {
    "duration": 11,
    "start_time": "2022-03-01T21:08:37.821Z"
   },
   {
    "duration": 11,
    "start_time": "2022-03-01T21:08:51.042Z"
   },
   {
    "duration": 264,
    "start_time": "2022-03-01T21:14:25.386Z"
   },
   {
    "duration": 26,
    "start_time": "2022-03-01T21:14:54.758Z"
   },
   {
    "duration": 316,
    "start_time": "2022-03-01T21:18:55.617Z"
   },
   {
    "duration": 323,
    "start_time": "2022-03-01T21:19:17.709Z"
   },
   {
    "duration": 9,
    "start_time": "2022-03-01T21:21:37.302Z"
   },
   {
    "duration": 10,
    "start_time": "2022-03-01T21:22:46.887Z"
   },
   {
    "duration": 450,
    "start_time": "2022-03-01T21:23:22.118Z"
   },
   {
    "duration": 449,
    "start_time": "2022-03-01T21:24:05.406Z"
   },
   {
    "duration": 10,
    "start_time": "2022-03-01T21:25:09.601Z"
   },
   {
    "duration": 477,
    "start_time": "2022-03-01T21:25:14.782Z"
   },
   {
    "duration": 9,
    "start_time": "2022-03-01T21:26:00.413Z"
   },
   {
    "duration": 31,
    "start_time": "2022-03-01T21:26:09.271Z"
   },
   {
    "duration": 95,
    "start_time": "2022-03-01T21:27:44.292Z"
   },
   {
    "duration": 341,
    "start_time": "2022-03-01T21:34:10.872Z"
   },
   {
    "duration": 44,
    "start_time": "2022-03-01T21:34:24.431Z"
   },
   {
    "duration": 278,
    "start_time": "2022-03-01T21:35:27.409Z"
   },
   {
    "duration": 221,
    "start_time": "2022-03-01T21:42:28.936Z"
   },
   {
    "duration": 25,
    "start_time": "2022-03-01T21:42:47.262Z"
   },
   {
    "duration": 12,
    "start_time": "2022-03-01T21:43:07.882Z"
   },
   {
    "duration": 8,
    "start_time": "2022-03-01T21:43:29.920Z"
   },
   {
    "duration": 221,
    "start_time": "2022-03-01T21:43:58.501Z"
   },
   {
    "duration": 7,
    "start_time": "2022-03-01T21:44:13.667Z"
   },
   {
    "duration": 247,
    "start_time": "2022-03-01T21:44:14.660Z"
   },
   {
    "duration": 229,
    "start_time": "2022-03-01T21:44:33.102Z"
   },
   {
    "duration": 8,
    "start_time": "2022-03-01T21:45:26.738Z"
   },
   {
    "duration": 233,
    "start_time": "2022-03-01T21:46:02.509Z"
   },
   {
    "duration": 14,
    "start_time": "2022-03-01T21:46:19.557Z"
   },
   {
    "duration": 242,
    "start_time": "2022-03-01T21:47:16.138Z"
   },
   {
    "duration": 245,
    "start_time": "2022-03-01T21:47:30.052Z"
   },
   {
    "duration": 21,
    "start_time": "2022-03-01T21:47:40.310Z"
   },
   {
    "duration": 262,
    "start_time": "2022-03-01T21:49:10.020Z"
   },
   {
    "duration": 24,
    "start_time": "2022-03-01T21:49:22.315Z"
   },
   {
    "duration": 221,
    "start_time": "2022-03-01T21:49:59.522Z"
   },
   {
    "duration": 229,
    "start_time": "2022-03-01T21:50:12.516Z"
   },
   {
    "duration": 3,
    "start_time": "2022-03-01T21:55:42.785Z"
   },
   {
    "duration": 406,
    "start_time": "2022-03-01T21:57:12.727Z"
   },
   {
    "duration": 187,
    "start_time": "2022-03-01T21:57:24.262Z"
   },
   {
    "duration": 27,
    "start_time": "2022-03-01T21:57:37.792Z"
   },
   {
    "duration": 220,
    "start_time": "2022-03-01T21:58:32.625Z"
   },
   {
    "duration": 16,
    "start_time": "2022-03-01T21:58:58.258Z"
   },
   {
    "duration": 2918,
    "start_time": "2022-03-01T21:59:18.989Z"
   },
   {
    "duration": 12,
    "start_time": "2022-03-01T21:59:21.910Z"
   },
   {
    "duration": 163,
    "start_time": "2022-03-01T21:59:21.926Z"
   },
   {
    "duration": 10,
    "start_time": "2022-03-01T21:59:22.092Z"
   },
   {
    "duration": 254,
    "start_time": "2022-03-01T21:59:22.104Z"
   },
   {
    "duration": 11,
    "start_time": "2022-03-01T21:59:22.361Z"
   },
   {
    "duration": 28,
    "start_time": "2022-03-01T21:59:22.374Z"
   },
   {
    "duration": 23,
    "start_time": "2022-03-01T21:59:22.405Z"
   },
   {
    "duration": 131,
    "start_time": "2022-03-01T21:59:22.431Z"
   },
   {
    "duration": 100,
    "start_time": "2022-03-01T21:59:22.564Z"
   },
   {
    "duration": 293,
    "start_time": "2022-03-01T21:59:22.682Z"
   },
   {
    "duration": 106,
    "start_time": "2022-03-01T21:59:22.977Z"
   },
   {
    "duration": 198,
    "start_time": "2022-03-01T21:59:23.085Z"
   },
   {
    "duration": 31,
    "start_time": "2022-03-01T21:59:23.285Z"
   },
   {
    "duration": 546,
    "start_time": "2022-03-01T21:59:23.319Z"
   },
   {
    "duration": 17,
    "start_time": "2022-03-01T21:59:23.868Z"
   },
   {
    "duration": 24,
    "start_time": "2022-03-01T21:59:23.888Z"
   },
   {
    "duration": 24,
    "start_time": "2022-03-01T21:59:23.914Z"
   },
   {
    "duration": 49,
    "start_time": "2022-03-01T21:59:23.940Z"
   },
   {
    "duration": 8,
    "start_time": "2022-03-01T21:59:23.992Z"
   },
   {
    "duration": 8,
    "start_time": "2022-03-01T21:59:24.003Z"
   },
   {
    "duration": 6,
    "start_time": "2022-03-01T21:59:24.013Z"
   },
   {
    "duration": 633,
    "start_time": "2022-03-01T21:59:24.081Z"
   },
   {
    "duration": 6,
    "start_time": "2022-03-01T21:59:24.718Z"
   },
   {
    "duration": 784,
    "start_time": "2022-03-01T21:59:24.726Z"
   },
   {
    "duration": 26,
    "start_time": "2022-03-01T21:59:25.513Z"
   },
   {
    "duration": 57,
    "start_time": "2022-03-01T21:59:25.542Z"
   },
   {
    "duration": 21,
    "start_time": "2022-03-01T21:59:25.602Z"
   },
   {
    "duration": 60,
    "start_time": "2022-03-01T21:59:25.625Z"
   },
   {
    "duration": 57,
    "start_time": "2022-03-01T21:59:25.688Z"
   },
   {
    "duration": 85,
    "start_time": "2022-03-01T21:59:25.748Z"
   },
   {
    "duration": 423,
    "start_time": "2022-03-01T21:59:25.835Z"
   },
   {
    "duration": 511,
    "start_time": "2022-03-01T21:59:26.261Z"
   },
   {
    "duration": 68,
    "start_time": "2022-03-01T21:59:26.775Z"
   },
   {
    "duration": 36,
    "start_time": "2022-03-01T21:59:26.846Z"
   },
   {
    "duration": 16,
    "start_time": "2022-03-01T21:59:26.885Z"
   },
   {
    "duration": 31530,
    "start_time": "2022-03-01T21:59:26.904Z"
   },
   {
    "duration": 23,
    "start_time": "2022-03-01T21:59:58.436Z"
   },
   {
    "duration": 38,
    "start_time": "2022-03-01T21:59:58.462Z"
   },
   {
    "duration": 94,
    "start_time": "2022-03-01T21:59:58.503Z"
   },
   {
    "duration": 13,
    "start_time": "2022-03-01T21:59:58.600Z"
   },
   {
    "duration": 147,
    "start_time": "2022-03-01T21:59:58.616Z"
   },
   {
    "duration": 18,
    "start_time": "2022-03-01T21:59:58.782Z"
   },
   {
    "duration": 128,
    "start_time": "2022-03-01T21:59:58.802Z"
   },
   {
    "duration": 140,
    "start_time": "2022-03-01T21:59:58.933Z"
   },
   {
    "duration": 21,
    "start_time": "2022-03-01T21:59:59.076Z"
   },
   {
    "duration": 19,
    "start_time": "2022-03-01T21:59:59.100Z"
   },
   {
    "duration": 65,
    "start_time": "2022-03-01T21:59:59.123Z"
   },
   {
    "duration": 12,
    "start_time": "2022-03-01T21:59:59.191Z"
   },
   {
    "duration": 76,
    "start_time": "2022-03-01T21:59:59.207Z"
   },
   {
    "duration": 51,
    "start_time": "2022-03-01T21:59:59.286Z"
   },
   {
    "duration": 14,
    "start_time": "2022-03-01T21:59:59.340Z"
   },
   {
    "duration": 26,
    "start_time": "2022-03-01T21:59:59.383Z"
   },
   {
    "duration": 307,
    "start_time": "2022-03-01T21:59:59.411Z"
   },
   {
    "duration": 7,
    "start_time": "2022-03-01T21:59:59.720Z"
   },
   {
    "duration": 9,
    "start_time": "2022-03-01T21:59:59.730Z"
   },
   {
    "duration": 60,
    "start_time": "2022-03-01T21:59:59.741Z"
   },
   {
    "duration": 113,
    "start_time": "2022-03-01T21:59:59.804Z"
   },
   {
    "duration": 41,
    "start_time": "2022-03-01T21:59:59.920Z"
   },
   {
    "duration": 38,
    "start_time": "2022-03-01T21:59:59.964Z"
   },
   {
    "duration": 9,
    "start_time": "2022-03-01T22:00:00.004Z"
   },
   {
    "duration": 8,
    "start_time": "2022-03-01T22:00:00.015Z"
   },
   {
    "duration": 66,
    "start_time": "2022-03-01T22:00:00.025Z"
   },
   {
    "duration": 21,
    "start_time": "2022-03-01T22:00:00.093Z"
   },
   {
    "duration": 301,
    "start_time": "2022-03-01T22:00:00.116Z"
   },
   {
    "duration": 17,
    "start_time": "2022-03-01T22:00:18.632Z"
   },
   {
    "duration": 143,
    "start_time": "2022-03-01T22:00:54.239Z"
   },
   {
    "duration": 24,
    "start_time": "2022-03-01T22:01:03.836Z"
   },
   {
    "duration": 304,
    "start_time": "2022-03-01T22:01:14.912Z"
   },
   {
    "duration": 25,
    "start_time": "2022-03-01T22:01:23.924Z"
   },
   {
    "duration": 262,
    "start_time": "2022-03-01T22:01:29.852Z"
   },
   {
    "duration": 272,
    "start_time": "2022-03-01T22:01:52.118Z"
   },
   {
    "duration": 86,
    "start_time": "2022-03-01T22:02:12.125Z"
   },
   {
    "duration": 261,
    "start_time": "2022-03-01T22:02:26.788Z"
   },
   {
    "duration": 5941,
    "start_time": "2022-03-01T22:03:28.431Z"
   },
   {
    "duration": 88,
    "start_time": "2022-03-01T22:03:54.220Z"
   },
   {
    "duration": 50,
    "start_time": "2022-03-01T22:04:23.596Z"
   },
   {
    "duration": 271,
    "start_time": "2022-03-01T22:04:31.352Z"
   },
   {
    "duration": 27,
    "start_time": "2022-03-01T22:04:56.918Z"
   },
   {
    "duration": 39,
    "start_time": "2022-03-01T22:05:03.633Z"
   },
   {
    "duration": 94,
    "start_time": "2022-03-01T22:06:58.016Z"
   },
   {
    "duration": 79,
    "start_time": "2022-03-01T22:07:05.374Z"
   },
   {
    "duration": 389,
    "start_time": "2022-03-01T22:09:19.443Z"
   },
   {
    "duration": 412,
    "start_time": "2022-03-01T22:09:44.954Z"
   },
   {
    "duration": 13196,
    "start_time": "2022-03-01T22:10:06.599Z"
   },
   {
    "duration": 95,
    "start_time": "2022-03-01T22:10:26.491Z"
   },
   {
    "duration": 13733,
    "start_time": "2022-03-01T22:10:51.898Z"
   },
   {
    "duration": 10,
    "start_time": "2022-03-01T22:11:17.777Z"
   },
   {
    "duration": 7,
    "start_time": "2022-03-01T22:12:20.285Z"
   },
   {
    "duration": 9,
    "start_time": "2022-03-01T22:12:34.183Z"
   },
   {
    "duration": 15,
    "start_time": "2022-03-01T22:12:49.019Z"
   },
   {
    "duration": 12,
    "start_time": "2022-03-01T22:15:58.831Z"
   },
   {
    "duration": 13315,
    "start_time": "2022-03-01T22:16:04.937Z"
   },
   {
    "duration": 10,
    "start_time": "2022-03-01T22:16:30.680Z"
   },
   {
    "duration": 13349,
    "start_time": "2022-03-01T22:18:30.516Z"
   },
   {
    "duration": 17,
    "start_time": "2022-03-01T22:18:43.867Z"
   },
   {
    "duration": 15,
    "start_time": "2022-03-01T22:20:05.825Z"
   },
   {
    "duration": 12,
    "start_time": "2022-03-01T22:20:31.622Z"
   },
   {
    "duration": 15,
    "start_time": "2022-03-01T22:20:41.635Z"
   },
   {
    "duration": 26,
    "start_time": "2022-03-01T22:23:20.534Z"
   },
   {
    "duration": 13,
    "start_time": "2022-03-01T22:23:46.382Z"
   },
   {
    "duration": 12,
    "start_time": "2022-03-01T22:28:20.294Z"
   },
   {
    "duration": 14,
    "start_time": "2022-03-01T22:28:38.111Z"
   },
   {
    "duration": 226,
    "start_time": "2022-03-01T22:28:53.251Z"
   },
   {
    "duration": 11,
    "start_time": "2022-03-01T22:29:03.463Z"
   },
   {
    "duration": 6,
    "start_time": "2022-03-01T22:29:44.692Z"
   },
   {
    "duration": 9,
    "start_time": "2022-03-01T22:30:31.300Z"
   },
   {
    "duration": 5,
    "start_time": "2022-03-01T22:30:45.760Z"
   },
   {
    "duration": 12,
    "start_time": "2022-03-01T22:30:54.465Z"
   },
   {
    "duration": 11,
    "start_time": "2022-03-01T22:31:11.617Z"
   },
   {
    "duration": 15,
    "start_time": "2022-03-01T22:31:16.491Z"
   },
   {
    "duration": 12,
    "start_time": "2022-03-01T22:31:42.700Z"
   },
   {
    "duration": 16,
    "start_time": "2022-03-01T22:31:50.156Z"
   },
   {
    "duration": 8,
    "start_time": "2022-03-01T22:32:14.056Z"
   },
   {
    "duration": 16,
    "start_time": "2022-03-01T22:32:41.864Z"
   },
   {
    "duration": 13523,
    "start_time": "2022-03-01T22:32:51.285Z"
   },
   {
    "duration": 16,
    "start_time": "2022-03-01T22:33:20.364Z"
   },
   {
    "duration": 10,
    "start_time": "2022-03-01T22:33:37.920Z"
   },
   {
    "duration": 10,
    "start_time": "2022-03-01T22:33:57.519Z"
   },
   {
    "duration": 14,
    "start_time": "2022-03-01T22:34:18.797Z"
   },
   {
    "duration": 10,
    "start_time": "2022-03-01T22:34:53.234Z"
   },
   {
    "duration": 10,
    "start_time": "2022-03-01T22:35:24.624Z"
   },
   {
    "duration": 10,
    "start_time": "2022-03-01T22:35:32.753Z"
   },
   {
    "duration": 14,
    "start_time": "2022-03-01T22:35:58.474Z"
   },
   {
    "duration": 8,
    "start_time": "2022-03-01T22:36:09.800Z"
   },
   {
    "duration": 20,
    "start_time": "2022-03-01T22:37:25.068Z"
   },
   {
    "duration": 9,
    "start_time": "2022-03-01T22:38:03.494Z"
   },
   {
    "duration": 7,
    "start_time": "2022-03-01T22:38:45.186Z"
   },
   {
    "duration": 8,
    "start_time": "2022-03-01T22:38:47.971Z"
   },
   {
    "duration": 9,
    "start_time": "2022-03-01T22:39:27.325Z"
   },
   {
    "duration": 13526,
    "start_time": "2022-03-01T22:40:31.140Z"
   },
   {
    "duration": 10,
    "start_time": "2022-03-01T22:40:45.717Z"
   },
   {
    "duration": 20,
    "start_time": "2022-03-01T22:41:58.418Z"
   },
   {
    "duration": 15,
    "start_time": "2022-03-01T22:42:10.776Z"
   },
   {
    "duration": 256,
    "start_time": "2022-03-01T22:43:19.313Z"
   },
   {
    "duration": 13510,
    "start_time": "2022-03-01T22:43:28.701Z"
   },
   {
    "duration": 9,
    "start_time": "2022-03-01T22:43:42.214Z"
   },
   {
    "duration": 8,
    "start_time": "2022-03-01T22:44:24.598Z"
   },
   {
    "duration": 10,
    "start_time": "2022-03-01T22:44:27.077Z"
   },
   {
    "duration": 19,
    "start_time": "2022-03-01T22:44:31.428Z"
   },
   {
    "duration": 14,
    "start_time": "2022-03-01T22:44:33.100Z"
   },
   {
    "duration": 14,
    "start_time": "2022-03-01T22:45:09.405Z"
   },
   {
    "duration": 12,
    "start_time": "2022-03-01T22:45:46.779Z"
   },
   {
    "duration": 17,
    "start_time": "2022-03-01T22:46:20.727Z"
   },
   {
    "duration": 15,
    "start_time": "2022-03-01T22:46:22.599Z"
   },
   {
    "duration": 12,
    "start_time": "2022-03-01T22:46:27.022Z"
   },
   {
    "duration": 17,
    "start_time": "2022-03-01T22:49:46.625Z"
   },
   {
    "duration": 15,
    "start_time": "2022-03-01T22:49:53.132Z"
   },
   {
    "duration": 14,
    "start_time": "2022-03-01T22:50:06.469Z"
   },
   {
    "duration": 16,
    "start_time": "2022-03-01T22:52:52.339Z"
   },
   {
    "duration": 15,
    "start_time": "2022-03-01T22:52:56.671Z"
   },
   {
    "duration": 13,
    "start_time": "2022-03-01T22:53:00.730Z"
   },
   {
    "duration": 12,
    "start_time": "2022-03-01T22:53:54.743Z"
   },
   {
    "duration": 78,
    "start_time": "2022-03-01T22:54:27.032Z"
   },
   {
    "duration": 7,
    "start_time": "2022-03-01T22:55:25.240Z"
   },
   {
    "duration": 8,
    "start_time": "2022-03-01T22:55:41.359Z"
   },
   {
    "duration": 7,
    "start_time": "2022-03-01T22:56:10.126Z"
   },
   {
    "duration": 2473,
    "start_time": "2022-03-01T22:56:56.801Z"
   },
   {
    "duration": 86,
    "start_time": "2022-03-01T22:59:28.096Z"
   },
   {
    "duration": 77,
    "start_time": "2022-03-01T23:00:04.991Z"
   },
   {
    "duration": 79,
    "start_time": "2022-03-01T23:00:43.532Z"
   },
   {
    "duration": 7875,
    "start_time": "2022-03-01T23:01:52.353Z"
   },
   {
    "duration": 2486,
    "start_time": "2022-03-01T23:03:41.780Z"
   },
   {
    "duration": 7904,
    "start_time": "2022-03-01T23:04:02.483Z"
   },
   {
    "duration": 5730,
    "start_time": "2022-03-01T23:05:15.919Z"
   },
   {
    "duration": 26,
    "start_time": "2022-03-01T23:05:42.841Z"
   },
   {
    "duration": 5615,
    "start_time": "2022-03-01T23:08:18.717Z"
   },
   {
    "duration": 5729,
    "start_time": "2022-03-01T23:09:39.220Z"
   },
   {
    "duration": 5716,
    "start_time": "2022-03-01T23:10:15.949Z"
   },
   {
    "duration": 4497,
    "start_time": "2022-03-01T23:10:33.965Z"
   },
   {
    "duration": 118,
    "start_time": "2022-03-01T23:12:52.811Z"
   },
   {
    "duration": 80,
    "start_time": "2022-03-01T23:13:06.958Z"
   },
   {
    "duration": 76,
    "start_time": "2022-03-01T23:13:14.606Z"
   },
   {
    "duration": 4524,
    "start_time": "2022-03-01T23:14:21.574Z"
   },
   {
    "duration": 4526,
    "start_time": "2022-03-01T23:15:07.411Z"
   },
   {
    "duration": 4502,
    "start_time": "2022-03-01T23:16:31.561Z"
   },
   {
    "duration": 6,
    "start_time": "2022-03-01T23:19:48.697Z"
   },
   {
    "duration": 5,
    "start_time": "2022-03-01T23:20:19.665Z"
   },
   {
    "duration": 29,
    "start_time": "2022-03-01T23:21:37.064Z"
   },
   {
    "duration": 250,
    "start_time": "2022-03-01T23:23:46.447Z"
   },
   {
    "duration": 18,
    "start_time": "2022-03-01T23:23:57.803Z"
   },
   {
    "duration": 8,
    "start_time": "2022-03-01T23:25:07.469Z"
   },
   {
    "duration": 44,
    "start_time": "2022-03-01T23:30:16.860Z"
   },
   {
    "duration": 43,
    "start_time": "2022-03-01T23:30:28.277Z"
   },
   {
    "duration": 45,
    "start_time": "2022-03-01T23:30:33.772Z"
   },
   {
    "duration": 43,
    "start_time": "2022-03-01T23:30:48.019Z"
   },
   {
    "duration": 135,
    "start_time": "2022-03-01T23:31:43.100Z"
   },
   {
    "duration": 22,
    "start_time": "2022-03-01T23:32:14.930Z"
   },
   {
    "duration": 259,
    "start_time": "2022-03-01T23:32:58.681Z"
   },
   {
    "duration": 19,
    "start_time": "2022-03-01T23:33:47.532Z"
   },
   {
    "duration": 18,
    "start_time": "2022-03-01T23:34:18.377Z"
   },
   {
    "duration": 199,
    "start_time": "2022-03-01T23:37:05.569Z"
   },
   {
    "duration": 27,
    "start_time": "2022-03-01T23:37:25.661Z"
   },
   {
    "duration": 191,
    "start_time": "2022-03-01T23:38:06.333Z"
   },
   {
    "duration": 28,
    "start_time": "2022-03-01T23:38:10.745Z"
   },
   {
    "duration": 250,
    "start_time": "2022-03-01T23:38:42.576Z"
   },
   {
    "duration": 24,
    "start_time": "2022-03-01T23:38:56.482Z"
   },
   {
    "duration": 18,
    "start_time": "2022-03-01T23:39:26.277Z"
   },
   {
    "duration": 25,
    "start_time": "2022-03-01T23:39:36.207Z"
   },
   {
    "duration": 26,
    "start_time": "2022-03-01T23:39:39.310Z"
   },
   {
    "duration": 33,
    "start_time": "2022-03-01T23:39:44.885Z"
   },
   {
    "duration": 23261,
    "start_time": "2022-03-01T23:40:30.195Z"
   },
   {
    "duration": 694,
    "start_time": "2022-03-01T23:41:36.667Z"
   },
   {
    "duration": 668,
    "start_time": "2022-03-01T23:41:36.695Z"
   },
   {
    "duration": 9,
    "start_time": "2022-03-01T23:42:05.759Z"
   },
   {
    "duration": 10199,
    "start_time": "2022-03-01T23:42:41.324Z"
   },
   {
    "duration": 9,
    "start_time": "2022-03-01T23:42:59.114Z"
   },
   {
    "duration": 16,
    "start_time": "2022-03-01T23:43:20.785Z"
   },
   {
    "duration": 15,
    "start_time": "2022-03-01T23:43:28.044Z"
   },
   {
    "duration": 12,
    "start_time": "2022-03-01T23:44:24.768Z"
   },
   {
    "duration": 7,
    "start_time": "2022-03-01T23:44:30.296Z"
   },
   {
    "duration": 8,
    "start_time": "2022-03-01T23:44:32.977Z"
   },
   {
    "duration": 1754,
    "start_time": "2022-03-01T23:44:43.222Z"
   },
   {
    "duration": 1730,
    "start_time": "2022-03-01T23:48:12.670Z"
   },
   {
    "duration": 14,
    "start_time": "2022-03-01T23:50:24.396Z"
   },
   {
    "duration": 630,
    "start_time": "2022-03-01T23:50:50.633Z"
   },
   {
    "duration": 5994,
    "start_time": "2022-03-01T23:52:49.297Z"
   },
   {
    "duration": 899,
    "start_time": "2022-03-01T23:54:02.526Z"
   },
   {
    "duration": 947,
    "start_time": "2022-03-01T23:54:30.328Z"
   },
   {
    "duration": 1116,
    "start_time": "2022-03-01T23:56:58.750Z"
   },
   {
    "duration": 939,
    "start_time": "2022-03-01T23:59:12.121Z"
   },
   {
    "duration": 7,
    "start_time": "2022-03-02T00:06:08.096Z"
   },
   {
    "duration": 112,
    "start_time": "2022-03-02T00:07:02.589Z"
   },
   {
    "duration": 243,
    "start_time": "2022-03-02T00:07:14.092Z"
   },
   {
    "duration": 40,
    "start_time": "2022-03-02T00:08:03.336Z"
   },
   {
    "duration": 75,
    "start_time": "2022-03-02T00:08:29.424Z"
   },
   {
    "duration": 5,
    "start_time": "2022-03-02T00:08:50.130Z"
   },
   {
    "duration": 8,
    "start_time": "2022-03-02T00:09:08.192Z"
   },
   {
    "duration": 16,
    "start_time": "2022-03-02T00:09:25.369Z"
   },
   {
    "duration": 4,
    "start_time": "2022-03-02T00:11:51.516Z"
   },
   {
    "duration": 266,
    "start_time": "2022-03-02T00:12:06.524Z"
   },
   {
    "duration": 89,
    "start_time": "2022-03-02T00:12:35.673Z"
   },
   {
    "duration": 4,
    "start_time": "2022-03-02T00:15:42.450Z"
   },
   {
    "duration": 15,
    "start_time": "2022-03-02T00:18:05.841Z"
   },
   {
    "duration": 17,
    "start_time": "2022-03-02T00:19:46.789Z"
   },
   {
    "duration": 85,
    "start_time": "2022-03-02T00:20:35.692Z"
   },
   {
    "duration": 283,
    "start_time": "2022-03-02T00:20:51.251Z"
   },
   {
    "duration": 18,
    "start_time": "2022-03-02T00:21:40.054Z"
   },
   {
    "duration": 217,
    "start_time": "2022-03-02T00:22:31.285Z"
   },
   {
    "duration": 21,
    "start_time": "2022-03-02T00:22:44.338Z"
   },
   {
    "duration": 275,
    "start_time": "2022-03-02T00:24:29.213Z"
   },
   {
    "duration": 80,
    "start_time": "2022-03-02T00:26:23.538Z"
   },
   {
    "duration": 20,
    "start_time": "2022-03-02T00:26:28.793Z"
   },
   {
    "duration": 3,
    "start_time": "2022-03-02T00:29:30.926Z"
   },
   {
    "duration": 29,
    "start_time": "2022-03-02T00:29:46.004Z"
   },
   {
    "duration": 24,
    "start_time": "2022-03-02T00:31:46.527Z"
   },
   {
    "duration": 4,
    "start_time": "2022-03-02T00:35:04.668Z"
   },
   {
    "duration": 237,
    "start_time": "2022-03-02T00:35:17.125Z"
   },
   {
    "duration": 255,
    "start_time": "2022-03-02T00:36:57.381Z"
   },
   {
    "duration": 49,
    "start_time": "2022-03-02T00:37:06.533Z"
   },
   {
    "duration": 44,
    "start_time": "2022-03-02T00:37:09.440Z"
   },
   {
    "duration": 4,
    "start_time": "2022-03-02T00:37:29.111Z"
   },
   {
    "duration": 7,
    "start_time": "2022-03-02T00:37:37.850Z"
   },
   {
    "duration": 5,
    "start_time": "2022-03-02T00:37:55.637Z"
   },
   {
    "duration": 13,
    "start_time": "2022-03-02T00:38:17.017Z"
   },
   {
    "duration": 13,
    "start_time": "2022-03-02T00:38:33.404Z"
   },
   {
    "duration": 78,
    "start_time": "2022-03-02T00:39:01.933Z"
   },
   {
    "duration": 28,
    "start_time": "2022-03-02T00:53:55.166Z"
   },
   {
    "duration": 75,
    "start_time": "2022-03-02T00:54:16.938Z"
   },
   {
    "duration": 114,
    "start_time": "2022-03-02T00:55:02.535Z"
   },
   {
    "duration": 45,
    "start_time": "2022-03-02T01:02:14.103Z"
   },
   {
    "duration": 11,
    "start_time": "2022-03-02T01:13:55.330Z"
   },
   {
    "duration": 274,
    "start_time": "2022-03-02T01:15:29.376Z"
   },
   {
    "duration": 33,
    "start_time": "2022-03-02T01:17:15.131Z"
   },
   {
    "duration": 278,
    "start_time": "2022-03-02T01:18:05.204Z"
   },
   {
    "duration": 7,
    "start_time": "2022-03-02T01:18:50.395Z"
   },
   {
    "duration": 7,
    "start_time": "2022-03-02T01:19:19.027Z"
   },
   {
    "duration": 8,
    "start_time": "2022-03-02T01:20:07.061Z"
   },
   {
    "duration": 3,
    "start_time": "2022-03-02T01:21:44.633Z"
   },
   {
    "duration": 6,
    "start_time": "2022-03-02T01:25:53.986Z"
   },
   {
    "duration": 238,
    "start_time": "2022-03-02T01:32:04.721Z"
   },
   {
    "duration": 248,
    "start_time": "2022-03-02T01:32:47.842Z"
   },
   {
    "duration": 38,
    "start_time": "2022-03-02T01:32:58.074Z"
   },
   {
    "duration": 28,
    "start_time": "2022-03-02T01:33:38.551Z"
   },
   {
    "duration": 6,
    "start_time": "2022-03-02T01:35:00.224Z"
   },
   {
    "duration": 20,
    "start_time": "2022-03-02T01:35:35.028Z"
   },
   {
    "duration": 45,
    "start_time": "2022-03-02T01:35:48.450Z"
   },
   {
    "duration": 45,
    "start_time": "2022-03-02T01:37:19.511Z"
   },
   {
    "duration": 7,
    "start_time": "2022-03-02T01:39:04.692Z"
   },
   {
    "duration": 2909,
    "start_time": "2022-03-02T01:41:23.749Z"
   },
   {
    "duration": 1636,
    "start_time": "2022-03-02T01:41:26.661Z"
   },
   {
    "duration": 157,
    "start_time": "2022-03-02T01:41:28.300Z"
   },
   {
    "duration": 22,
    "start_time": "2022-03-02T01:41:28.460Z"
   },
   {
    "duration": 243,
    "start_time": "2022-03-02T01:41:28.485Z"
   },
   {
    "duration": 11,
    "start_time": "2022-03-02T01:41:28.730Z"
   },
   {
    "duration": 49,
    "start_time": "2022-03-02T01:41:28.743Z"
   },
   {
    "duration": 29,
    "start_time": "2022-03-02T01:41:28.798Z"
   },
   {
    "duration": 122,
    "start_time": "2022-03-02T01:41:28.830Z"
   },
   {
    "duration": 111,
    "start_time": "2022-03-02T01:41:28.954Z"
   },
   {
    "duration": 311,
    "start_time": "2022-03-02T01:41:29.067Z"
   },
   {
    "duration": 105,
    "start_time": "2022-03-02T01:41:29.383Z"
   },
   {
    "duration": 18,
    "start_time": "2022-03-02T01:41:29.491Z"
   },
   {
    "duration": 213,
    "start_time": "2022-03-02T01:41:29.511Z"
   },
   {
    "duration": 27,
    "start_time": "2022-03-02T01:41:29.726Z"
   },
   {
    "duration": 549,
    "start_time": "2022-03-02T01:41:29.755Z"
   },
   {
    "duration": 7,
    "start_time": "2022-03-02T01:41:30.307Z"
   },
   {
    "duration": 24,
    "start_time": "2022-03-02T01:41:30.316Z"
   },
   {
    "duration": 58,
    "start_time": "2022-03-02T01:41:30.343Z"
   },
   {
    "duration": 10,
    "start_time": "2022-03-02T01:41:30.404Z"
   },
   {
    "duration": 14,
    "start_time": "2022-03-02T01:41:30.416Z"
   },
   {
    "duration": 55,
    "start_time": "2022-03-02T01:41:30.432Z"
   },
   {
    "duration": 10,
    "start_time": "2022-03-02T01:41:30.493Z"
   },
   {
    "duration": 667,
    "start_time": "2022-03-02T01:41:30.507Z"
   },
   {
    "duration": 8,
    "start_time": "2022-03-02T01:41:31.176Z"
   },
   {
    "duration": 772,
    "start_time": "2022-03-02T01:41:31.186Z"
   },
   {
    "duration": 40,
    "start_time": "2022-03-02T01:41:31.960Z"
   },
   {
    "duration": 27,
    "start_time": "2022-03-02T01:41:32.002Z"
   },
   {
    "duration": 224,
    "start_time": "2022-03-02T01:41:32.032Z"
   },
   {
    "duration": 59,
    "start_time": "2022-03-02T01:41:32.259Z"
   },
   {
    "duration": 28,
    "start_time": "2022-03-02T01:41:32.321Z"
   },
   {
    "duration": 82,
    "start_time": "2022-03-02T01:41:32.351Z"
   },
   {
    "duration": 81,
    "start_time": "2022-03-02T01:41:32.436Z"
   },
   {
    "duration": 407,
    "start_time": "2022-03-02T01:41:32.520Z"
   },
   {
    "duration": 517,
    "start_time": "2022-03-02T01:41:32.930Z"
   },
   {
    "duration": 90,
    "start_time": "2022-03-02T01:41:33.450Z"
   },
   {
    "duration": 57,
    "start_time": "2022-03-02T01:41:33.542Z"
   },
   {
    "duration": 22,
    "start_time": "2022-03-02T01:41:33.602Z"
   },
   {
    "duration": 4,
    "start_time": "2022-03-02T01:41:33.626Z"
   },
   {
    "duration": 16,
    "start_time": "2022-03-02T01:41:33.632Z"
   },
   {
    "duration": 30991,
    "start_time": "2022-03-02T01:41:33.651Z"
   },
   {
    "duration": 23,
    "start_time": "2022-03-02T01:42:04.645Z"
   },
   {
    "duration": 28,
    "start_time": "2022-03-02T01:42:04.670Z"
   },
   {
    "duration": 93,
    "start_time": "2022-03-02T01:42:04.701Z"
   },
   {
    "duration": 12,
    "start_time": "2022-03-02T01:42:04.796Z"
   },
   {
    "duration": 140,
    "start_time": "2022-03-02T01:42:04.810Z"
   },
   {
    "duration": 30,
    "start_time": "2022-03-02T01:42:04.952Z"
   },
   {
    "duration": 422,
    "start_time": "2022-03-02T01:42:04.984Z"
   },
   {
    "duration": 133,
    "start_time": "2022-03-02T01:42:05.408Z"
   },
   {
    "duration": 14,
    "start_time": "2022-03-02T01:42:05.544Z"
   },
   {
    "duration": 37,
    "start_time": "2022-03-02T01:42:05.560Z"
   },
   {
    "duration": 10,
    "start_time": "2022-03-02T01:42:05.600Z"
   },
   {
    "duration": 9,
    "start_time": "2022-03-02T01:42:05.612Z"
   },
   {
    "duration": 85,
    "start_time": "2022-03-02T01:42:05.624Z"
   },
   {
    "duration": 45,
    "start_time": "2022-03-02T01:42:05.711Z"
   },
   {
    "duration": 33,
    "start_time": "2022-03-02T01:42:05.758Z"
   },
   {
    "duration": 25,
    "start_time": "2022-03-02T01:42:05.794Z"
   },
   {
    "duration": 322,
    "start_time": "2022-03-02T01:42:05.822Z"
   },
   {
    "duration": 7,
    "start_time": "2022-03-02T01:42:06.146Z"
   },
   {
    "duration": 27,
    "start_time": "2022-03-02T01:42:06.155Z"
   },
   {
    "duration": 699,
    "start_time": "2022-03-02T01:42:06.185Z"
   },
   {
    "duration": 860,
    "start_time": "2022-03-02T01:42:06.028Z"
   },
   {
    "duration": 849,
    "start_time": "2022-03-02T01:42:06.041Z"
   },
   {
    "duration": 807,
    "start_time": "2022-03-02T01:42:06.084Z"
   },
   {
    "duration": 802,
    "start_time": "2022-03-02T01:42:06.090Z"
   },
   {
    "duration": 799,
    "start_time": "2022-03-02T01:42:06.095Z"
   },
   {
    "duration": 795,
    "start_time": "2022-03-02T01:42:06.100Z"
   },
   {
    "duration": 791,
    "start_time": "2022-03-02T01:42:06.106Z"
   },
   {
    "duration": 786,
    "start_time": "2022-03-02T01:42:06.112Z"
   },
   {
    "duration": 781,
    "start_time": "2022-03-02T01:42:06.119Z"
   },
   {
    "duration": 776,
    "start_time": "2022-03-02T01:42:06.125Z"
   },
   {
    "duration": 770,
    "start_time": "2022-03-02T01:42:06.132Z"
   },
   {
    "duration": 766,
    "start_time": "2022-03-02T01:42:06.137Z"
   },
   {
    "duration": 762,
    "start_time": "2022-03-02T01:42:06.143Z"
   },
   {
    "duration": 758,
    "start_time": "2022-03-02T01:42:06.148Z"
   },
   {
    "duration": 752,
    "start_time": "2022-03-02T01:42:06.155Z"
   },
   {
    "duration": 652,
    "start_time": "2022-03-02T01:42:06.257Z"
   },
   {
    "duration": 459,
    "start_time": "2022-03-02T01:42:06.451Z"
   },
   {
    "duration": 407,
    "start_time": "2022-03-02T01:42:06.504Z"
   },
   {
    "duration": 405,
    "start_time": "2022-03-02T01:42:06.508Z"
   },
   {
    "duration": 403,
    "start_time": "2022-03-02T01:42:06.511Z"
   },
   {
    "duration": 400,
    "start_time": "2022-03-02T01:42:06.515Z"
   },
   {
    "duration": 391,
    "start_time": "2022-03-02T01:42:06.526Z"
   },
   {
    "duration": 388,
    "start_time": "2022-03-02T01:42:06.530Z"
   },
   {
    "duration": 387,
    "start_time": "2022-03-02T01:42:06.533Z"
   },
   {
    "duration": 383,
    "start_time": "2022-03-02T01:42:06.538Z"
   },
   {
    "duration": 380,
    "start_time": "2022-03-02T01:42:06.542Z"
   },
   {
    "duration": 378,
    "start_time": "2022-03-02T01:42:06.546Z"
   },
   {
    "duration": 375,
    "start_time": "2022-03-02T01:42:06.550Z"
   },
   {
    "duration": 428,
    "start_time": "2022-03-02T01:42:06.554Z"
   },
   {
    "duration": 426,
    "start_time": "2022-03-02T01:42:06.558Z"
   },
   {
    "duration": 410,
    "start_time": "2022-03-02T01:42:06.575Z"
   },
   {
    "duration": 408,
    "start_time": "2022-03-02T01:42:06.579Z"
   },
   {
    "duration": 405,
    "start_time": "2022-03-02T01:42:06.583Z"
   },
   {
    "duration": 402,
    "start_time": "2022-03-02T01:42:06.587Z"
   },
   {
    "duration": 400,
    "start_time": "2022-03-02T01:42:06.591Z"
   },
   {
    "duration": 397,
    "start_time": "2022-03-02T01:42:06.595Z"
   },
   {
    "duration": 395,
    "start_time": "2022-03-02T01:42:06.599Z"
   },
   {
    "duration": 393,
    "start_time": "2022-03-02T01:42:06.602Z"
   },
   {
    "duration": 390,
    "start_time": "2022-03-02T01:42:06.606Z"
   },
   {
    "duration": 388,
    "start_time": "2022-03-02T01:42:06.610Z"
   },
   {
    "duration": 385,
    "start_time": "2022-03-02T01:42:06.614Z"
   },
   {
    "duration": 382,
    "start_time": "2022-03-02T01:42:06.618Z"
   },
   {
    "duration": 380,
    "start_time": "2022-03-02T01:42:06.622Z"
   },
   {
    "duration": 368,
    "start_time": "2022-03-02T01:42:06.635Z"
   },
   {
    "duration": 366,
    "start_time": "2022-03-02T01:42:06.639Z"
   },
   {
    "duration": 363,
    "start_time": "2022-03-02T01:42:06.643Z"
   },
   {
    "duration": 8,
    "start_time": "2022-03-02T01:43:51.810Z"
   },
   {
    "duration": 23,
    "start_time": "2022-03-02T01:43:55.964Z"
   },
   {
    "duration": 14771,
    "start_time": "2022-03-02T11:39:24.993Z"
   },
   {
    "duration": 1365,
    "start_time": "2022-03-02T11:39:39.768Z"
   },
   {
    "duration": 114,
    "start_time": "2022-03-02T11:39:41.135Z"
   },
   {
    "duration": 6,
    "start_time": "2022-03-02T11:39:41.250Z"
   },
   {
    "duration": 138,
    "start_time": "2022-03-02T11:39:41.258Z"
   },
   {
    "duration": 7,
    "start_time": "2022-03-02T11:39:41.397Z"
   },
   {
    "duration": 16,
    "start_time": "2022-03-02T11:39:41.406Z"
   },
   {
    "duration": 13,
    "start_time": "2022-03-02T11:39:41.424Z"
   },
   {
    "duration": 87,
    "start_time": "2022-03-02T11:39:41.439Z"
   },
   {
    "duration": 54,
    "start_time": "2022-03-02T11:39:41.527Z"
   },
   {
    "duration": 187,
    "start_time": "2022-03-02T11:39:41.582Z"
   },
   {
    "duration": 59,
    "start_time": "2022-03-02T11:39:41.771Z"
   },
   {
    "duration": 10,
    "start_time": "2022-03-02T11:39:41.832Z"
   },
   {
    "duration": 129,
    "start_time": "2022-03-02T11:39:41.843Z"
   },
   {
    "duration": 14,
    "start_time": "2022-03-02T11:39:41.974Z"
   },
   {
    "duration": 319,
    "start_time": "2022-03-02T11:39:41.989Z"
   },
   {
    "duration": 5,
    "start_time": "2022-03-02T11:39:42.309Z"
   },
   {
    "duration": 16,
    "start_time": "2022-03-02T11:39:42.315Z"
   },
   {
    "duration": 17,
    "start_time": "2022-03-02T11:39:42.333Z"
   },
   {
    "duration": 6,
    "start_time": "2022-03-02T11:39:42.351Z"
   },
   {
    "duration": 6,
    "start_time": "2022-03-02T11:39:42.358Z"
   },
   {
    "duration": 38,
    "start_time": "2022-03-02T11:39:42.365Z"
   },
   {
    "duration": 4,
    "start_time": "2022-03-02T11:39:42.404Z"
   },
   {
    "duration": 352,
    "start_time": "2022-03-02T11:39:42.409Z"
   },
   {
    "duration": 5,
    "start_time": "2022-03-02T11:39:42.762Z"
   },
   {
    "duration": 555,
    "start_time": "2022-03-02T11:39:42.771Z"
   },
   {
    "duration": 17,
    "start_time": "2022-03-02T11:39:43.329Z"
   },
   {
    "duration": 17,
    "start_time": "2022-03-02T11:39:43.347Z"
   },
   {
    "duration": 141,
    "start_time": "2022-03-02T11:39:43.365Z"
   },
   {
    "duration": 34,
    "start_time": "2022-03-02T11:39:43.508Z"
   },
   {
    "duration": 19,
    "start_time": "2022-03-02T11:39:43.543Z"
   },
   {
    "duration": 56,
    "start_time": "2022-03-02T11:39:43.563Z"
   },
   {
    "duration": 43,
    "start_time": "2022-03-02T11:39:43.620Z"
   },
   {
    "duration": 250,
    "start_time": "2022-03-02T11:39:43.664Z"
   },
   {
    "duration": 303,
    "start_time": "2022-03-02T11:39:43.915Z"
   },
   {
    "duration": 49,
    "start_time": "2022-03-02T11:39:44.220Z"
   },
   {
    "duration": 35,
    "start_time": "2022-03-02T11:39:44.271Z"
   },
   {
    "duration": 13,
    "start_time": "2022-03-02T11:39:44.308Z"
   },
   {
    "duration": 3,
    "start_time": "2022-03-02T11:39:44.323Z"
   },
   {
    "duration": 10,
    "start_time": "2022-03-02T11:39:44.327Z"
   },
   {
    "duration": 18080,
    "start_time": "2022-03-02T11:39:44.339Z"
   },
   {
    "duration": 12,
    "start_time": "2022-03-02T11:40:02.421Z"
   },
   {
    "duration": 13,
    "start_time": "2022-03-02T11:40:02.435Z"
   },
   {
    "duration": 65,
    "start_time": "2022-03-02T11:40:02.449Z"
   },
   {
    "duration": 6,
    "start_time": "2022-03-02T11:40:02.516Z"
   },
   {
    "duration": 82,
    "start_time": "2022-03-02T11:40:02.524Z"
   },
   {
    "duration": 7,
    "start_time": "2022-03-02T11:40:02.608Z"
   },
   {
    "duration": 295,
    "start_time": "2022-03-02T11:40:02.616Z"
   },
   {
    "duration": 76,
    "start_time": "2022-03-02T11:40:02.913Z"
   },
   {
    "duration": 9,
    "start_time": "2022-03-02T11:40:03.002Z"
   },
   {
    "duration": 10,
    "start_time": "2022-03-02T11:40:03.013Z"
   },
   {
    "duration": 7,
    "start_time": "2022-03-02T11:40:03.025Z"
   },
   {
    "duration": 7,
    "start_time": "2022-03-02T11:40:03.034Z"
   },
   {
    "duration": 66,
    "start_time": "2022-03-02T11:40:03.042Z"
   },
   {
    "duration": 34,
    "start_time": "2022-03-02T11:40:03.110Z"
   },
   {
    "duration": 9,
    "start_time": "2022-03-02T11:40:03.146Z"
   },
   {
    "duration": 18,
    "start_time": "2022-03-02T11:40:03.157Z"
   },
   {
    "duration": 218,
    "start_time": "2022-03-02T11:40:03.176Z"
   },
   {
    "duration": 6,
    "start_time": "2022-03-02T11:40:03.395Z"
   },
   {
    "duration": 7,
    "start_time": "2022-03-02T11:40:03.403Z"
   },
   {
    "duration": 17,
    "start_time": "2022-03-02T11:40:03.411Z"
   },
   {
    "duration": 81,
    "start_time": "2022-03-02T11:40:03.430Z"
   },
   {
    "duration": 31,
    "start_time": "2022-03-02T11:40:03.513Z"
   },
   {
    "duration": 424,
    "start_time": "2022-03-02T11:40:03.546Z"
   },
   {
    "duration": 96,
    "start_time": "2022-03-02T11:40:03.877Z"
   },
   {
    "duration": 91,
    "start_time": "2022-03-02T11:40:03.883Z"
   },
   {
    "duration": 89,
    "start_time": "2022-03-02T11:40:03.886Z"
   },
   {
    "duration": 87,
    "start_time": "2022-03-02T11:40:03.889Z"
   },
   {
    "duration": 85,
    "start_time": "2022-03-02T11:40:03.892Z"
   },
   {
    "duration": 83,
    "start_time": "2022-03-02T11:40:03.895Z"
   },
   {
    "duration": 81,
    "start_time": "2022-03-02T11:40:03.898Z"
   },
   {
    "duration": 79,
    "start_time": "2022-03-02T11:40:03.901Z"
   },
   {
    "duration": 77,
    "start_time": "2022-03-02T11:40:03.904Z"
   },
   {
    "duration": 74,
    "start_time": "2022-03-02T11:40:03.908Z"
   },
   {
    "duration": 73,
    "start_time": "2022-03-02T11:40:03.910Z"
   },
   {
    "duration": 70,
    "start_time": "2022-03-02T11:40:03.914Z"
   },
   {
    "duration": 68,
    "start_time": "2022-03-02T11:40:03.917Z"
   },
   {
    "duration": 66,
    "start_time": "2022-03-02T11:40:03.920Z"
   },
   {
    "duration": 65,
    "start_time": "2022-03-02T11:40:03.922Z"
   },
   {
    "duration": 63,
    "start_time": "2022-03-02T11:40:03.925Z"
   },
   {
    "duration": 54,
    "start_time": "2022-03-02T11:40:03.935Z"
   },
   {
    "duration": 49,
    "start_time": "2022-03-02T11:40:03.941Z"
   },
   {
    "duration": 46,
    "start_time": "2022-03-02T11:40:03.945Z"
   },
   {
    "duration": 44,
    "start_time": "2022-03-02T11:40:03.948Z"
   },
   {
    "duration": 42,
    "start_time": "2022-03-02T11:40:03.951Z"
   },
   {
    "duration": 40,
    "start_time": "2022-03-02T11:40:03.954Z"
   },
   {
    "duration": 38,
    "start_time": "2022-03-02T11:40:03.957Z"
   },
   {
    "duration": 37,
    "start_time": "2022-03-02T11:40:03.960Z"
   },
   {
    "duration": 36,
    "start_time": "2022-03-02T11:40:03.962Z"
   },
   {
    "duration": 34,
    "start_time": "2022-03-02T11:40:03.965Z"
   },
   {
    "duration": 32,
    "start_time": "2022-03-02T11:40:03.968Z"
   },
   {
    "duration": 30,
    "start_time": "2022-03-02T11:40:03.971Z"
   },
   {
    "duration": 28,
    "start_time": "2022-03-02T11:40:03.974Z"
   },
   {
    "duration": 25,
    "start_time": "2022-03-02T11:40:03.977Z"
   },
   {
    "duration": 23,
    "start_time": "2022-03-02T11:40:03.980Z"
   },
   {
    "duration": 21,
    "start_time": "2022-03-02T11:40:03.983Z"
   },
   {
    "duration": 8,
    "start_time": "2022-03-02T11:40:03.997Z"
   },
   {
    "duration": 6,
    "start_time": "2022-03-02T11:40:04.000Z"
   },
   {
    "duration": 4,
    "start_time": "2022-03-02T11:40:04.003Z"
   },
   {
    "duration": 2,
    "start_time": "2022-03-02T11:40:04.006Z"
   },
   {
    "duration": -6,
    "start_time": "2022-03-02T11:40:04.015Z"
   },
   {
    "duration": -9,
    "start_time": "2022-03-02T11:40:04.018Z"
   },
   {
    "duration": -11,
    "start_time": "2022-03-02T11:40:04.021Z"
   },
   {
    "duration": -13,
    "start_time": "2022-03-02T11:40:04.024Z"
   },
   {
    "duration": -20,
    "start_time": "2022-03-02T11:40:04.032Z"
   },
   {
    "duration": -24,
    "start_time": "2022-03-02T11:40:04.037Z"
   },
   {
    "duration": -27,
    "start_time": "2022-03-02T11:40:04.041Z"
   },
   {
    "duration": 287,
    "start_time": "2022-03-02T11:40:20.614Z"
   },
   {
    "duration": 102,
    "start_time": "2022-03-02T11:40:20.801Z"
   },
   {
    "duration": 283,
    "start_time": "2022-03-02T11:40:21.063Z"
   },
   {
    "duration": 281,
    "start_time": "2022-03-02T11:40:22.851Z"
   },
   {
    "duration": 298,
    "start_time": "2022-03-02T11:40:23.428Z"
   },
   {
    "duration": 63,
    "start_time": "2022-03-02T11:40:23.665Z"
   },
   {
    "duration": 270,
    "start_time": "2022-03-02T11:40:24.287Z"
   },
   {
    "duration": 280,
    "start_time": "2022-03-02T11:40:24.599Z"
   },
   {
    "duration": 290,
    "start_time": "2022-03-02T11:40:24.976Z"
   },
   {
    "duration": 282,
    "start_time": "2022-03-02T11:40:26.490Z"
   },
   {
    "duration": 101,
    "start_time": "2022-03-02T11:40:26.673Z"
   },
   {
    "duration": 23410,
    "start_time": "2022-03-02T14:51:02.546Z"
   },
   {
    "duration": 1895,
    "start_time": "2022-03-02T14:51:25.959Z"
   },
   {
    "duration": 187,
    "start_time": "2022-03-02T14:51:27.858Z"
   },
   {
    "duration": 11,
    "start_time": "2022-03-02T14:51:28.048Z"
   },
   {
    "duration": 257,
    "start_time": "2022-03-02T14:51:28.062Z"
   },
   {
    "duration": 14,
    "start_time": "2022-03-02T14:51:28.321Z"
   },
   {
    "duration": 22,
    "start_time": "2022-03-02T14:51:28.338Z"
   },
   {
    "duration": 20,
    "start_time": "2022-03-02T14:51:28.364Z"
   },
   {
    "duration": 131,
    "start_time": "2022-03-02T14:51:28.387Z"
   },
   {
    "duration": 102,
    "start_time": "2022-03-02T14:51:28.532Z"
   },
   {
    "duration": 321,
    "start_time": "2022-03-02T14:51:28.636Z"
   },
   {
    "duration": 112,
    "start_time": "2022-03-02T14:51:28.959Z"
   },
   {
    "duration": 17,
    "start_time": "2022-03-02T14:51:29.074Z"
   },
   {
    "duration": 217,
    "start_time": "2022-03-02T14:51:29.093Z"
   },
   {
    "duration": 38,
    "start_time": "2022-03-02T14:51:29.313Z"
   },
   {
    "duration": 553,
    "start_time": "2022-03-02T14:51:29.354Z"
   },
   {
    "duration": 8,
    "start_time": "2022-03-02T14:51:29.910Z"
   },
   {
    "duration": 24,
    "start_time": "2022-03-02T14:51:29.933Z"
   },
   {
    "duration": 25,
    "start_time": "2022-03-02T14:51:29.960Z"
   },
   {
    "duration": 8,
    "start_time": "2022-03-02T14:51:29.988Z"
   },
   {
    "duration": 40,
    "start_time": "2022-03-02T14:51:29.998Z"
   },
   {
    "duration": 9,
    "start_time": "2022-03-02T14:51:30.041Z"
   },
   {
    "duration": 6,
    "start_time": "2022-03-02T14:51:30.058Z"
   },
   {
    "duration": 677,
    "start_time": "2022-03-02T14:51:30.067Z"
   },
   {
    "duration": 7,
    "start_time": "2022-03-02T14:51:30.747Z"
   },
   {
    "duration": 793,
    "start_time": "2022-03-02T14:51:30.757Z"
   },
   {
    "duration": 27,
    "start_time": "2022-03-02T14:51:31.553Z"
   },
   {
    "duration": 51,
    "start_time": "2022-03-02T14:51:31.583Z"
   },
   {
    "duration": 209,
    "start_time": "2022-03-02T14:51:31.637Z"
   },
   {
    "duration": 60,
    "start_time": "2022-03-02T14:51:31.848Z"
   },
   {
    "duration": 56,
    "start_time": "2022-03-02T14:51:31.911Z"
   },
   {
    "duration": 99,
    "start_time": "2022-03-02T14:51:31.971Z"
   },
   {
    "duration": 106,
    "start_time": "2022-03-02T14:51:32.073Z"
   },
   {
    "duration": 434,
    "start_time": "2022-03-02T14:51:32.182Z"
   },
   {
    "duration": 539,
    "start_time": "2022-03-02T14:51:32.620Z"
   },
   {
    "duration": 88,
    "start_time": "2022-03-02T14:51:33.162Z"
   },
   {
    "duration": 40,
    "start_time": "2022-03-02T14:51:33.252Z"
   },
   {
    "duration": 49,
    "start_time": "2022-03-02T14:51:33.294Z"
   },
   {
    "duration": 4,
    "start_time": "2022-03-02T14:51:33.346Z"
   },
   {
    "duration": 17,
    "start_time": "2022-03-02T14:51:33.353Z"
   },
   {
    "duration": 32083,
    "start_time": "2022-03-02T14:51:33.373Z"
   },
   {
    "duration": 20,
    "start_time": "2022-03-02T14:52:05.459Z"
   },
   {
    "duration": 21,
    "start_time": "2022-03-02T14:52:05.482Z"
   },
   {
    "duration": 90,
    "start_time": "2022-03-02T14:52:05.505Z"
   },
   {
    "duration": 12,
    "start_time": "2022-03-02T14:52:05.597Z"
   },
   {
    "duration": 151,
    "start_time": "2022-03-02T14:52:05.612Z"
   },
   {
    "duration": 11,
    "start_time": "2022-03-02T14:52:05.765Z"
   },
   {
    "duration": 469,
    "start_time": "2022-03-02T14:52:05.778Z"
   },
   {
    "duration": 147,
    "start_time": "2022-03-02T14:52:06.250Z"
   },
   {
    "duration": 13,
    "start_time": "2022-03-02T14:52:06.400Z"
   },
   {
    "duration": 32,
    "start_time": "2022-03-02T14:52:06.415Z"
   },
   {
    "duration": 12,
    "start_time": "2022-03-02T14:52:06.449Z"
   },
   {
    "duration": 9,
    "start_time": "2022-03-02T14:52:06.463Z"
   },
   {
    "duration": 75,
    "start_time": "2022-03-02T14:52:06.474Z"
   },
   {
    "duration": 48,
    "start_time": "2022-03-02T14:52:06.552Z"
   },
   {
    "duration": 31,
    "start_time": "2022-03-02T14:52:06.602Z"
   },
   {
    "duration": 29,
    "start_time": "2022-03-02T14:52:06.635Z"
   },
   {
    "duration": 319,
    "start_time": "2022-03-02T14:52:06.666Z"
   },
   {
    "duration": 7,
    "start_time": "2022-03-02T14:52:06.987Z"
   },
   {
    "duration": 9,
    "start_time": "2022-03-02T14:52:06.996Z"
   },
   {
    "duration": 49,
    "start_time": "2022-03-02T14:52:07.008Z"
   },
   {
    "duration": 114,
    "start_time": "2022-03-02T14:52:07.059Z"
   },
   {
    "duration": 64,
    "start_time": "2022-03-02T14:52:07.176Z"
   },
   {
    "duration": 567,
    "start_time": "2022-03-02T14:52:07.243Z"
   },
   {
    "duration": 1209,
    "start_time": "2022-03-02T14:52:06.605Z"
   },
   {
    "duration": 1207,
    "start_time": "2022-03-02T14:52:06.608Z"
   },
   {
    "duration": 1205,
    "start_time": "2022-03-02T14:52:06.611Z"
   },
   {
    "duration": 1195,
    "start_time": "2022-03-02T14:52:06.622Z"
   },
   {
    "duration": 1194,
    "start_time": "2022-03-02T14:52:06.625Z"
   },
   {
    "duration": 1193,
    "start_time": "2022-03-02T14:52:06.627Z"
   },
   {
    "duration": 1191,
    "start_time": "2022-03-02T14:52:06.630Z"
   },
   {
    "duration": 1188,
    "start_time": "2022-03-02T14:52:06.634Z"
   },
   {
    "duration": 1186,
    "start_time": "2022-03-02T14:52:06.638Z"
   },
   {
    "duration": 1185,
    "start_time": "2022-03-02T14:52:06.641Z"
   },
   {
    "duration": 1183,
    "start_time": "2022-03-02T14:52:06.644Z"
   },
   {
    "duration": 1182,
    "start_time": "2022-03-02T14:52:06.647Z"
   },
   {
    "duration": 1180,
    "start_time": "2022-03-02T14:52:06.650Z"
   },
   {
    "duration": 1179,
    "start_time": "2022-03-02T14:52:06.652Z"
   },
   {
    "duration": 1179,
    "start_time": "2022-03-02T14:52:06.654Z"
   },
   {
    "duration": 1177,
    "start_time": "2022-03-02T14:52:06.657Z"
   },
   {
    "duration": 1174,
    "start_time": "2022-03-02T14:52:06.661Z"
   },
   {
    "duration": 1174,
    "start_time": "2022-03-02T14:52:06.663Z"
   },
   {
    "duration": 1172,
    "start_time": "2022-03-02T14:52:06.666Z"
   },
   {
    "duration": 1172,
    "start_time": "2022-03-02T14:52:06.668Z"
   },
   {
    "duration": 1171,
    "start_time": "2022-03-02T14:52:06.671Z"
   },
   {
    "duration": 1169,
    "start_time": "2022-03-02T14:52:06.674Z"
   },
   {
    "duration": 1167,
    "start_time": "2022-03-02T14:52:06.677Z"
   },
   {
    "duration": 1166,
    "start_time": "2022-03-02T14:52:06.680Z"
   },
   {
    "duration": 1164,
    "start_time": "2022-03-02T14:52:06.683Z"
   },
   {
    "duration": 1163,
    "start_time": "2022-03-02T14:52:06.685Z"
   },
   {
    "duration": 1162,
    "start_time": "2022-03-02T14:52:06.688Z"
   },
   {
    "duration": 1100,
    "start_time": "2022-03-02T14:52:06.751Z"
   },
   {
    "duration": 1099,
    "start_time": "2022-03-02T14:52:06.754Z"
   },
   {
    "duration": 1097,
    "start_time": "2022-03-02T14:52:06.757Z"
   },
   {
    "duration": 1096,
    "start_time": "2022-03-02T14:52:06.760Z"
   },
   {
    "duration": 1094,
    "start_time": "2022-03-02T14:52:06.763Z"
   },
   {
    "duration": 1093,
    "start_time": "2022-03-02T14:52:06.765Z"
   },
   {
    "duration": 1092,
    "start_time": "2022-03-02T14:52:06.768Z"
   },
   {
    "duration": 1091,
    "start_time": "2022-03-02T14:52:06.770Z"
   },
   {
    "duration": 1089,
    "start_time": "2022-03-02T14:52:06.773Z"
   },
   {
    "duration": 1088,
    "start_time": "2022-03-02T14:52:06.776Z"
   },
   {
    "duration": 1087,
    "start_time": "2022-03-02T14:52:06.778Z"
   },
   {
    "duration": 1085,
    "start_time": "2022-03-02T14:52:06.781Z"
   },
   {
    "duration": 1085,
    "start_time": "2022-03-02T14:52:06.783Z"
   },
   {
    "duration": 1083,
    "start_time": "2022-03-02T14:52:06.786Z"
   },
   {
    "duration": 1082,
    "start_time": "2022-03-02T14:52:06.788Z"
   },
   {
    "duration": 1081,
    "start_time": "2022-03-02T14:52:06.791Z"
   },
   {
    "duration": 283,
    "start_time": "2022-03-02T18:17:40.040Z"
   },
   {
    "duration": -544,
    "start_time": "2022-03-02T18:17:40.869Z"
   },
   {
    "duration": 346,
    "start_time": "2022-03-02T18:17:40.544Z"
   },
   {
    "duration": 348,
    "start_time": "2022-03-02T18:17:41.328Z"
   },
   {
    "duration": 327,
    "start_time": "2022-03-02T18:17:41.903Z"
   },
   {
    "duration": 310,
    "start_time": "2022-03-02T18:17:44.501Z"
   },
   {
    "duration": -532,
    "start_time": "2022-03-02T18:17:45.345Z"
   },
   {
    "duration": 355,
    "start_time": "2022-03-02T18:17:47.952Z"
   },
   {
    "duration": 301,
    "start_time": "2022-03-02T18:17:49.135Z"
   },
   {
    "duration": 334,
    "start_time": "2022-03-02T18:17:50.034Z"
   },
   {
    "duration": 317,
    "start_time": "2022-03-02T18:17:50.467Z"
   },
   {
    "duration": 14175,
    "start_time": "2022-03-02T18:17:51.147Z"
   },
   {
    "duration": -558,
    "start_time": "2022-03-02T18:18:05.883Z"
   },
   {
    "duration": -559,
    "start_time": "2022-03-02T18:18:05.886Z"
   },
   {
    "duration": 337,
    "start_time": "2022-03-02T19:53:06.168Z"
   },
   {
    "duration": 12877,
    "start_time": "2022-03-02T19:53:14.675Z"
   },
   {
    "duration": 1343,
    "start_time": "2022-03-02T19:53:27.554Z"
   },
   {
    "duration": 123,
    "start_time": "2022-03-02T19:53:28.898Z"
   },
   {
    "duration": 7,
    "start_time": "2022-03-02T19:53:29.023Z"
   },
   {
    "duration": 163,
    "start_time": "2022-03-02T19:53:29.031Z"
   },
   {
    "duration": 8,
    "start_time": "2022-03-02T19:53:29.196Z"
   },
   {
    "duration": 19,
    "start_time": "2022-03-02T19:53:29.206Z"
   },
   {
    "duration": 16,
    "start_time": "2022-03-02T19:53:29.228Z"
   },
   {
    "duration": 73,
    "start_time": "2022-03-02T19:53:29.264Z"
   },
   {
    "duration": 72,
    "start_time": "2022-03-02T19:53:29.339Z"
   },
   {
    "duration": 209,
    "start_time": "2022-03-02T19:53:29.413Z"
   },
   {
    "duration": 73,
    "start_time": "2022-03-02T19:53:29.623Z"
   },
   {
    "duration": 10,
    "start_time": "2022-03-02T19:53:29.697Z"
   },
   {
    "duration": 138,
    "start_time": "2022-03-02T19:53:29.709Z"
   },
   {
    "duration": 21,
    "start_time": "2022-03-02T19:53:29.848Z"
   },
   {
    "duration": 352,
    "start_time": "2022-03-02T19:53:29.871Z"
   },
   {
    "duration": 4,
    "start_time": "2022-03-02T19:53:30.225Z"
   },
   {
    "duration": 33,
    "start_time": "2022-03-02T19:53:30.231Z"
   },
   {
    "duration": 21,
    "start_time": "2022-03-02T19:53:30.265Z"
   },
   {
    "duration": 6,
    "start_time": "2022-03-02T19:53:30.287Z"
   },
   {
    "duration": 15,
    "start_time": "2022-03-02T19:53:30.295Z"
   },
   {
    "duration": 7,
    "start_time": "2022-03-02T19:53:30.311Z"
   },
   {
    "duration": 4,
    "start_time": "2022-03-02T19:53:30.322Z"
   },
   {
    "duration": 404,
    "start_time": "2022-03-02T19:53:30.329Z"
   },
   {
    "duration": 5,
    "start_time": "2022-03-02T19:53:30.735Z"
   },
   {
    "duration": 477,
    "start_time": "2022-03-02T19:53:30.741Z"
   },
   {
    "duration": 20,
    "start_time": "2022-03-02T19:53:31.219Z"
   },
   {
    "duration": 258,
    "start_time": "2022-03-02T19:53:31.240Z"
   },
   {
    "duration": 130,
    "start_time": "2022-03-02T19:53:31.499Z"
   },
   {
    "duration": 46,
    "start_time": "2022-03-02T19:53:31.631Z"
   },
   {
    "duration": 21,
    "start_time": "2022-03-02T19:53:31.678Z"
   },
   {
    "duration": 65,
    "start_time": "2022-03-02T19:53:31.701Z"
   },
   {
    "duration": 50,
    "start_time": "2022-03-02T19:53:31.768Z"
   },
   {
    "duration": 269,
    "start_time": "2022-03-02T19:53:31.820Z"
   },
   {
    "duration": 328,
    "start_time": "2022-03-02T19:53:32.091Z"
   },
   {
    "duration": 66,
    "start_time": "2022-03-02T19:53:32.421Z"
   },
   {
    "duration": 28,
    "start_time": "2022-03-02T19:53:32.489Z"
   },
   {
    "duration": 16,
    "start_time": "2022-03-02T19:53:32.520Z"
   },
   {
    "duration": 29,
    "start_time": "2022-03-02T19:53:32.537Z"
   },
   {
    "duration": 12,
    "start_time": "2022-03-02T19:53:32.568Z"
   },
   {
    "duration": 19266,
    "start_time": "2022-03-02T19:53:32.582Z"
   },
   {
    "duration": 18,
    "start_time": "2022-03-02T19:53:51.850Z"
   },
   {
    "duration": 1286,
    "start_time": "2022-03-02T19:53:51.870Z"
   },
   {
    "duration": 491,
    "start_time": "2022-03-02T19:53:53.158Z"
   },
   {
    "duration": 331,
    "start_time": "2022-03-02T19:53:53.651Z"
   },
   {
    "duration": 1312,
    "start_time": "2022-03-02T19:53:53.984Z"
   },
   {
    "duration": 1234,
    "start_time": "2022-03-02T19:53:55.298Z"
   },
   {
    "duration": 1059,
    "start_time": "2022-03-02T19:53:56.533Z"
   },
   {
    "duration": 160,
    "start_time": "2022-03-02T19:53:57.594Z"
   },
   {
    "duration": 986,
    "start_time": "2022-03-02T19:53:57.755Z"
   },
   {
    "duration": 19,
    "start_time": "2022-03-02T19:53:58.744Z"
   },
   {
    "duration": 8,
    "start_time": "2022-03-02T19:53:58.765Z"
   },
   {
    "duration": 7,
    "start_time": "2022-03-02T19:53:58.775Z"
   },
   {
    "duration": 9,
    "start_time": "2022-03-02T19:53:58.784Z"
   },
   {
    "duration": 31,
    "start_time": "2022-03-02T19:53:58.798Z"
   },
   {
    "duration": 63,
    "start_time": "2022-03-02T19:53:58.832Z"
   },
   {
    "duration": 9,
    "start_time": "2022-03-02T19:53:58.896Z"
   },
   {
    "duration": 24,
    "start_time": "2022-03-02T19:53:58.906Z"
   },
   {
    "duration": 219,
    "start_time": "2022-03-02T19:53:58.931Z"
   },
   {
    "duration": 5,
    "start_time": "2022-03-02T19:53:59.151Z"
   },
   {
    "duration": 10,
    "start_time": "2022-03-02T19:53:59.157Z"
   },
   {
    "duration": 21,
    "start_time": "2022-03-02T19:53:59.168Z"
   },
   {
    "duration": 81,
    "start_time": "2022-03-02T19:53:59.191Z"
   },
   {
    "duration": 34,
    "start_time": "2022-03-02T19:53:59.273Z"
   },
   {
    "duration": 417,
    "start_time": "2022-03-02T19:53:59.309Z"
   },
   {
    "duration": 573,
    "start_time": "2022-03-02T19:53:59.156Z"
   },
   {
    "duration": 569,
    "start_time": "2022-03-02T19:53:59.161Z"
   },
   {
    "duration": 566,
    "start_time": "2022-03-02T19:53:59.165Z"
   },
   {
    "duration": 562,
    "start_time": "2022-03-02T19:53:59.170Z"
   },
   {
    "duration": 558,
    "start_time": "2022-03-02T19:53:59.174Z"
   },
   {
    "duration": 554,
    "start_time": "2022-03-02T19:53:59.179Z"
   },
   {
    "duration": 550,
    "start_time": "2022-03-02T19:53:59.184Z"
   },
   {
    "duration": 546,
    "start_time": "2022-03-02T19:53:59.189Z"
   },
   {
    "duration": 543,
    "start_time": "2022-03-02T19:53:59.193Z"
   },
   {
    "duration": 539,
    "start_time": "2022-03-02T19:53:59.198Z"
   },
   {
    "duration": 536,
    "start_time": "2022-03-02T19:53:59.202Z"
   },
   {
    "duration": 532,
    "start_time": "2022-03-02T19:53:59.207Z"
   },
   {
    "duration": 529,
    "start_time": "2022-03-02T19:53:59.211Z"
   },
   {
    "duration": 524,
    "start_time": "2022-03-02T19:53:59.216Z"
   },
   {
    "duration": 520,
    "start_time": "2022-03-02T19:53:59.221Z"
   },
   {
    "duration": 517,
    "start_time": "2022-03-02T19:53:59.225Z"
   },
   {
    "duration": 514,
    "start_time": "2022-03-02T19:53:59.229Z"
   },
   {
    "duration": 510,
    "start_time": "2022-03-02T19:53:59.234Z"
   },
   {
    "duration": 507,
    "start_time": "2022-03-02T19:53:59.238Z"
   },
   {
    "duration": 503,
    "start_time": "2022-03-02T19:53:59.243Z"
   },
   {
    "duration": 491,
    "start_time": "2022-03-02T19:53:59.256Z"
   },
   {
    "duration": 485,
    "start_time": "2022-03-02T19:53:59.263Z"
   },
   {
    "duration": 482,
    "start_time": "2022-03-02T19:53:59.267Z"
   },
   {
    "duration": 478,
    "start_time": "2022-03-02T19:53:59.272Z"
   },
   {
    "duration": 474,
    "start_time": "2022-03-02T19:53:59.277Z"
   },
   {
    "duration": 471,
    "start_time": "2022-03-02T19:53:59.281Z"
   },
   {
    "duration": 467,
    "start_time": "2022-03-02T19:53:59.285Z"
   },
   {
    "duration": 463,
    "start_time": "2022-03-02T19:53:59.290Z"
   },
   {
    "duration": 460,
    "start_time": "2022-03-02T19:53:59.294Z"
   },
   {
    "duration": 456,
    "start_time": "2022-03-02T19:53:59.299Z"
   },
   {
    "duration": 453,
    "start_time": "2022-03-02T19:53:59.303Z"
   },
   {
    "duration": 447,
    "start_time": "2022-03-02T19:53:59.309Z"
   },
   {
    "duration": 444,
    "start_time": "2022-03-02T19:53:59.313Z"
   },
   {
    "duration": 442,
    "start_time": "2022-03-02T19:53:59.317Z"
   },
   {
    "duration": 438,
    "start_time": "2022-03-02T19:53:59.322Z"
   },
   {
    "duration": 434,
    "start_time": "2022-03-02T19:53:59.326Z"
   },
   {
    "duration": 430,
    "start_time": "2022-03-02T19:53:59.331Z"
   },
   {
    "duration": 427,
    "start_time": "2022-03-02T19:53:59.335Z"
   },
   {
    "duration": 424,
    "start_time": "2022-03-02T19:53:59.339Z"
   },
   {
    "duration": 421,
    "start_time": "2022-03-02T19:53:59.343Z"
   },
   {
    "duration": 417,
    "start_time": "2022-03-02T19:53:59.347Z"
   },
   {
    "duration": 413,
    "start_time": "2022-03-02T19:53:59.352Z"
   },
   {
    "duration": 399,
    "start_time": "2022-03-02T19:53:59.367Z"
   },
   {
    "duration": 217,
    "start_time": "2022-03-02T19:58:09.899Z"
   },
   {
    "duration": 17,
    "start_time": "2022-03-02T20:01:33.178Z"
   },
   {
    "duration": 7,
    "start_time": "2022-03-02T20:01:37.858Z"
   },
   {
    "duration": 7,
    "start_time": "2022-03-02T20:01:53.435Z"
   },
   {
    "duration": 15,
    "start_time": "2022-03-02T20:01:57.384Z"
   },
   {
    "duration": 4,
    "start_time": "2022-03-02T20:02:02.832Z"
   },
   {
    "duration": 31,
    "start_time": "2022-03-02T20:05:02.151Z"
   },
   {
    "duration": 36,
    "start_time": "2022-03-02T20:05:20.582Z"
   },
   {
    "duration": 33,
    "start_time": "2022-03-02T20:06:38.629Z"
   },
   {
    "duration": 18,
    "start_time": "2022-03-02T20:06:44.342Z"
   },
   {
    "duration": 7,
    "start_time": "2022-03-02T20:06:46.156Z"
   },
   {
    "duration": 4,
    "start_time": "2022-03-02T20:07:21.087Z"
   },
   {
    "duration": 4,
    "start_time": "2022-03-02T20:07:51.760Z"
   },
   {
    "duration": 21,
    "start_time": "2022-03-02T20:08:09.532Z"
   },
   {
    "duration": 31,
    "start_time": "2022-03-02T20:08:11.510Z"
   },
   {
    "duration": 10331,
    "start_time": "2022-03-02T20:08:17.932Z"
   },
   {
    "duration": 379,
    "start_time": "2022-03-02T20:08:27.886Z"
   },
   {
    "duration": 16,
    "start_time": "2022-03-02T20:08:56.855Z"
   },
   {
    "duration": 15,
    "start_time": "2022-03-02T20:09:08.747Z"
   },
   {
    "duration": 16,
    "start_time": "2022-03-02T20:09:22.659Z"
   },
   {
    "duration": 9428,
    "start_time": "2022-03-02T20:10:05.774Z"
   },
   {
    "duration": 5597,
    "start_time": "2022-03-02T20:11:22.959Z"
   },
   {
    "duration": 337,
    "start_time": "2022-03-02T20:13:42.105Z"
   },
   {
    "duration": 7763,
    "start_time": "2022-03-02T20:14:03.900Z"
   },
   {
    "duration": 7,
    "start_time": "2022-03-02T20:14:21.017Z"
   },
   {
    "duration": 7643,
    "start_time": "2022-03-02T20:14:39.063Z"
   },
   {
    "duration": 6,
    "start_time": "2022-03-02T20:14:50.927Z"
   },
   {
    "duration": 11,
    "start_time": "2022-03-02T20:14:54.857Z"
   },
   {
    "duration": 10,
    "start_time": "2022-03-02T20:14:56.113Z"
   },
   {
    "duration": 9,
    "start_time": "2022-03-02T20:15:04.008Z"
   },
   {
    "duration": 5,
    "start_time": "2022-03-02T20:15:09.795Z"
   },
   {
    "duration": 6,
    "start_time": "2022-03-02T20:15:10.873Z"
   },
   {
    "duration": 1003,
    "start_time": "2022-03-02T20:15:13.087Z"
   },
   {
    "duration": 9,
    "start_time": "2022-03-02T20:15:26.230Z"
   },
   {
    "duration": 616,
    "start_time": "2022-03-02T20:15:26.241Z"
   },
   {
    "duration": 828,
    "start_time": "2022-03-02T20:15:26.863Z"
   },
   {
    "duration": 671,
    "start_time": "2022-03-02T20:15:27.693Z"
   },
   {
    "duration": 5,
    "start_time": "2022-03-02T20:15:28.365Z"
   },
   {
    "duration": 39,
    "start_time": "2022-03-02T20:15:28.372Z"
   },
   {
    "duration": 74,
    "start_time": "2022-03-02T20:15:28.413Z"
   },
   {
    "duration": 3,
    "start_time": "2022-03-02T20:15:28.490Z"
   },
   {
    "duration": 15,
    "start_time": "2022-03-02T20:15:28.495Z"
   },
   {
    "duration": 10,
    "start_time": "2022-03-02T20:15:28.512Z"
   },
   {
    "duration": 4,
    "start_time": "2022-03-02T20:15:28.524Z"
   },
   {
    "duration": 83,
    "start_time": "2022-03-02T20:15:28.530Z"
   },
   {
    "duration": 67,
    "start_time": "2022-03-02T20:15:28.614Z"
   },
   {
    "duration": 3,
    "start_time": "2022-03-02T20:15:28.682Z"
   },
   {
    "duration": 34,
    "start_time": "2022-03-02T20:15:28.686Z"
   },
   {
    "duration": 15,
    "start_time": "2022-03-02T20:15:28.721Z"
   },
   {
    "duration": 3,
    "start_time": "2022-03-02T20:15:28.737Z"
   },
   {
    "duration": 28,
    "start_time": "2022-03-02T20:15:28.741Z"
   },
   {
    "duration": 19,
    "start_time": "2022-03-02T20:15:28.770Z"
   },
   {
    "duration": 3,
    "start_time": "2022-03-02T20:15:28.790Z"
   },
   {
    "duration": 39,
    "start_time": "2022-03-02T20:15:28.794Z"
   },
   {
    "duration": 56,
    "start_time": "2022-03-02T20:15:28.835Z"
   },
   {
    "duration": 3,
    "start_time": "2022-03-02T20:15:28.894Z"
   },
   {
    "duration": 8,
    "start_time": "2022-03-02T20:15:28.898Z"
   },
   {
    "duration": 4,
    "start_time": "2022-03-02T20:15:28.908Z"
   },
   {
    "duration": 13,
    "start_time": "2022-03-02T20:15:28.913Z"
   },
   {
    "duration": 34,
    "start_time": "2022-03-02T20:15:28.928Z"
   },
   {
    "duration": 7,
    "start_time": "2022-03-02T20:25:05.008Z"
   },
   {
    "duration": 14,
    "start_time": "2022-03-02T20:25:52.035Z"
   },
   {
    "duration": 12,
    "start_time": "2022-03-02T20:26:04.790Z"
   },
   {
    "duration": 7,
    "start_time": "2022-03-02T20:27:54.155Z"
   },
   {
    "duration": 76,
    "start_time": "2022-03-02T20:28:13.953Z"
   },
   {
    "duration": 13,
    "start_time": "2022-03-02T20:28:54.552Z"
   },
   {
    "duration": 13,
    "start_time": "2022-03-02T20:30:01.062Z"
   },
   {
    "duration": 7,
    "start_time": "2022-03-02T20:31:40.471Z"
   },
   {
    "duration": 2296,
    "start_time": "2022-03-02T20:36:22.526Z"
   },
   {
    "duration": 1288,
    "start_time": "2022-03-02T20:36:24.824Z"
   },
   {
    "duration": 190,
    "start_time": "2022-03-02T20:36:26.115Z"
   },
   {
    "duration": 9,
    "start_time": "2022-03-02T20:36:26.307Z"
   },
   {
    "duration": 281,
    "start_time": "2022-03-02T20:36:26.318Z"
   },
   {
    "duration": 9,
    "start_time": "2022-03-02T20:36:26.602Z"
   },
   {
    "duration": 17,
    "start_time": "2022-03-02T20:36:26.613Z"
   },
   {
    "duration": 36,
    "start_time": "2022-03-02T20:36:26.633Z"
   },
   {
    "duration": 74,
    "start_time": "2022-03-02T20:36:26.672Z"
   },
   {
    "duration": 73,
    "start_time": "2022-03-02T20:36:26.748Z"
   },
   {
    "duration": 224,
    "start_time": "2022-03-02T20:36:26.823Z"
   },
   {
    "duration": 71,
    "start_time": "2022-03-02T20:36:27.048Z"
   },
   {
    "duration": 11,
    "start_time": "2022-03-02T20:36:27.120Z"
   },
   {
    "duration": 143,
    "start_time": "2022-03-02T20:36:27.132Z"
   },
   {
    "duration": 16,
    "start_time": "2022-03-02T20:36:27.277Z"
   },
   {
    "duration": 344,
    "start_time": "2022-03-02T20:36:27.295Z"
   },
   {
    "duration": 5,
    "start_time": "2022-03-02T20:36:27.641Z"
   },
   {
    "duration": 30,
    "start_time": "2022-03-02T20:36:27.647Z"
   },
   {
    "duration": 19,
    "start_time": "2022-03-02T20:36:27.679Z"
   },
   {
    "duration": 6,
    "start_time": "2022-03-02T20:36:27.700Z"
   },
   {
    "duration": 10,
    "start_time": "2022-03-02T20:36:27.708Z"
   },
   {
    "duration": 6,
    "start_time": "2022-03-02T20:36:27.720Z"
   },
   {
    "duration": 33,
    "start_time": "2022-03-02T20:36:27.730Z"
   },
   {
    "duration": 380,
    "start_time": "2022-03-02T20:36:27.765Z"
   },
   {
    "duration": 5,
    "start_time": "2022-03-02T20:36:28.147Z"
   },
   {
    "duration": 481,
    "start_time": "2022-03-02T20:36:28.154Z"
   },
   {
    "duration": 33,
    "start_time": "2022-03-02T20:36:28.637Z"
   },
   {
    "duration": 20,
    "start_time": "2022-03-02T20:36:28.673Z"
   },
   {
    "duration": 145,
    "start_time": "2022-03-02T20:36:28.694Z"
   },
   {
    "duration": 50,
    "start_time": "2022-03-02T20:36:28.840Z"
   },
   {
    "duration": 14,
    "start_time": "2022-03-02T20:36:28.892Z"
   },
   {
    "duration": 7,
    "start_time": "2022-03-02T20:36:28.908Z"
   },
   {
    "duration": 52,
    "start_time": "2022-03-02T20:36:28.916Z"
   },
   {
    "duration": 45,
    "start_time": "2022-03-02T20:36:28.970Z"
   },
   {
    "duration": 60,
    "start_time": "2022-03-02T20:36:29.017Z"
   },
   {
    "duration": 258,
    "start_time": "2022-03-02T20:36:29.078Z"
   },
   {
    "duration": 326,
    "start_time": "2022-03-02T20:36:29.337Z"
   },
   {
    "duration": 55,
    "start_time": "2022-03-02T20:36:29.664Z"
   },
   {
    "duration": 44,
    "start_time": "2022-03-02T20:36:29.721Z"
   },
   {
    "duration": 16,
    "start_time": "2022-03-02T20:36:29.767Z"
   },
   {
    "duration": 7,
    "start_time": "2022-03-02T20:36:29.784Z"
   },
   {
    "duration": 22,
    "start_time": "2022-03-02T20:36:29.792Z"
   },
   {
    "duration": 19378,
    "start_time": "2022-03-02T20:36:29.816Z"
   },
   {
    "duration": 16,
    "start_time": "2022-03-02T20:36:49.195Z"
   },
   {
    "duration": 15,
    "start_time": "2022-03-02T20:36:49.213Z"
   },
   {
    "duration": 75,
    "start_time": "2022-03-02T20:36:49.230Z"
   },
   {
    "duration": 8,
    "start_time": "2022-03-02T20:36:49.308Z"
   },
   {
    "duration": 100,
    "start_time": "2022-03-02T20:36:49.318Z"
   },
   {
    "duration": 7,
    "start_time": "2022-03-02T20:36:49.420Z"
   },
   {
    "duration": 320,
    "start_time": "2022-03-02T20:36:49.429Z"
   },
   {
    "duration": 89,
    "start_time": "2022-03-02T20:36:49.751Z"
   },
   {
    "duration": 26,
    "start_time": "2022-03-02T20:36:49.842Z"
   },
   {
    "duration": 13,
    "start_time": "2022-03-02T20:36:49.869Z"
   },
   {
    "duration": 7,
    "start_time": "2022-03-02T20:36:49.884Z"
   },
   {
    "duration": 6,
    "start_time": "2022-03-02T20:36:49.893Z"
   },
   {
    "duration": 8,
    "start_time": "2022-03-02T20:36:49.901Z"
   },
   {
    "duration": 59,
    "start_time": "2022-03-02T20:36:49.911Z"
   },
   {
    "duration": 53,
    "start_time": "2022-03-02T20:36:49.972Z"
   },
   {
    "duration": 13,
    "start_time": "2022-03-02T20:36:50.027Z"
   },
   {
    "duration": 26,
    "start_time": "2022-03-02T20:36:50.062Z"
   },
   {
    "duration": 213,
    "start_time": "2022-03-02T20:36:50.090Z"
   },
   {
    "duration": 5,
    "start_time": "2022-03-02T20:36:50.305Z"
   },
   {
    "duration": 6,
    "start_time": "2022-03-02T20:36:50.311Z"
   },
   {
    "duration": 20,
    "start_time": "2022-03-02T20:36:50.318Z"
   },
   {
    "duration": 82,
    "start_time": "2022-03-02T20:36:50.340Z"
   },
   {
    "duration": 47,
    "start_time": "2022-03-02T20:36:50.424Z"
   },
   {
    "duration": 17,
    "start_time": "2022-03-02T20:36:50.473Z"
   },
   {
    "duration": 7,
    "start_time": "2022-03-02T20:36:50.496Z"
   },
   {
    "duration": 8,
    "start_time": "2022-03-02T20:36:50.505Z"
   },
   {
    "duration": 19,
    "start_time": "2022-03-02T20:36:50.515Z"
   },
   {
    "duration": 28,
    "start_time": "2022-03-02T20:36:50.535Z"
   },
   {
    "duration": 20,
    "start_time": "2022-03-02T20:36:50.565Z"
   },
   {
    "duration": 29,
    "start_time": "2022-03-02T20:36:50.587Z"
   },
   {
    "duration": 7251,
    "start_time": "2022-03-02T20:36:50.617Z"
   },
   {
    "duration": 6,
    "start_time": "2022-03-02T20:36:57.871Z"
   },
   {
    "duration": 7824,
    "start_time": "2022-03-02T20:36:57.879Z"
   },
   {
    "duration": 7,
    "start_time": "2022-03-02T20:37:05.706Z"
   },
   {
    "duration": 21,
    "start_time": "2022-03-02T20:37:05.715Z"
   },
   {
    "duration": 21,
    "start_time": "2022-03-02T20:37:05.738Z"
   },
   {
    "duration": 30,
    "start_time": "2022-03-02T20:37:05.761Z"
   },
   {
    "duration": 19,
    "start_time": "2022-03-02T20:37:05.793Z"
   },
   {
    "duration": 33,
    "start_time": "2022-03-02T20:37:05.813Z"
   },
   {
    "duration": 1027,
    "start_time": "2022-03-02T20:37:05.848Z"
   },
   {
    "duration": 9,
    "start_time": "2022-03-02T20:37:06.876Z"
   },
   {
    "duration": 875,
    "start_time": "2022-03-02T20:37:06.888Z"
   },
   {
    "duration": 726,
    "start_time": "2022-03-02T20:37:07.765Z"
   },
   {
    "duration": 723,
    "start_time": "2022-03-02T20:37:08.493Z"
   },
   {
    "duration": 6,
    "start_time": "2022-03-02T20:37:09.218Z"
   },
   {
    "duration": 42,
    "start_time": "2022-03-02T20:37:09.225Z"
   },
   {
    "duration": 53,
    "start_time": "2022-03-02T20:37:09.269Z"
   },
   {
    "duration": 3,
    "start_time": "2022-03-02T20:37:09.323Z"
   },
   {
    "duration": 19,
    "start_time": "2022-03-02T20:37:09.327Z"
   },
   {
    "duration": 19,
    "start_time": "2022-03-02T20:37:09.348Z"
   },
   {
    "duration": 14,
    "start_time": "2022-03-02T20:37:09.369Z"
   },
   {
    "duration": 78,
    "start_time": "2022-03-02T20:37:09.385Z"
   },
   {
    "duration": 61,
    "start_time": "2022-03-02T20:37:09.465Z"
   },
   {
    "duration": 3,
    "start_time": "2022-03-02T20:37:09.527Z"
   },
   {
    "duration": 32,
    "start_time": "2022-03-02T20:37:09.532Z"
   },
   {
    "duration": 14,
    "start_time": "2022-03-02T20:37:09.566Z"
   },
   {
    "duration": 3,
    "start_time": "2022-03-02T20:37:09.581Z"
   },
   {
    "duration": 31,
    "start_time": "2022-03-02T20:37:09.586Z"
   },
   {
    "duration": 45,
    "start_time": "2022-03-02T20:37:09.619Z"
   },
   {
    "duration": 2,
    "start_time": "2022-03-02T20:37:09.666Z"
   },
   {
    "duration": 38,
    "start_time": "2022-03-02T20:37:09.669Z"
   },
   {
    "duration": 38,
    "start_time": "2022-03-02T20:37:09.709Z"
   },
   {
    "duration": 14,
    "start_time": "2022-03-02T20:37:09.749Z"
   },
   {
    "duration": 9,
    "start_time": "2022-03-02T20:37:09.765Z"
   },
   {
    "duration": 16,
    "start_time": "2022-03-02T20:37:09.776Z"
   },
   {
    "duration": 15,
    "start_time": "2022-03-02T20:37:09.793Z"
   },
   {
    "duration": 16,
    "start_time": "2022-03-02T20:37:09.810Z"
   },
   {
    "duration": 29,
    "start_time": "2022-03-02T20:37:34.631Z"
   },
   {
    "duration": 8,
    "start_time": "2022-03-02T20:37:35.684Z"
   },
   {
    "duration": 6,
    "start_time": "2022-03-02T20:37:36.915Z"
   },
   {
    "duration": 15,
    "start_time": "2022-03-02T20:37:37.141Z"
   },
   {
    "duration": 4,
    "start_time": "2022-03-02T20:37:38.589Z"
   },
   {
    "duration": 22,
    "start_time": "2022-03-02T20:37:39.590Z"
   },
   {
    "duration": 23,
    "start_time": "2022-03-02T20:37:39.902Z"
   },
   {
    "duration": 7262,
    "start_time": "2022-03-02T20:37:40.496Z"
   },
   {
    "duration": 7,
    "start_time": "2022-03-02T20:37:47.763Z"
   },
   {
    "duration": 7706,
    "start_time": "2022-03-02T20:37:47.772Z"
   },
   {
    "duration": 6,
    "start_time": "2022-03-02T20:37:55.481Z"
   },
   {
    "duration": 14,
    "start_time": "2022-03-02T20:37:55.489Z"
   },
   {
    "duration": 9,
    "start_time": "2022-03-02T20:37:55.505Z"
   },
   {
    "duration": 13,
    "start_time": "2022-03-02T20:37:55.516Z"
   },
   {
    "duration": 6,
    "start_time": "2022-03-02T20:37:55.532Z"
   },
   {
    "duration": 6,
    "start_time": "2022-03-02T20:37:55.564Z"
   },
   {
    "duration": 1024,
    "start_time": "2022-03-02T20:37:55.572Z"
   },
   {
    "duration": 8,
    "start_time": "2022-03-02T20:37:56.597Z"
   },
   {
    "duration": 656,
    "start_time": "2022-03-02T20:37:56.607Z"
   },
   {
    "duration": 622,
    "start_time": "2022-03-02T20:37:57.264Z"
   },
   {
    "duration": 675,
    "start_time": "2022-03-02T20:37:57.888Z"
   },
   {
    "duration": 5,
    "start_time": "2022-03-02T20:37:58.565Z"
   },
   {
    "duration": 35,
    "start_time": "2022-03-02T20:37:58.571Z"
   },
   {
    "duration": 65,
    "start_time": "2022-03-02T20:37:58.607Z"
   },
   {
    "duration": 3,
    "start_time": "2022-03-02T20:37:58.674Z"
   },
   {
    "duration": 9,
    "start_time": "2022-03-02T20:37:58.678Z"
   },
   {
    "duration": 12,
    "start_time": "2022-03-02T20:37:58.689Z"
   },
   {
    "duration": 66,
    "start_time": "2022-03-02T20:38:42.332Z"
   },
   {
    "duration": 16273,
    "start_time": "2022-03-03T13:18:42.397Z"
   },
   {
    "duration": 1427,
    "start_time": "2022-03-03T13:18:58.672Z"
   },
   {
    "duration": 121,
    "start_time": "2022-03-03T13:19:00.101Z"
   },
   {
    "duration": 7,
    "start_time": "2022-03-03T13:19:00.224Z"
   },
   {
    "duration": 148,
    "start_time": "2022-03-03T13:19:00.232Z"
   },
   {
    "duration": 8,
    "start_time": "2022-03-03T13:19:00.382Z"
   },
   {
    "duration": 25,
    "start_time": "2022-03-03T13:19:00.392Z"
   },
   {
    "duration": 15,
    "start_time": "2022-03-03T13:19:00.420Z"
   },
   {
    "duration": 89,
    "start_time": "2022-03-03T13:19:00.437Z"
   },
   {
    "duration": 73,
    "start_time": "2022-03-03T13:19:00.529Z"
   },
   {
    "duration": 203,
    "start_time": "2022-03-03T13:19:00.604Z"
   },
   {
    "duration": 64,
    "start_time": "2022-03-03T13:19:00.809Z"
   },
   {
    "duration": 12,
    "start_time": "2022-03-03T13:19:00.875Z"
   },
   {
    "duration": 131,
    "start_time": "2022-03-03T13:19:00.902Z"
   },
   {
    "duration": 17,
    "start_time": "2022-03-03T13:19:01.035Z"
   },
   {
    "duration": 354,
    "start_time": "2022-03-03T13:19:01.054Z"
   },
   {
    "duration": 4,
    "start_time": "2022-03-03T13:19:01.410Z"
   },
   {
    "duration": 27,
    "start_time": "2022-03-03T13:19:01.416Z"
   },
   {
    "duration": 19,
    "start_time": "2022-03-03T13:19:01.445Z"
   },
   {
    "duration": 6,
    "start_time": "2022-03-03T13:19:01.465Z"
   },
   {
    "duration": 30,
    "start_time": "2022-03-03T13:19:01.472Z"
   },
   {
    "duration": 6,
    "start_time": "2022-03-03T13:19:01.504Z"
   },
   {
    "duration": 4,
    "start_time": "2022-03-03T13:19:01.514Z"
   },
   {
    "duration": 373,
    "start_time": "2022-03-03T13:19:01.521Z"
   },
   {
    "duration": 4,
    "start_time": "2022-03-03T13:19:01.901Z"
   },
   {
    "duration": 449,
    "start_time": "2022-03-03T13:19:01.907Z"
   },
   {
    "duration": 17,
    "start_time": "2022-03-03T13:19:02.358Z"
   },
   {
    "duration": 29,
    "start_time": "2022-03-03T13:19:02.377Z"
   },
   {
    "duration": 132,
    "start_time": "2022-03-03T13:19:02.407Z"
   },
   {
    "duration": 40,
    "start_time": "2022-03-03T13:19:02.540Z"
   },
   {
    "duration": 29,
    "start_time": "2022-03-03T13:19:02.581Z"
   },
   {
    "duration": 6,
    "start_time": "2022-03-03T13:19:02.611Z"
   },
   {
    "duration": 20,
    "start_time": "2022-03-03T13:19:02.619Z"
   },
   {
    "duration": 42,
    "start_time": "2022-03-03T13:19:02.640Z"
   },
   {
    "duration": 44,
    "start_time": "2022-03-03T13:19:02.701Z"
   },
   {
    "duration": 256,
    "start_time": "2022-03-03T13:19:02.747Z"
   },
   {
    "duration": 305,
    "start_time": "2022-03-03T13:19:03.004Z"
   },
   {
    "duration": 50,
    "start_time": "2022-03-03T13:19:03.311Z"
   },
   {
    "duration": 42,
    "start_time": "2022-03-03T13:19:03.363Z"
   },
   {
    "duration": 14,
    "start_time": "2022-03-03T13:19:03.407Z"
   },
   {
    "duration": 3,
    "start_time": "2022-03-03T13:19:03.423Z"
   },
   {
    "duration": 10,
    "start_time": "2022-03-03T13:19:03.427Z"
   },
   {
    "duration": 18201,
    "start_time": "2022-03-03T13:19:03.439Z"
   },
   {
    "duration": 19,
    "start_time": "2022-03-03T13:19:21.641Z"
   },
   {
    "duration": 13,
    "start_time": "2022-03-03T13:19:21.662Z"
   },
   {
    "duration": 65,
    "start_time": "2022-03-03T13:19:21.676Z"
   },
   {
    "duration": 8,
    "start_time": "2022-03-03T13:19:21.743Z"
   },
   {
    "duration": 90,
    "start_time": "2022-03-03T13:19:21.753Z"
   },
   {
    "duration": 7,
    "start_time": "2022-03-03T13:19:21.844Z"
   },
   {
    "duration": 392,
    "start_time": "2022-03-03T13:19:21.852Z"
   },
   {
    "duration": 88,
    "start_time": "2022-03-03T13:19:22.246Z"
   },
   {
    "duration": 8,
    "start_time": "2022-03-03T13:19:22.336Z"
   },
   {
    "duration": 12,
    "start_time": "2022-03-03T13:19:22.346Z"
   },
   {
    "duration": 7,
    "start_time": "2022-03-03T13:19:22.359Z"
   },
   {
    "duration": 5,
    "start_time": "2022-03-03T13:19:22.368Z"
   },
   {
    "duration": 32,
    "start_time": "2022-03-03T13:19:22.375Z"
   },
   {
    "duration": 30,
    "start_time": "2022-03-03T13:19:22.408Z"
   },
   {
    "duration": 32,
    "start_time": "2022-03-03T13:19:22.440Z"
   },
   {
    "duration": 8,
    "start_time": "2022-03-03T13:19:22.474Z"
   },
   {
    "duration": 17,
    "start_time": "2022-03-03T13:19:22.501Z"
   },
   {
    "duration": 214,
    "start_time": "2022-03-03T13:19:22.519Z"
   },
   {
    "duration": 5,
    "start_time": "2022-03-03T13:19:22.734Z"
   },
   {
    "duration": 7,
    "start_time": "2022-03-03T13:19:22.740Z"
   },
   {
    "duration": 21,
    "start_time": "2022-03-03T13:19:22.748Z"
   },
   {
    "duration": 77,
    "start_time": "2022-03-03T13:19:22.771Z"
   },
   {
    "duration": 33,
    "start_time": "2022-03-03T13:19:22.849Z"
   },
   {
    "duration": 613,
    "start_time": "2022-03-03T13:19:22.884Z"
   },
   {
    "duration": 249,
    "start_time": "2022-03-03T13:19:23.503Z"
   },
   {
    "duration": 269,
    "start_time": "2022-03-03T13:19:23.755Z"
   },
   {
    "duration": 353,
    "start_time": "2022-03-03T13:19:24.026Z"
   },
   {
    "duration": 314,
    "start_time": "2022-03-03T13:19:24.381Z"
   },
   {
    "duration": 364,
    "start_time": "2022-03-03T13:19:24.697Z"
   },
   {
    "duration": 220,
    "start_time": "2022-03-03T13:19:25.063Z"
   },
   {
    "duration": 6929,
    "start_time": "2022-03-03T13:19:25.285Z"
   },
   {
    "duration": 6,
    "start_time": "2022-03-03T13:19:32.215Z"
   },
   {
    "duration": 6827,
    "start_time": "2022-03-03T13:19:32.223Z"
   },
   {
    "duration": 6,
    "start_time": "2022-03-03T13:19:39.052Z"
   },
   {
    "duration": 9,
    "start_time": "2022-03-03T13:19:39.060Z"
   },
   {
    "duration": 7,
    "start_time": "2022-03-03T13:19:39.071Z"
   },
   {
    "duration": 25,
    "start_time": "2022-03-03T13:19:39.080Z"
   },
   {
    "duration": 4,
    "start_time": "2022-03-03T13:19:39.107Z"
   },
   {
    "duration": 8,
    "start_time": "2022-03-03T13:19:39.112Z"
   },
   {
    "duration": 974,
    "start_time": "2022-03-03T13:19:39.121Z"
   },
   {
    "duration": 8,
    "start_time": "2022-03-03T13:19:40.101Z"
   },
   {
    "duration": 567,
    "start_time": "2022-03-03T13:19:40.110Z"
   },
   {
    "duration": 599,
    "start_time": "2022-03-03T13:19:40.679Z"
   },
   {
    "duration": 610,
    "start_time": "2022-03-03T13:19:41.280Z"
   },
   {
    "duration": 10,
    "start_time": "2022-03-03T13:19:41.892Z"
   },
   {
    "duration": 32,
    "start_time": "2022-03-03T13:19:41.903Z"
   },
   {
    "duration": 48,
    "start_time": "2022-03-03T13:19:41.936Z"
   },
   {
    "duration": 2,
    "start_time": "2022-03-03T13:19:41.986Z"
   },
   {
    "duration": 15,
    "start_time": "2022-03-03T13:19:41.990Z"
   },
   {
    "duration": 14,
    "start_time": "2022-03-03T13:19:42.007Z"
   },
   {
    "duration": 2,
    "start_time": "2022-03-03T13:19:42.022Z"
   },
   {
    "duration": 77,
    "start_time": "2022-03-03T13:19:42.026Z"
   },
   {
    "duration": 55,
    "start_time": "2022-03-03T13:19:42.105Z"
   },
   {
    "duration": 2,
    "start_time": "2022-03-03T13:19:42.162Z"
   },
   {
    "duration": 11,
    "start_time": "2022-03-03T13:19:42.166Z"
   },
   {
    "duration": 26,
    "start_time": "2022-03-03T13:19:42.179Z"
   },
   {
    "duration": 3,
    "start_time": "2022-03-03T13:19:42.206Z"
   },
   {
    "duration": 19,
    "start_time": "2022-03-03T13:19:42.210Z"
   },
   {
    "duration": 16,
    "start_time": "2022-03-03T13:19:42.230Z"
   },
   {
    "duration": 2,
    "start_time": "2022-03-03T13:19:42.248Z"
   },
   {
    "duration": 67,
    "start_time": "2022-03-03T13:19:42.252Z"
   },
   {
    "duration": 25,
    "start_time": "2022-03-03T13:19:42.321Z"
   },
   {
    "duration": 2,
    "start_time": "2022-03-03T13:19:42.347Z"
   },
   {
    "duration": 6,
    "start_time": "2022-03-03T13:19:42.351Z"
   },
   {
    "duration": 4,
    "start_time": "2022-03-03T13:19:42.359Z"
   },
   {
    "duration": 8,
    "start_time": "2022-03-03T13:19:42.364Z"
   },
   {
    "duration": 33,
    "start_time": "2022-03-03T13:19:42.373Z"
   },
   {
    "duration": 2800,
    "start_time": "2022-03-03T14:23:10.567Z"
   },
   {
    "duration": 1526,
    "start_time": "2022-03-03T14:23:13.369Z"
   },
   {
    "duration": 130,
    "start_time": "2022-03-03T14:23:14.897Z"
   },
   {
    "duration": 6,
    "start_time": "2022-03-03T14:23:15.029Z"
   },
   {
    "duration": 145,
    "start_time": "2022-03-03T14:23:15.037Z"
   },
   {
    "duration": 8,
    "start_time": "2022-03-03T14:23:15.183Z"
   },
   {
    "duration": 21,
    "start_time": "2022-03-03T14:23:15.192Z"
   },
   {
    "duration": 13,
    "start_time": "2022-03-03T14:23:15.216Z"
   },
   {
    "duration": 90,
    "start_time": "2022-03-03T14:23:15.231Z"
   },
   {
    "duration": 57,
    "start_time": "2022-03-03T14:23:15.323Z"
   },
   {
    "duration": 205,
    "start_time": "2022-03-03T14:23:15.381Z"
   },
   {
    "duration": 67,
    "start_time": "2022-03-03T14:23:15.587Z"
   },
   {
    "duration": 11,
    "start_time": "2022-03-03T14:23:15.655Z"
   },
   {
    "duration": 134,
    "start_time": "2022-03-03T14:23:15.667Z"
   },
   {
    "duration": 16,
    "start_time": "2022-03-03T14:23:15.803Z"
   },
   {
    "duration": 335,
    "start_time": "2022-03-03T14:23:15.820Z"
   },
   {
    "duration": 5,
    "start_time": "2022-03-03T14:23:16.156Z"
   },
   {
    "duration": 17,
    "start_time": "2022-03-03T14:23:16.162Z"
   },
   {
    "duration": 34,
    "start_time": "2022-03-03T14:23:16.181Z"
   },
   {
    "duration": 7,
    "start_time": "2022-03-03T14:23:16.217Z"
   },
   {
    "duration": 8,
    "start_time": "2022-03-03T14:23:16.226Z"
   },
   {
    "duration": 8,
    "start_time": "2022-03-03T14:23:16.235Z"
   },
   {
    "duration": 4,
    "start_time": "2022-03-03T14:23:16.246Z"
   },
   {
    "duration": 395,
    "start_time": "2022-03-03T14:23:16.253Z"
   },
   {
    "duration": 5,
    "start_time": "2022-03-03T14:23:16.649Z"
   },
   {
    "duration": 451,
    "start_time": "2022-03-03T14:23:16.655Z"
   },
   {
    "duration": 18,
    "start_time": "2022-03-03T14:23:17.108Z"
   },
   {
    "duration": 17,
    "start_time": "2022-03-03T14:23:17.128Z"
   },
   {
    "duration": 147,
    "start_time": "2022-03-03T14:23:17.146Z"
   },
   {
    "duration": 43,
    "start_time": "2022-03-03T14:23:17.295Z"
   },
   {
    "duration": 12,
    "start_time": "2022-03-03T14:23:17.339Z"
   },
   {
    "duration": 6,
    "start_time": "2022-03-03T14:23:17.353Z"
   },
   {
    "duration": 42,
    "start_time": "2022-03-03T14:23:17.361Z"
   },
   {
    "duration": 41,
    "start_time": "2022-03-03T14:23:17.405Z"
   },
   {
    "duration": 56,
    "start_time": "2022-03-03T14:23:17.448Z"
   },
   {
    "duration": 251,
    "start_time": "2022-03-03T14:23:17.505Z"
   },
   {
    "duration": 313,
    "start_time": "2022-03-03T14:23:17.758Z"
   },
   {
    "duration": 60,
    "start_time": "2022-03-03T14:23:18.072Z"
   },
   {
    "duration": 25,
    "start_time": "2022-03-03T14:23:18.133Z"
   },
   {
    "duration": 13,
    "start_time": "2022-03-03T14:23:18.160Z"
   },
   {
    "duration": 27,
    "start_time": "2022-03-03T14:23:18.175Z"
   },
   {
    "duration": 16,
    "start_time": "2022-03-03T14:23:18.203Z"
   },
   {
    "duration": 20946,
    "start_time": "2022-03-03T14:23:18.221Z"
   },
   {
    "duration": 14,
    "start_time": "2022-03-03T14:23:39.169Z"
   },
   {
    "duration": 27,
    "start_time": "2022-03-03T14:23:39.185Z"
   },
   {
    "duration": 61,
    "start_time": "2022-03-03T14:23:39.214Z"
   },
   {
    "duration": 8,
    "start_time": "2022-03-03T14:23:39.277Z"
   },
   {
    "duration": 88,
    "start_time": "2022-03-03T14:23:39.287Z"
   },
   {
    "duration": 24,
    "start_time": "2022-03-03T14:23:39.377Z"
   },
   {
    "duration": 291,
    "start_time": "2022-03-03T14:23:39.403Z"
   },
   {
    "duration": 75,
    "start_time": "2022-03-03T14:23:39.695Z"
   },
   {
    "duration": 9,
    "start_time": "2022-03-03T14:23:39.772Z"
   },
   {
    "duration": 9,
    "start_time": "2022-03-03T14:23:39.802Z"
   },
   {
    "duration": 18,
    "start_time": "2022-03-03T14:23:39.813Z"
   },
   {
    "duration": 15,
    "start_time": "2022-03-03T14:23:39.833Z"
   },
   {
    "duration": 7,
    "start_time": "2022-03-03T14:23:39.850Z"
   },
   {
    "duration": 29,
    "start_time": "2022-03-03T14:23:39.858Z"
   },
   {
    "duration": 44,
    "start_time": "2022-03-03T14:23:39.889Z"
   },
   {
    "duration": 8,
    "start_time": "2022-03-03T14:23:39.935Z"
   },
   {
    "duration": 21,
    "start_time": "2022-03-03T14:23:39.944Z"
   },
   {
    "duration": 315,
    "start_time": "2022-03-03T14:23:39.967Z"
   },
   {
    "duration": 5,
    "start_time": "2022-03-03T14:23:40.284Z"
   },
   {
    "duration": 14,
    "start_time": "2022-03-03T14:23:40.291Z"
   },
   {
    "duration": 19,
    "start_time": "2022-03-03T14:23:40.306Z"
   },
   {
    "duration": 57,
    "start_time": "2022-03-03T14:23:40.327Z"
   },
   {
    "duration": 43,
    "start_time": "2022-03-03T14:23:40.385Z"
   },
   {
    "duration": 17,
    "start_time": "2022-03-03T14:23:40.429Z"
   },
   {
    "duration": 6,
    "start_time": "2022-03-03T14:23:40.451Z"
   },
   {
    "duration": 5,
    "start_time": "2022-03-03T14:23:40.459Z"
   },
   {
    "duration": 40,
    "start_time": "2022-03-03T14:23:40.466Z"
   },
   {
    "duration": 4,
    "start_time": "2022-03-03T14:23:40.507Z"
   },
   {
    "duration": 17,
    "start_time": "2022-03-03T14:23:40.512Z"
   },
   {
    "duration": 18,
    "start_time": "2022-03-03T14:23:40.531Z"
   },
   {
    "duration": 7231,
    "start_time": "2022-03-03T14:23:40.551Z"
   },
   {
    "duration": 6,
    "start_time": "2022-03-03T14:23:47.784Z"
   },
   {
    "duration": 7469,
    "start_time": "2022-03-03T14:23:47.792Z"
   },
   {
    "duration": 6,
    "start_time": "2022-03-03T14:23:55.263Z"
   },
   {
    "duration": 9,
    "start_time": "2022-03-03T14:23:55.271Z"
   },
   {
    "duration": 24,
    "start_time": "2022-03-03T14:23:55.281Z"
   },
   {
    "duration": 9,
    "start_time": "2022-03-03T14:23:55.306Z"
   },
   {
    "duration": 6,
    "start_time": "2022-03-03T14:23:55.316Z"
   },
   {
    "duration": 8,
    "start_time": "2022-03-03T14:23:55.324Z"
   },
   {
    "duration": 979,
    "start_time": "2022-03-03T14:23:55.334Z"
   },
   {
    "duration": 8,
    "start_time": "2022-03-03T14:23:56.315Z"
   },
   {
    "duration": 651,
    "start_time": "2022-03-03T14:23:56.325Z"
   },
   {
    "duration": 609,
    "start_time": "2022-03-03T14:23:56.978Z"
   },
   {
    "duration": 606,
    "start_time": "2022-03-03T14:23:57.589Z"
   },
   {
    "duration": 5,
    "start_time": "2022-03-03T14:23:58.200Z"
   },
   {
    "duration": 32,
    "start_time": "2022-03-03T14:23:58.208Z"
   },
   {
    "duration": 66,
    "start_time": "2022-03-03T14:23:58.241Z"
   },
   {
    "duration": 3,
    "start_time": "2022-03-03T14:23:58.309Z"
   },
   {
    "duration": 7,
    "start_time": "2022-03-03T14:23:58.314Z"
   },
   {
    "duration": 9,
    "start_time": "2022-03-03T14:23:58.322Z"
   },
   {
    "duration": 3,
    "start_time": "2022-03-03T14:23:58.333Z"
   },
   {
    "duration": 89,
    "start_time": "2022-03-03T14:23:58.337Z"
   },
   {
    "duration": 57,
    "start_time": "2022-03-03T14:23:58.428Z"
   },
   {
    "duration": 3,
    "start_time": "2022-03-03T14:23:58.486Z"
   },
   {
    "duration": 19,
    "start_time": "2022-03-03T14:23:58.490Z"
   },
   {
    "duration": 8,
    "start_time": "2022-03-03T14:23:58.511Z"
   },
   {
    "duration": 2,
    "start_time": "2022-03-03T14:23:58.521Z"
   },
   {
    "duration": 18,
    "start_time": "2022-03-03T14:23:58.525Z"
   },
   {
    "duration": 62,
    "start_time": "2022-03-03T14:23:58.545Z"
   },
   {
    "duration": 2,
    "start_time": "2022-03-03T14:23:58.608Z"
   },
   {
    "duration": 37,
    "start_time": "2022-03-03T14:23:58.612Z"
   },
   {
    "duration": 28,
    "start_time": "2022-03-03T14:23:58.651Z"
   },
   {
    "duration": 2,
    "start_time": "2022-03-03T14:23:58.681Z"
   },
   {
    "duration": 5,
    "start_time": "2022-03-03T14:23:58.701Z"
   },
   {
    "duration": 7,
    "start_time": "2022-03-03T14:23:58.707Z"
   },
   {
    "duration": 14,
    "start_time": "2022-03-03T14:23:58.715Z"
   },
   {
    "duration": 11,
    "start_time": "2022-03-03T14:23:58.731Z"
   },
   {
    "duration": 72,
    "start_time": "2022-04-11T16:27:46.181Z"
   },
   {
    "duration": 14082,
    "start_time": "2022-04-11T16:27:54.650Z"
   },
   {
    "duration": 1707,
    "start_time": "2022-04-11T16:28:08.735Z"
   },
   {
    "duration": 384,
    "start_time": "2022-04-11T16:28:10.444Z"
   },
   {
    "duration": 11,
    "start_time": "2022-04-11T16:28:10.831Z"
   },
   {
    "duration": 256,
    "start_time": "2022-04-11T16:28:10.844Z"
   },
   {
    "duration": 11,
    "start_time": "2022-04-11T16:28:11.103Z"
   },
   {
    "duration": 56,
    "start_time": "2022-04-11T16:28:11.117Z"
   },
   {
    "duration": 30,
    "start_time": "2022-04-11T16:28:11.175Z"
   },
   {
    "duration": 112,
    "start_time": "2022-04-11T16:28:11.207Z"
   },
   {
    "duration": 112,
    "start_time": "2022-04-11T16:28:11.323Z"
   },
   {
    "duration": 343,
    "start_time": "2022-04-11T16:28:11.437Z"
   },
   {
    "duration": 114,
    "start_time": "2022-04-11T16:28:11.783Z"
   },
   {
    "duration": 18,
    "start_time": "2022-04-11T16:28:11.899Z"
   },
   {
    "duration": 208,
    "start_time": "2022-04-11T16:28:11.919Z"
   },
   {
    "duration": 37,
    "start_time": "2022-04-11T16:28:12.130Z"
   },
   {
    "duration": 350,
    "start_time": "2022-04-11T16:28:12.169Z"
   },
   {
    "duration": 12,
    "start_time": "2022-04-11T16:28:12.521Z"
   },
   {
    "duration": 52,
    "start_time": "2022-04-11T16:28:12.535Z"
   },
   {
    "duration": 27,
    "start_time": "2022-04-11T16:28:12.588Z"
   },
   {
    "duration": 9,
    "start_time": "2022-04-11T16:28:12.617Z"
   },
   {
    "duration": 11,
    "start_time": "2022-04-11T16:28:12.628Z"
   },
   {
    "duration": 35,
    "start_time": "2022-04-11T16:28:12.641Z"
   },
   {
    "duration": 12,
    "start_time": "2022-04-11T16:28:12.679Z"
   },
   {
    "duration": 636,
    "start_time": "2022-04-11T16:28:12.694Z"
   },
   {
    "duration": 7,
    "start_time": "2022-04-11T16:28:13.332Z"
   },
   {
    "duration": 663,
    "start_time": "2022-04-11T16:28:13.341Z"
   },
   {
    "duration": 25,
    "start_time": "2022-04-11T16:28:14.006Z"
   },
   {
    "duration": 52,
    "start_time": "2022-04-11T16:28:14.038Z"
   },
   {
    "duration": 208,
    "start_time": "2022-04-11T16:28:14.093Z"
   },
   {
    "duration": 31,
    "start_time": "2022-04-11T16:28:14.303Z"
   },
   {
    "duration": 44,
    "start_time": "2022-04-11T16:28:14.336Z"
   },
   {
    "duration": 9,
    "start_time": "2022-04-11T16:28:14.382Z"
   },
   {
    "duration": 45,
    "start_time": "2022-04-11T16:28:14.393Z"
   },
   {
    "duration": 87,
    "start_time": "2022-04-11T16:28:14.441Z"
   },
   {
    "duration": 86,
    "start_time": "2022-04-11T16:28:14.530Z"
   },
   {
    "duration": 327,
    "start_time": "2022-04-11T16:28:14.618Z"
   },
   {
    "duration": 397,
    "start_time": "2022-04-11T16:28:14.947Z"
   },
   {
    "duration": 100,
    "start_time": "2022-04-11T16:28:15.347Z"
   },
   {
    "duration": 58,
    "start_time": "2022-04-11T16:28:15.450Z"
   },
   {
    "duration": 21,
    "start_time": "2022-04-11T16:28:15.510Z"
   },
   {
    "duration": 4,
    "start_time": "2022-04-11T16:28:15.533Z"
   },
   {
    "duration": 40,
    "start_time": "2022-04-11T16:28:15.539Z"
   },
   {
    "duration": 24447,
    "start_time": "2022-04-11T16:28:15.581Z"
   },
   {
    "duration": 20,
    "start_time": "2022-04-11T16:28:40.031Z"
   },
   {
    "duration": 771,
    "start_time": "2022-04-11T16:28:40.070Z"
   },
   {
    "duration": 102,
    "start_time": "2022-04-11T16:28:40.843Z"
   },
   {
    "duration": 12,
    "start_time": "2022-04-11T16:28:40.948Z"
   },
   {
    "duration": 183,
    "start_time": "2022-04-11T16:28:40.972Z"
   },
   {
    "duration": 16,
    "start_time": "2022-04-11T16:28:41.157Z"
   },
   {
    "duration": 367,
    "start_time": "2022-04-11T16:28:41.176Z"
   },
   {
    "duration": 167,
    "start_time": "2022-04-11T16:28:41.546Z"
   },
   {
    "duration": 21,
    "start_time": "2022-04-11T16:28:41.716Z"
   },
   {
    "duration": 45,
    "start_time": "2022-04-11T16:28:41.739Z"
   },
   {
    "duration": 10,
    "start_time": "2022-04-11T16:28:41.787Z"
   },
   {
    "duration": 9,
    "start_time": "2022-04-11T16:28:41.800Z"
   },
   {
    "duration": 13,
    "start_time": "2022-04-11T16:28:41.811Z"
   },
   {
    "duration": 88,
    "start_time": "2022-04-11T16:28:41.826Z"
   },
   {
    "duration": 66,
    "start_time": "2022-04-11T16:28:41.916Z"
   },
   {
    "duration": 15,
    "start_time": "2022-04-11T16:28:41.985Z"
   },
   {
    "duration": 35,
    "start_time": "2022-04-11T16:28:42.003Z"
   },
   {
    "duration": 119,
    "start_time": "2022-04-11T16:28:42.041Z"
   },
   {
    "duration": 12,
    "start_time": "2022-04-11T16:28:42.163Z"
   },
   {
    "duration": 21,
    "start_time": "2022-04-11T16:28:42.178Z"
   },
   {
    "duration": 27,
    "start_time": "2022-04-11T16:28:42.201Z"
   },
   {
    "duration": 121,
    "start_time": "2022-04-11T16:28:42.230Z"
   },
   {
    "duration": 69,
    "start_time": "2022-04-11T16:28:42.354Z"
   },
   {
    "duration": 27,
    "start_time": "2022-04-11T16:28:42.425Z"
   },
   {
    "duration": 24,
    "start_time": "2022-04-11T16:28:42.454Z"
   },
   {
    "duration": 23,
    "start_time": "2022-04-11T16:28:42.480Z"
   },
   {
    "duration": 22,
    "start_time": "2022-04-11T16:28:42.505Z"
   },
   {
    "duration": 5,
    "start_time": "2022-04-11T16:28:42.529Z"
   },
   {
    "duration": 54,
    "start_time": "2022-04-11T16:28:42.537Z"
   },
   {
    "duration": 28,
    "start_time": "2022-04-11T16:28:42.593Z"
   },
   {
    "duration": 10720,
    "start_time": "2022-04-11T16:28:42.623Z"
   },
   {
    "duration": 10,
    "start_time": "2022-04-11T16:28:53.346Z"
   },
   {
    "duration": 12635,
    "start_time": "2022-04-11T16:28:53.368Z"
   },
   {
    "duration": 10,
    "start_time": "2022-04-11T16:29:06.005Z"
   },
   {
    "duration": 24,
    "start_time": "2022-04-11T16:29:06.018Z"
   },
   {
    "duration": 40,
    "start_time": "2022-04-11T16:29:06.044Z"
   },
   {
    "duration": 13,
    "start_time": "2022-04-11T16:29:06.087Z"
   },
   {
    "duration": 8,
    "start_time": "2022-04-11T16:29:06.102Z"
   },
   {
    "duration": 7,
    "start_time": "2022-04-11T16:29:06.120Z"
   },
   {
    "duration": 1479,
    "start_time": "2022-04-11T16:29:06.130Z"
   },
   {
    "duration": 13,
    "start_time": "2022-04-11T16:29:07.612Z"
   },
   {
    "duration": 847,
    "start_time": "2022-04-11T16:29:07.628Z"
   },
   {
    "duration": 842,
    "start_time": "2022-04-11T16:29:08.479Z"
   },
   {
    "duration": 873,
    "start_time": "2022-04-11T16:29:09.324Z"
   },
   {
    "duration": 9,
    "start_time": "2022-04-11T16:29:10.200Z"
   },
   {
    "duration": 60,
    "start_time": "2022-04-11T16:29:10.211Z"
   },
   {
    "duration": 94,
    "start_time": "2022-04-11T16:29:10.274Z"
   },
   {
    "duration": 5,
    "start_time": "2022-04-11T16:29:10.371Z"
   },
   {
    "duration": 24,
    "start_time": "2022-04-11T16:29:10.378Z"
   },
   {
    "duration": 22,
    "start_time": "2022-04-11T16:29:10.404Z"
   },
   {
    "duration": 8,
    "start_time": "2022-04-11T16:29:10.429Z"
   },
   {
    "duration": 112,
    "start_time": "2022-04-11T16:29:10.439Z"
   },
   {
    "duration": 89,
    "start_time": "2022-04-11T16:29:10.553Z"
   },
   {
    "duration": 4,
    "start_time": "2022-04-11T16:29:10.644Z"
   },
   {
    "duration": 34,
    "start_time": "2022-04-11T16:29:10.650Z"
   },
   {
    "duration": 17,
    "start_time": "2022-04-11T16:29:10.686Z"
   },
   {
    "duration": 12,
    "start_time": "2022-04-11T16:29:10.705Z"
   },
   {
    "duration": 59,
    "start_time": "2022-04-11T16:29:10.719Z"
   },
   {
    "duration": 23,
    "start_time": "2022-04-11T16:29:10.780Z"
   },
   {
    "duration": 4,
    "start_time": "2022-04-11T16:29:10.815Z"
   },
   {
    "duration": 83,
    "start_time": "2022-04-11T16:29:10.821Z"
   },
   {
    "duration": 40,
    "start_time": "2022-04-11T16:29:10.906Z"
   },
   {
    "duration": 21,
    "start_time": "2022-04-11T16:29:10.948Z"
   },
   {
    "duration": 24,
    "start_time": "2022-04-11T16:29:10.972Z"
   },
   {
    "duration": 18,
    "start_time": "2022-04-11T16:29:10.999Z"
   },
   {
    "duration": 18,
    "start_time": "2022-04-11T16:29:11.019Z"
   },
   {
    "duration": 20,
    "start_time": "2022-04-11T16:29:11.039Z"
   }
  ],
  "kernelspec": {
   "display_name": "Python 3 (ipykernel)",
   "language": "python",
   "name": "python3"
  },
  "language_info": {
   "codemirror_mode": {
    "name": "ipython",
    "version": 3
   },
   "file_extension": ".py",
   "mimetype": "text/x-python",
   "name": "python",
   "nbconvert_exporter": "python",
   "pygments_lexer": "ipython3",
   "version": "3.9.5"
  },
  "toc": {
   "base_numbering": 1,
   "nav_menu": {},
   "number_sections": true,
   "sideBar": true,
   "skip_h1_title": true,
   "title_cell": "Table of Contents",
   "title_sidebar": "Contents",
   "toc_cell": false,
   "toc_position": {},
   "toc_section_display": true,
   "toc_window_display": false
  }
 },
 "nbformat": 4,
 "nbformat_minor": 2
}
